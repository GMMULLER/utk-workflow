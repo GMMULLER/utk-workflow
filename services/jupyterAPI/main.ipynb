{
 "cells": [
  {
   "cell_type": "code",
   "execution_count": null,
   "id": "9b506d3c-9d12-40a4-b254-4f95973f0b83",
   "metadata": {},
   "outputs": [],
   "source": [
    "import utk"
   ]
  },
  {
   "cell_type": "code",
   "execution_count": null,
   "id": "21a113f1-a883-47e3-bf09-ad1d1b545b61",
   "metadata": {},
   "outputs": [],
   "source": [
    "uc = utk.OSM.load([40.699768, -74.019904, 40.71135, -74.004712], layers=['water', 'parks', 'roads', 'buildings'])\n",
    "uc.save('./data/my_first_vis', includeGrammar=False)"
   ]
  },
  {
   "cell_type": "code",
   "execution_count": null,
   "id": "095f8d0c-8a79-4976-a27a-d67c2ca1dabc",
   "metadata": {},
   "outputs": [],
   "source": [
    "shadow = utk.data.shadow(['../../public/data/downtown_manhattan/buildings.json', '../../public/data/downtown_manhattan/surface.json'], [[\"12/26/2015 10:00\", \"12/26/2015 11:01\"]])\n",
    "shadow.save()"
   ]
  }
 ],
 "metadata": {
  "kernelspec": {
   "display_name": "Python 3 (ipykernel)",
   "language": "python",
   "name": "python3"
  },
  "language_info": {
   "codemirror_mode": {
    "name": "ipython",
    "version": 3
   },
   "file_extension": ".py",
   "mimetype": "text/x-python",
   "name": "python",
   "nbconvert_exporter": "python",
   "pygments_lexer": "ipython3",
   "version": "3.10.11"
  }
 },
 "nbformat": 4,
 "nbformat_minor": 5
}
