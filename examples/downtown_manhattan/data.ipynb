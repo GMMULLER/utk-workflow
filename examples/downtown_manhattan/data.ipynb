{
 "cells": [
  {
   "cell_type": "code",
   "execution_count": 1,
   "metadata": {},
   "outputs": [
    {
     "name": "stdout",
     "output_type": "stream",
     "text": [
      "********************************************************************************\n",
      "PlotOptiX newer version is available: 0.15.1\n",
      "to update your release use:\n",
      "      pip install plotoptix --upgrade\n",
      "********************************************************************************\n"
     ]
    },
    {
     "name": "stderr",
     "output_type": "stream",
     "text": [
      "c:\\Users\\Gustavo\\anaconda3\\envs\\urbantk\\lib\\site-packages\\geopandas\\_compat.py:112: UserWarning: The Shapely GEOS version (3.11.0-CAPI-1.17.0) is incompatible with the GEOS version PyGEOS was compiled with (3.10.4-CAPI-1.16.2). Conversions between both will be slow.\n",
      "  warnings.warn(\n"
     ]
    }
   ],
   "source": [
    "import sys\n",
    "\n",
    "sys.path.insert(0, '../../src/pythonComponents/dataLoading')   \n",
    "\n",
    "import utk\n"
   ]
  },
  {
   "attachments": {},
   "cell_type": "markdown",
   "metadata": {},
   "source": [
    "This script assumes the existance of the folder `public/data/downtown_manhattan` and that `src/params.js` and `src/pythonServerConfig.json` are pointing to the right folder"
   ]
  },
  {
   "attachments": {},
   "cell_type": "markdown",
   "metadata": {},
   "source": [
    "### Loading layers from OSM"
   ]
  },
  {
   "attachments": {},
   "cell_type": "markdown",
   "metadata": {},
   "source": [
    "Loading water, parks, street network (roads), surface, buildings.  \n",
    "\n",
    "Notice that the buildings and surface layers are specified through an object, this structure is used to defined the discretization level of the layer. Check the [documentation](https://github.com/urban-toolkit/urbantk-react-ts/tree/master/src/pythonComponents/dataLoading/README.md) for more details.  \n",
    "\n",
    "The surface is loaded to allow for the ray tracing calculation.  "
   ]
  },
  {
   "cell_type": "code",
   "execution_count": 2,
   "metadata": {},
   "outputs": [
    {
     "data": {
      "application/vnd.jupyter.widget-view+json": {
       "model_id": "c450027a90e34b34853e4776d30cf638",
       "version_major": 2,
       "version_minor": 0
      },
      "text/plain": [
       "  0%|          | 0/213 [00:00<?, ?it/s]"
      ]
     },
     "metadata": {},
     "output_type": "display_data"
    }
   ],
   "source": [
    "uc = utk.OSM.load([40.699768, -74.019904, 40.71135, -74.004712], layers=[{'name':'buildings', 'args': {'sizeCells': 5}}, {'name':'surface', 'args': {'sizeCells': 5}}, 'parks', 'water', 'roads'])\n",
    "uc.save('../../public/data/downtown_manhattan', includeGrammar=False)"
   ]
  },
  {
   "attachments": {},
   "cell_type": "markdown",
   "metadata": {},
   "source": [
    "### Shadow computation (ray tracing)\n",
    "Check the [requirements](https://github.com/urban-toolkit/urbantk-react-ts/tree/master/README.md) for ray tracing."
   ]
  },
  {
   "cell_type": "code",
   "execution_count": 4,
   "metadata": {},
   "outputs": [
    {
     "name": "stderr",
     "output_type": "stream",
     "text": [
      "[WARNING] (MainThread) Raytracing output already running.\n",
      "[WARNING] (MainThread) Raytracing output already running.\n"
     ]
    },
    {
     "ename": "IndexError",
     "evalue": "list index out of range",
     "output_type": "error",
     "traceback": [
      "\u001b[1;31m---------------------------------------------------------------------------\u001b[0m",
      "\u001b[1;31mIndexError\u001b[0m                                Traceback (most recent call last)",
      "\u001b[1;32mc:\\Users\\Gustavo\\code\\urbantk-react-ts\\examples\\downtown_manhattan\\data.ipynb Cell 7\u001b[0m in \u001b[0;36m<cell line: 2>\u001b[1;34m()\u001b[0m\n\u001b[0;32m      <a href='vscode-notebook-cell:/c%3A/Users/Gustavo/code/urbantk-react-ts/examples/downtown_manhattan/data.ipynb#W3sZmlsZQ%3D%3D?line=0'>1</a>\u001b[0m shadow \u001b[39m=\u001b[39m utk\u001b[39m.\u001b[39mdata\u001b[39m.\u001b[39mshadow([\u001b[39m'\u001b[39m\u001b[39m../../public/data/downtown_manhattan/buildings.json\u001b[39m\u001b[39m'\u001b[39m, \u001b[39m'\u001b[39m\u001b[39m../../public/data/downtown_manhattan/surface.json\u001b[39m\u001b[39m'\u001b[39m], [[\u001b[39m\"\u001b[39m\u001b[39m12/26/2015 15:00\u001b[39m\u001b[39m\"\u001b[39m, \u001b[39m\"\u001b[39m\u001b[39m12/26/2015 17:01\u001b[39m\u001b[39m\"\u001b[39m]])\n\u001b[1;32m----> <a href='vscode-notebook-cell:/c%3A/Users/Gustavo/code/urbantk-react-ts/examples/downtown_manhattan/data.ipynb#W3sZmlsZQ%3D%3D?line=1'>2</a>\u001b[0m shadow\u001b[39m.\u001b[39;49msave()\n",
      "File \u001b[1;32mc:\\Users\\Gustavo\\code\\urbantk-react-ts\\examples\\downtown_manhattan\\../../src/pythonComponents/dataLoading\\shadowAccumulator.py:284\u001b[0m, in \u001b[0;36mShadowAccumulator.save\u001b[1;34m(self)\u001b[0m\n\u001b[0;32m    274\u001b[0m \u001b[39m# decoupled abstract layer\u001b[39;00m\n\u001b[0;32m    275\u001b[0m \u001b[39m# shadow_layer = {'id': \"shadow\"+str(function_index), 'coordinates': [round(item,4) for item in self.flat_coords], 'values': [round(item,4) for item in function_values]}\u001b[39;00m\n\u001b[0;32m    276\u001b[0m \n\u001b[1;32m   (...)\u001b[0m\n\u001b[0;32m    279\u001b[0m \u001b[39m# with open(os.path.join(directory, \"shadow\"+str(function_index)+\".json\"), \"w\") as outfile:\u001b[39;00m\n\u001b[0;32m    280\u001b[0m \u001b[39m#     json.dump(shadow_layer, outfile)\u001b[39;00m\n\u001b[0;32m    282\u001b[0m \u001b[39mfor\u001b[39;00m index, geometries_count \u001b[39min\u001b[39;00m \u001b[39menumerate\u001b[39m(\u001b[39mself\u001b[39m\u001b[39m.\u001b[39mcoords_per_file):\n\u001b[1;32m--> 284\u001b[0m     fileName \u001b[39m=\u001b[39m os\u001b[39m.\u001b[39mpath\u001b[39m.\u001b[39msplitext(os\u001b[39m.\u001b[39mpath\u001b[39m.\u001b[39mbasename(\u001b[39mself\u001b[39;49m\u001b[39m.\u001b[39;49mfilespaths[index]))[\u001b[39m0\u001b[39m]\n\u001b[0;32m    286\u001b[0m     directory \u001b[39m=\u001b[39m os\u001b[39m.\u001b[39mpath\u001b[39m.\u001b[39mdirname(\u001b[39mself\u001b[39m\u001b[39m.\u001b[39mfilespaths[index])\n\u001b[0;32m    288\u001b[0m     function_values_this_file \u001b[39m=\u001b[39m []\n",
      "\u001b[1;31mIndexError\u001b[0m: list index out of range"
     ]
    }
   ],
   "source": [
    "shadow = utk.data.shadow(['../../public/data/downtown_manhattan/buildings.json', '../../public/data/downtown_manhattan/surface.json'], [[\"12/26/2015 10:00\", \"12/26/2015 11:01\"]])\n",
    "shadow.save()"
   ]
  },
  {
   "attachments": {},
   "cell_type": "markdown",
   "metadata": {},
   "source": [
    "### Visualizing\n",
    "Assumes that the application is running and the grammar specification is in the `public/data/downtown_manhattan` folder"
   ]
  },
  {
   "cell_type": "code",
   "execution_count": null,
   "metadata": {},
   "outputs": [],
   "source": [
    "uc.view()"
   ]
  }
 ],
 "metadata": {
  "kernelspec": {
   "display_name": "urbantk",
   "language": "python",
   "name": "python3"
  },
  "language_info": {
   "codemirror_mode": {
    "name": "ipython",
    "version": 3
   },
   "file_extension": ".py",
   "mimetype": "text/x-python",
   "name": "python",
   "nbconvert_exporter": "python",
   "pygments_lexer": "ipython3",
   "version": "3.10.6"
  },
  "orig_nbformat": 4
 },
 "nbformat": 4,
 "nbformat_minor": 2
}
