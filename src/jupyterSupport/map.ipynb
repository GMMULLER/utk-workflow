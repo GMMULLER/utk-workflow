{
 "cells": [
  {
   "cell_type": "code",
   "execution_count": 1,
   "metadata": {},
   "outputs": [],
   "source": [
    "from loader import *\n",
    "from urbanComponent import *\n",
    "import geopandas as gpd\n",
    "import pandas as pd\n",
    "# import sys\n",
    "# sys.path.insert(0,'../../')"
   ]
  },
  {
   "cell_type": "code",
   "execution_count": 2,
   "metadata": {},
   "outputs": [
    {
     "ename": "KeyboardInterrupt",
     "evalue": "",
     "output_type": "error",
     "traceback": [
      "\u001b[1;31m---------------------------------------------------------------------------\u001b[0m",
      "\u001b[1;31mKeyboardInterrupt\u001b[0m                         Traceback (most recent call last)",
      "\u001b[1;32mc:\\Users\\Gustavo\\code\\urbantk-react-ts\\src\\jupyterSupport\\map.ipynb Cell 2\u001b[0m in \u001b[0;36m<cell line: 11>\u001b[1;34m()\u001b[0m\n\u001b[0;32m      <a href='vscode-notebook-cell:/c%3A/Users/Gustavo/code/urbantk-react-ts/src/jupyterSupport/map.ipynb#W1sZmlsZQ%3D%3D?line=0'>1</a>\u001b[0m \u001b[39m# df_buildings = OSM.create_dataframe('osm_pbf_files/new-york-latest.osm.pbf', [40.699768, -74.019904, 40.71135, -74.004712])\u001b[39;00m\n\u001b[0;32m      <a href='vscode-notebook-cell:/c%3A/Users/Gustavo/code/urbantk-react-ts/src/jupyterSupport/map.ipynb#W1sZmlsZQ%3D%3D?line=1'>2</a>\u001b[0m \u001b[39m# df_buildings = OSM.create_dataframe('osm_pbf_files/nyc.osm.pbf', [40.699768, -74.019904, 40.71135, -74.004712])\u001b[39;00m\n\u001b[0;32m      <a href='vscode-notebook-cell:/c%3A/Users/Gustavo/code/urbantk-react-ts/src/jupyterSupport/map.ipynb#W1sZmlsZQ%3D%3D?line=2'>3</a>\u001b[0m \u001b[39m# df_merged_buildings = OSM.merge_buildings(df_buildings)\u001b[39;00m\n\u001b[1;32m   (...)\u001b[0m\n\u001b[0;32m      <a href='vscode-notebook-cell:/c%3A/Users/Gustavo/code/urbantk-react-ts/src/jupyterSupport/map.ipynb#W1sZmlsZQ%3D%3D?line=5'>6</a>\u001b[0m \n\u001b[0;32m      <a href='vscode-notebook-cell:/c%3A/Users/Gustavo/code/urbantk-react-ts/src/jupyterSupport/map.ipynb#W1sZmlsZQ%3D%3D?line=6'>7</a>\u001b[0m \u001b[39m# df_mesh.to_pickle('buildings_nyc.pkl.zip')\u001b[39;00m\n\u001b[0;32m      <a href='vscode-notebook-cell:/c%3A/Users/Gustavo/code/urbantk-react-ts/src/jupyterSupport/map.ipynb#W1sZmlsZQ%3D%3D?line=8'>9</a>\u001b[0m df_mesh \u001b[39m=\u001b[39m pd\u001b[39m.\u001b[39mread_pickle(\u001b[39m'\u001b[39m\u001b[39mbuildings_nyc.pkl.zip\u001b[39m\u001b[39m'\u001b[39m)\n\u001b[1;32m---> <a href='vscode-notebook-cell:/c%3A/Users/Gustavo/code/urbantk-react-ts/src/jupyterSupport/map.ipynb#W1sZmlsZQ%3D%3D?line=10'>11</a>\u001b[0m json_mesh \u001b[39m=\u001b[39m Mesh\u001b[39m.\u001b[39;49mgdf_to_json(df_mesh)\n\u001b[0;32m     <a href='vscode-notebook-cell:/c%3A/Users/Gustavo/code/urbantk-react-ts/src/jupyterSupport/map.ipynb#W1sZmlsZQ%3D%3D?line=12'>13</a>\u001b[0m \u001b[39mwith\u001b[39;00m \u001b[39mopen\u001b[39m(\u001b[39m\"\u001b[39m\u001b[39mbuildings.json\u001b[39m\u001b[39m\"\u001b[39m, \u001b[39m\"\u001b[39m\u001b[39mw\u001b[39m\u001b[39m\"\u001b[39m) \u001b[39mas\u001b[39;00m outfile:\n\u001b[0;32m     <a href='vscode-notebook-cell:/c%3A/Users/Gustavo/code/urbantk-react-ts/src/jupyterSupport/map.ipynb#W1sZmlsZQ%3D%3D?line=13'>14</a>\u001b[0m     json\u001b[39m.\u001b[39mdump(json_mesh, outfile, indent\u001b[39m=\u001b[39m\u001b[39m4\u001b[39m)\n",
      "File \u001b[1;32mc:\\Users\\Gustavo\\code\\urbantk-react-ts\\src\\jupyterSupport\\loader.py:1219\u001b[0m, in \u001b[0;36mMesh.gdf_to_json\u001b[1;34m(gdf, layer_id, layer_type, renderStyle, styleKey, visible, selectable, skip)\u001b[0m\n\u001b[0;32m   1214\u001b[0m \u001b[39mfor\u001b[39;00m key \u001b[39min\u001b[39;00m gdf_raw_dict[\u001b[39m\"\u001b[39m\u001b[39mcoordinates\u001b[39m\u001b[39m\"\u001b[39m]:\n\u001b[0;32m   1215\u001b[0m     \u001b[39mfor\u001b[39;00m sublist \u001b[39min\u001b[39;00m gdf_raw_dict[\u001b[39m\"\u001b[39m\u001b[39mcoordinates\u001b[39m\u001b[39m\"\u001b[39m][\u001b[39mstr\u001b[39m(key)]:\n\u001b[0;32m   1216\u001b[0m         \u001b[39m# x_array.append(sublist[0])\u001b[39;00m\n\u001b[0;32m   1217\u001b[0m         \u001b[39m# y_array.append(sublist[1])\u001b[39;00m\n\u001b[0;32m   1218\u001b[0m         \u001b[39m# z_array.append(sublist[2])\u001b[39;00m\n\u001b[1;32m-> 1219\u001b[0m         x2,y2 \u001b[39m=\u001b[39m transform(inProj,outProj,sublist[\u001b[39m0\u001b[39;49m],sublist[\u001b[39m1\u001b[39;49m])\n\u001b[0;32m   1220\u001b[0m         flattened_coordinates \u001b[39m+\u001b[39m\u001b[39m=\u001b[39m [y2,x2,sublist[\u001b[39m2\u001b[39m]]\n\u001b[0;32m   1222\u001b[0m \u001b[39m# x2_array, y2_array = transform(inProj,outProj,x_array,y_array)\u001b[39;00m\n\u001b[0;32m   1223\u001b[0m \n\u001b[0;32m   1224\u001b[0m \u001b[39m# print(x2_array, y2_array)\u001b[39;00m\n\u001b[0;32m   1225\u001b[0m \n\u001b[0;32m   1226\u001b[0m \u001b[39m# return 1\u001b[39;00m\n",
      "File \u001b[1;32mc:\\Users\\Gustavo\\anaconda3\\envs\\urbantk\\lib\\site-packages\\pyproj\\transformer.py:1202\u001b[0m, in \u001b[0;36mtransform\u001b[1;34m(p1, p2, x, y, z, tt, radians, errcheck, skip_equivalent, always_xy)\u001b[0m\n\u001b[0;32m   1118\u001b[0m \u001b[39m\"\"\"\u001b[39;00m\n\u001b[0;32m   1119\u001b[0m \u001b[39m.. versionadded:: 2.1.2 skip_equivalent\u001b[39;00m\n\u001b[0;32m   1120\u001b[0m \u001b[39m.. versionadded:: 2.2.0 always_xy\u001b[39;00m\n\u001b[1;32m   (...)\u001b[0m\n\u001b[0;32m   1191\u001b[0m \u001b[39m' -92.220  -94.720  -90.370 38.830 39.320 38.750'\u001b[39;00m\n\u001b[0;32m   1192\u001b[0m \u001b[39m\"\"\"\u001b[39;00m\n\u001b[0;32m   1193\u001b[0m warnings\u001b[39m.\u001b[39mwarn(\n\u001b[0;32m   1194\u001b[0m     (\n\u001b[0;32m   1195\u001b[0m         \u001b[39m\"\u001b[39m\u001b[39mThis function is deprecated. \u001b[39m\u001b[39m\"\u001b[39m\n\u001b[1;32m   (...)\u001b[0m\n\u001b[0;32m   1200\u001b[0m     stacklevel\u001b[39m=\u001b[39m\u001b[39m2\u001b[39m,\n\u001b[0;32m   1201\u001b[0m )\n\u001b[1;32m-> 1202\u001b[0m \u001b[39mreturn\u001b[39;00m Transformer\u001b[39m.\u001b[39;49mfrom_proj(\n\u001b[0;32m   1203\u001b[0m     p1, p2, skip_equivalent\u001b[39m=\u001b[39;49mskip_equivalent, always_xy\u001b[39m=\u001b[39;49malways_xy\n\u001b[0;32m   1204\u001b[0m )\u001b[39m.\u001b[39mtransform(xx\u001b[39m=\u001b[39mx, yy\u001b[39m=\u001b[39my, zz\u001b[39m=\u001b[39mz, tt\u001b[39m=\u001b[39mtt, radians\u001b[39m=\u001b[39mradians, errcheck\u001b[39m=\u001b[39merrcheck)\n",
      "File \u001b[1;32mc:\\Users\\Gustavo\\anaconda3\\envs\\urbantk\\lib\\site-packages\\pyproj\\transformer.py:503\u001b[0m, in \u001b[0;36mTransformer.from_proj\u001b[1;34m(proj_from, proj_to, skip_equivalent, always_xy, area_of_interest)\u001b[0m\n\u001b[0;32m    500\u001b[0m \u001b[39mif\u001b[39;00m \u001b[39mnot\u001b[39;00m \u001b[39misinstance\u001b[39m(proj_to, Proj):\n\u001b[0;32m    501\u001b[0m     proj_to \u001b[39m=\u001b[39m Proj(proj_to)\n\u001b[1;32m--> 503\u001b[0m \u001b[39mreturn\u001b[39;00m Transformer\u001b[39m.\u001b[39;49mfrom_crs(\n\u001b[0;32m    504\u001b[0m     proj_from\u001b[39m.\u001b[39;49mcrs,\n\u001b[0;32m    505\u001b[0m     proj_to\u001b[39m.\u001b[39;49mcrs,\n\u001b[0;32m    506\u001b[0m     skip_equivalent\u001b[39m=\u001b[39;49mskip_equivalent,\n\u001b[0;32m    507\u001b[0m     always_xy\u001b[39m=\u001b[39;49malways_xy,\n\u001b[0;32m    508\u001b[0m     area_of_interest\u001b[39m=\u001b[39;49marea_of_interest,\n\u001b[0;32m    509\u001b[0m )\n",
      "File \u001b[1;32mc:\\Users\\Gustavo\\anaconda3\\envs\\urbantk\\lib\\site-packages\\pyproj\\transformer.py:573\u001b[0m, in \u001b[0;36mTransformer.from_crs\u001b[1;34m(crs_from, crs_to, skip_equivalent, always_xy, area_of_interest, authority, accuracy, allow_ballpark)\u001b[0m\n\u001b[0;32m    566\u001b[0m \u001b[39mif\u001b[39;00m skip_equivalent:\n\u001b[0;32m    567\u001b[0m     warnings\u001b[39m.\u001b[39mwarn(\n\u001b[0;32m    568\u001b[0m         \u001b[39m\"\u001b[39m\u001b[39mskip_equivalent is deprecated.\u001b[39m\u001b[39m\"\u001b[39m,\n\u001b[0;32m    569\u001b[0m         \u001b[39mDeprecationWarning\u001b[39;00m,\n\u001b[0;32m    570\u001b[0m         stacklevel\u001b[39m=\u001b[39m\u001b[39m2\u001b[39m,\n\u001b[0;32m    571\u001b[0m     )\n\u001b[1;32m--> 573\u001b[0m \u001b[39mreturn\u001b[39;00m Transformer(\n\u001b[0;32m    574\u001b[0m     TransformerFromCRS(\n\u001b[0;32m    575\u001b[0m         cstrencode(CRS\u001b[39m.\u001b[39;49mfrom_user_input(crs_from)\u001b[39m.\u001b[39;49msrs),\n\u001b[0;32m    576\u001b[0m         cstrencode(CRS\u001b[39m.\u001b[39;49mfrom_user_input(crs_to)\u001b[39m.\u001b[39;49msrs),\n\u001b[0;32m    577\u001b[0m         always_xy\u001b[39m=\u001b[39;49malways_xy,\n\u001b[0;32m    578\u001b[0m         area_of_interest\u001b[39m=\u001b[39;49marea_of_interest,\n\u001b[0;32m    579\u001b[0m         authority\u001b[39m=\u001b[39;49mauthority,\n\u001b[0;32m    580\u001b[0m         accuracy\u001b[39m=\u001b[39;49maccuracy \u001b[39mif\u001b[39;49;00m accuracy \u001b[39mis\u001b[39;49;00m \u001b[39mNone\u001b[39;49;00m \u001b[39melse\u001b[39;49;00m \u001b[39mstr\u001b[39;49m(accuracy),\n\u001b[0;32m    581\u001b[0m         allow_ballpark\u001b[39m=\u001b[39;49mallow_ballpark,\n\u001b[0;32m    582\u001b[0m     )\n\u001b[0;32m    583\u001b[0m )\n",
      "File \u001b[1;32mc:\\Users\\Gustavo\\anaconda3\\envs\\urbantk\\lib\\site-packages\\pyproj\\transformer.py:310\u001b[0m, in \u001b[0;36mTransformer.__init__\u001b[1;34m(self, transformer_maker)\u001b[0m\n\u001b[0;32m    304\u001b[0m     \u001b[39mraise\u001b[39;00m ProjError(\n\u001b[0;32m    305\u001b[0m         \u001b[39m\"\u001b[39m\u001b[39mTransformer must be initialized using: \u001b[39m\u001b[39m\"\u001b[39m\n\u001b[0;32m    306\u001b[0m         \u001b[39m\"\u001b[39m\u001b[39m'\u001b[39m\u001b[39mfrom_crs\u001b[39m\u001b[39m'\u001b[39m\u001b[39m, \u001b[39m\u001b[39m'\u001b[39m\u001b[39mfrom_pipeline\u001b[39m\u001b[39m'\u001b[39m\u001b[39m, or \u001b[39m\u001b[39m'\u001b[39m\u001b[39mfrom_proj\u001b[39m\u001b[39m'\u001b[39m\u001b[39m.\u001b[39m\u001b[39m\"\u001b[39m\n\u001b[0;32m    307\u001b[0m     )\n\u001b[0;32m    309\u001b[0m \u001b[39mself\u001b[39m\u001b[39m.\u001b[39m_local \u001b[39m=\u001b[39m TransformerLocal()\n\u001b[1;32m--> 310\u001b[0m \u001b[39mself\u001b[39m\u001b[39m.\u001b[39m_local\u001b[39m.\u001b[39mtransformer \u001b[39m=\u001b[39m transformer_maker()\n\u001b[0;32m    311\u001b[0m \u001b[39mself\u001b[39m\u001b[39m.\u001b[39m_transformer_maker \u001b[39m=\u001b[39m transformer_maker\n",
      "File \u001b[1;32mc:\\Users\\Gustavo\\anaconda3\\envs\\urbantk\\lib\\site-packages\\pyproj\\transformer.py:97\u001b[0m, in \u001b[0;36mTransformerFromCRS.__call__\u001b[1;34m(self)\u001b[0m\n\u001b[0;32m     91\u001b[0m \u001b[39mdef\u001b[39;00m \u001b[39m__call__\u001b[39m(\u001b[39mself\u001b[39m) \u001b[39m-\u001b[39m\u001b[39m>\u001b[39m _Transformer:\n\u001b[0;32m     92\u001b[0m     \u001b[39m\"\"\"\u001b[39;00m\n\u001b[0;32m     93\u001b[0m \u001b[39m    Returns\u001b[39;00m\n\u001b[0;32m     94\u001b[0m \u001b[39m    -------\u001b[39;00m\n\u001b[0;32m     95\u001b[0m \u001b[39m    _Transformer\u001b[39;00m\n\u001b[0;32m     96\u001b[0m \u001b[39m    \"\"\"\u001b[39;00m\n\u001b[1;32m---> 97\u001b[0m     \u001b[39mreturn\u001b[39;00m _Transformer\u001b[39m.\u001b[39;49mfrom_crs(\n\u001b[0;32m     98\u001b[0m         \u001b[39mself\u001b[39;49m\u001b[39m.\u001b[39;49mcrs_from,\n\u001b[0;32m     99\u001b[0m         \u001b[39mself\u001b[39;49m\u001b[39m.\u001b[39;49mcrs_to,\n\u001b[0;32m    100\u001b[0m         always_xy\u001b[39m=\u001b[39;49m\u001b[39mself\u001b[39;49m\u001b[39m.\u001b[39;49malways_xy,\n\u001b[0;32m    101\u001b[0m         area_of_interest\u001b[39m=\u001b[39;49m\u001b[39mself\u001b[39;49m\u001b[39m.\u001b[39;49marea_of_interest,\n\u001b[0;32m    102\u001b[0m         authority\u001b[39m=\u001b[39;49m\u001b[39mself\u001b[39;49m\u001b[39m.\u001b[39;49mauthority,\n\u001b[0;32m    103\u001b[0m         accuracy\u001b[39m=\u001b[39;49m\u001b[39mself\u001b[39;49m\u001b[39m.\u001b[39;49maccuracy,\n\u001b[0;32m    104\u001b[0m         allow_ballpark\u001b[39m=\u001b[39;49m\u001b[39mself\u001b[39;49m\u001b[39m.\u001b[39;49mallow_ballpark,\n\u001b[0;32m    105\u001b[0m     )\n",
      "\u001b[1;31mKeyboardInterrupt\u001b[0m: "
     ]
    }
   ],
   "source": [
    "# df_buildings = OSM.create_dataframe('osm_pbf_files/new-york-latest.osm.pbf', [40.699768, -74.019904, 40.71135, -74.004712])\n",
    "# df_buildings = OSM.create_dataframe('osm_pbf_files/nyc.osm.pbf', [40.699768, -74.019904, 40.71135, -74.004712])\n",
    "# df_merged_buildings = OSM.merge_buildings(df_buildings)\n",
    "\n",
    "# df_mesh = Mesh.create_mesh(df_merged_buildings, 5) #gdf, size\n",
    "\n",
    "# df_mesh.to_pickle('buildings_nyc.pkl.zip')\n",
    "\n",
    "df_mesh = pd.read_pickle('buildings_nyc.pkl.zip')\n",
    "\n",
    "json_mesh = Mesh.gdf_to_json(df_mesh)\n",
    "\n",
    "with open(\"buildings.json\", \"w\") as outfile:\n",
    "    json.dump(json_mesh, outfile, indent=4)\n",
    "\n",
    "# urban_component = new UrbanComponent(layers = loaded, bbox = bbox, camera = cam)"
   ]
  },
  {
   "cell_type": "code",
   "execution_count": 12,
   "metadata": {},
   "outputs": [
    {
     "data": {
      "text/plain": [
       "<vedo.plotter.Plotter at 0x1ceaf613f10>"
      ]
     },
     "execution_count": 12,
     "metadata": {},
     "output_type": "execute_result"
    }
   ],
   "source": [
    "# uc.view(width='100%',height='800px')\n",
    "Mesh.view(df_mesh)\n"
   ]
  }
 ],
 "metadata": {
  "kernelspec": {
   "display_name": "Python 3.10.6 ('urbantk')",
   "language": "python",
   "name": "python3"
  },
  "language_info": {
   "codemirror_mode": {
    "name": "ipython",
    "version": 3
   },
   "file_extension": ".py",
   "mimetype": "text/x-python",
   "name": "python",
   "nbconvert_exporter": "python",
   "pygments_lexer": "ipython3",
   "version": "3.10.6"
  },
  "orig_nbformat": 4,
  "vscode": {
   "interpreter": {
    "hash": "417a5b75eced6a10a6aab538a5d6d1aa2801868f4335db3e9395b85b77ab2694"
   }
  }
 },
 "nbformat": 4,
 "nbformat_minor": 2
}
