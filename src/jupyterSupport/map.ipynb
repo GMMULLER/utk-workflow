{
 "cells": [
  {
   "cell_type": "code",
   "execution_count": 1,
   "metadata": {},
   "outputs": [],
   "source": [
    "from loader import *\n",
    "from urbanComponent import *\n",
    "import geopandas as gpd\n",
    "import pandas as pd\n",
    "# import sys\n",
    "# sys.path.insert(0,'../../')"
   ]
  },
  {
   "cell_type": "code",
   "execution_count": 3,
   "metadata": {},
   "outputs": [
    {
     "name": "stdout",
     "output_type": "stream",
     "text": [
      "invalid area (area_id=533866792)\n",
      "osmium.osm.Area(id=533866792, deleted=False, visible=True, version=2, changeset=0, uid=0, timestamp=datetime.datetime(2022, 3, 14, 23, 26, 8, tzinfo=datetime.timezone.utc), user='', tags=osmium.osm.TagList({'addr:housenumber': '178', 'addr:postcode': '10128', 'addr:street': 'East 88th Street', 'building': 'yes', 'height': '15.4', 'nycdoitt:bin': '1048058'}))\n"
     ]
    },
    {
     "data": {
      "application/vnd.jupyter.widget-view+json": {
       "model_id": "332af72041804d40a7ac9e93e4d5a3e4",
       "version_major": 2,
       "version_minor": 0
      },
      "text/plain": [
       "  0%|          | 0/1194 [00:00<?, ?it/s]"
      ]
     },
     "metadata": {},
     "output_type": "display_data"
    },
    {
     "data": {
      "application/vnd.jupyter.widget-view+json": {
       "model_id": "b192dd397c1549ed86175a2ea9fab5bd",
       "version_major": 2,
       "version_minor": 0
      },
      "text/plain": [
       "  0%|          | 0/203 [00:00<?, ?it/s]"
      ]
     },
     "metadata": {},
     "output_type": "display_data"
    }
   ],
   "source": [
    "# df_buildings = OSM.create_dataframe('osm_pbf_files/greenland-latest.osm.pbf')\n",
    "df_buildings = OSM.create_dataframe('osm_pbf_files/nyc.osm.pbf', [40.699768, -74.019904, 40.71135, -74.004712])\n",
    "df_merged_buildings = OSM.merge_buildings(df_buildings)\n",
    "\n",
    "df_mesh = Mesh.create_mesh(df_merged_buildings, -1) #gdf, size\n",
    "\n",
    "df_mesh.to_pickle('buildings_nyc_3395.pkl.zip')\n",
    "\n",
    "# df_mesh = pd.read_pickle('buildings_nyc_3395.pkl.zip')\n",
    "\n",
    "# print(df_mesh)\n",
    "\n",
    "# json_mesh = Mesh.gdf_to_json(df_mesh)\n",
    "\n",
    "# with open(\"buildings.json\", \"w\") as outfile:\n",
    "#     json.dump(json_mesh, outfile, indent=4)\n",
    "\n",
    "# urban_component = new UrbanComponent(layers = loaded, bbox = bbox, camera = cam)"
   ]
  },
  {
   "cell_type": "code",
   "execution_count": 6,
   "metadata": {},
   "outputs": [
    {
     "data": {
      "text/plain": [
       "<vedo.plotter.Plotter at 0x244c421ea40>"
      ]
     },
     "execution_count": 6,
     "metadata": {},
     "output_type": "execute_result"
    }
   ],
   "source": [
    "# uc.view(width='100%',height='800px')\n",
    "Mesh.view(df_mesh)\n"
   ]
  }
 ],
 "metadata": {
  "kernelspec": {
   "display_name": "Python 3.10.6 ('urbantk')",
   "language": "python",
   "name": "python3"
  },
  "language_info": {
   "codemirror_mode": {
    "name": "ipython",
    "version": 3
   },
   "file_extension": ".py",
   "mimetype": "text/x-python",
   "name": "python",
   "nbconvert_exporter": "python",
   "pygments_lexer": "ipython3",
   "version": "3.10.6"
  },
  "orig_nbformat": 4,
  "vscode": {
   "interpreter": {
    "hash": "417a5b75eced6a10a6aab538a5d6d1aa2801868f4335db3e9395b85b77ab2694"
   }
  }
 },
 "nbformat": 4,
 "nbformat_minor": 2
}
