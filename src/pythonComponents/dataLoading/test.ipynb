{
 "cells": [
  {
   "cell_type": "code",
   "execution_count": null,
   "metadata": {},
   "outputs": [],
   "source": [
    "import math"
   ]
  },
  {
   "cell_type": "code",
   "execution_count": null,
   "metadata": {},
   "outputs": [],
   "source": [
    "def getUV(listPoints, anchor1, anchor2, p):\n",
    "    if(p == anchor2):\n",
    "        return 1\n",
    "    elif(p == anchor1):\n",
    "        return 0\n",
    "    elif(anchor1 == anchor2):\n",
    "        return 1\n",
    "\n",
    "    distanceAnchor1 = math.sqrt(math.pow(listPoints[p][0] - listPoints[anchor1][0], 2) + math.pow(listPoints[p][1] - listPoints[anchor1][1], 2))\n",
    "    dTotal = math.sqrt(math.pow(listPoints[anchor2][0] - listPoints[anchor1][0], 2) + math.pow(listPoints[anchor2][1] - listPoints[anchor1][1], 2))\n",
    "\n",
    "    return distanceAnchor1/dTotal"
   ]
  },
  {
   "cell_type": "code",
   "execution_count": null,
   "metadata": {},
   "outputs": [],
   "source": [
    "lastCorner = -1\n",
    "firstCorner = -1\n",
    "\n",
    "footPrintPoints = [[-1,1], [0,1], [1,1], [1,0], [1,-1], [0,-1], [-1,-1], [-1,0], [-1,1]]\n",
    "\n",
    "isCorner = [True, False, True, False, True, False, True, False, True]\n",
    "\n",
    "uvPerPoint = []\n",
    "\n",
    "for index, value in enumerate(isCorner):\n",
    "    if value:\n",
    "        lastCorner = index\n",
    "        firstCorner = index\n",
    "        break\n",
    "\n",
    "for index in range(0, len(footPrintPoints)):\n",
    "    if isCorner[index]:\n",
    "        lastCorner = index\n",
    "\n",
    "    nextCorner = firstCorner # if there is no next corner it circles back to the beggining\n",
    "\n",
    "    for i in range(index, len(footPrintPoints)): # look for the next corner\n",
    "        if isCorner[i]:\n",
    "            nextCorner = i\n",
    "            break\n",
    "\n",
    "    uv = getUV(footPrintPoints, lastCorner, nextCorner, index)\n",
    "\n",
    "    uvPerPoint.append(uv)"
   ]
  },
  {
   "cell_type": "code",
   "execution_count": null,
   "metadata": {},
   "outputs": [],
   "source": [
    "uvPerPoint"
   ]
  }
 ],
 "metadata": {
  "kernelspec": {
   "display_name": "Python 3.10.6 ('urbantk')",
   "language": "python",
   "name": "python3"
  },
  "language_info": {
   "codemirror_mode": {
    "name": "ipython",
    "version": 3
   },
   "file_extension": ".py",
   "mimetype": "text/x-python",
   "name": "python",
   "nbconvert_exporter": "python",
   "pygments_lexer": "ipython3",
   "version": "3.10.6"
  },
  "orig_nbformat": 4,
  "vscode": {
   "interpreter": {
    "hash": "417a5b75eced6a10a6aab538a5d6d1aa2801868f4335db3e9395b85b77ab2694"
   }
  }
 },
 "nbformat": 4,
 "nbformat_minor": 2
}
