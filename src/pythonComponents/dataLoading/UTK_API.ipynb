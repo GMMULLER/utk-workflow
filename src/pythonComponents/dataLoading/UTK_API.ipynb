{
 "cells": [
  {
   "cell_type": "code",
   "execution_count": 1,
   "metadata": {},
   "outputs": [
    {
     "name": "stdout",
     "output_type": "stream",
     "text": [
      "********************************************************************************\n",
      "PlotOptiX newer version is available: 0.15.1\n",
      "to update your release use:\n",
      "      pip install plotoptix --upgrade\n",
      "********************************************************************************\n"
     ]
    },
    {
     "name": "stderr",
     "output_type": "stream",
     "text": [
      "c:\\Users\\Gustavo\\anaconda3\\envs\\urbantk\\lib\\site-packages\\geopandas\\_compat.py:112: UserWarning: The Shapely GEOS version (3.11.0-CAPI-1.17.0) is incompatible with the GEOS version PyGEOS was compiled with (3.10.4-CAPI-1.16.2). Conversions between both will be slow.\n",
      "  warnings.warn(\n"
     ]
    }
   ],
   "source": [
    "import utk"
   ]
  },
  {
   "attachments": {},
   "cell_type": "markdown",
   "metadata": {},
   "source": [
    "### Loading OSM data using address"
   ]
  },
  {
   "cell_type": "code",
   "execution_count": 2,
   "metadata": {},
   "outputs": [],
   "source": [
    "# uc = utk.OSM.load('Central Park', layers=['buildings'])\n",
    "# uc.save('../../../public/data/test')\n",
    "# uc.view()"
   ]
  },
  {
   "attachments": {},
   "cell_type": "markdown",
   "metadata": {},
   "source": [
    "### Loading OSM data using bounding polygon (manhattan)"
   ]
  },
  {
   "cell_type": "code",
   "execution_count": 3,
   "metadata": {},
   "outputs": [],
   "source": [
    "# manhattan_bpoly = [(40.7043056, -74.0206146), (40.7526203, -74.0118456), (40.7572414, -74.0101004), (40.8207866, \n",
    "#               -73.9630651), (40.8348315, -73.9527512), (40.8507179, -73.9481163), (40.8785992, -73.9278746), \n",
    "#               (40.8775179, -73.9221954), (40.8757012, -73.9200497), (40.8749226, -73.9155436), (40.8741764, \n",
    "#               -73.9123249), (40.872457, -73.9098358), (40.8692834, -73.910079), (40.862349, -73.9151144), \n",
    "#               (40.8559115, -73.92138), (40.846541, -73.927989), (40.8391604, -73.9320087), (40.8351933, \n",
    "#               -73.9340544), (40.8320063, -73.9343405), (40.8287592, -73.9339685), (40.8223509, -73.9334679), \n",
    "#               (40.815823, -73.9332247), (40.8092836, -73.9334822), (40.8049788, -73.9303493), (40.8005165, \n",
    "#               -73.9276743), (40.7977233, -73.9281321), (40.7940206, -73.9288616), (40.7890508, -73.93507), \n",
    "#               (40.784936, -73.9380455), (40.7824671, -73.9415646), (40.7806478, -73.9418221), (40.7781137, \n",
    "#               -73.9407492), (40.7749947, -73.9409638), (40.7436975, -73.9698887), (40.7314323, -73.9706039), \n",
    "#               (40.7209492, -73.9717197), (40.7088057, -73.9759827), (40.7062461, -73.9971256), (40.6989146, \n",
    "#               -74.0097713), (40.698939, -74.0152073), (40.7007931, -74.0185118), (40.7041758, -74.0204001)\n",
    "#               ]\n",
    "\n",
    "# uc = utk.OSM.load(manhattan_bpoly, layers=['buildings'])\n",
    "# uc.save()\n",
    "# uc.view()"
   ]
  },
  {
   "attachments": {},
   "cell_type": "markdown",
   "metadata": {},
   "source": [
    "### Loading OSM data using bounding box (south manhattan)"
   ]
  },
  {
   "cell_type": "code",
   "execution_count": 4,
   "metadata": {},
   "outputs": [],
   "source": [
    "# uc = utk.OSM.load([40.699768, -74.019904, 40.71135, -74.004712], layers=['buildings', 'surface', 'parks', 'water', 'roads'])\n",
    "# uc.save()"
   ]
  },
  {
   "attachments": {},
   "cell_type": "markdown",
   "metadata": {},
   "source": [
    "### Shadow simulation for Chicago"
   ]
  },
  {
   "cell_type": "code",
   "execution_count": 5,
   "metadata": {},
   "outputs": [],
   "source": [
    "# shadow = utk.data.shadow(['../../../public/data/one_building/buildings.json', '../../../public/data/one_building/surface.json'], [[\"12/26/2015 15:00\", \"12/26/2015 17:01\"]])\n",
    "# shadow.save()"
   ]
  },
  {
   "attachments": {},
   "cell_type": "markdown",
   "metadata": {},
   "source": [
    "### Example of Fig 9. of the paper"
   ]
  },
  {
   "cell_type": "code",
   "execution_count": 6,
   "metadata": {},
   "outputs": [],
   "source": [
    "# uc = utk.OSM.load('Manhattan, NY, USA', layers=['parks', 'water', 'roads'])\n",
    "\n",
    "# uc.save('mhtn')\n",
    "\n",
    "# uc.add(utk.data.load('taxi.csv'), 'taxi')\n",
    "# uc.add(utk.data.load('noise.csv'), 'noise')\n",
    "# uc.add(utk.data.load('crime.csv'), 'crime')\n",
    "# uc.add(utk.data.load('restaurant.csv'), 'restaurant')\n",
    "# uc.add(utk.data.load('subway.csv'), 'subway')\n",
    "# uc.add(utk.data.load('school.csv'), 'school')\n",
    "# uc.add(utk.data.load('sky.csv'), 'sky')\n",
    "\n",
    "# uc.add(utk.data.load('zip.shp'), 'zip')\n",
    "# uc.add(utk.data.load('parks.shp'), 'parks_thematic')\n",
    "\n",
    "# uc.save()\n",
    "# uc.view() # should run all the npm steps and open the browser\n"
   ]
  },
  {
   "cell_type": "code",
   "execution_count": 7,
   "metadata": {},
   "outputs": [],
   "source": [
    "# # generating abstract\n",
    "# from shapely import wkt\n",
    "\n",
    "# filepath = \"../../../public/data/smaller_milan/milan-no-tree-data.geojson\"\n",
    "\n",
    "# gdf = gpd.read_file(filepath)\n",
    "\n",
    "# gdf = gdf.set_crs(\"EPSG:32632\")\n",
    "\n",
    "# gdf = gdf.cx[510692.3894536852:518030.0817851368, 5031563.266866254:5038494.676145542]\n",
    "\n",
    "# gdf['Centroid'] = gdf['geometry'].centroid\n",
    "\n",
    "# # gdf['Centroid'] = gdf['Centroid'].apply(wkt.loads)\n",
    "\n",
    "# gdf = gdf.set_geometry('Centroid')\n",
    "\n",
    "# gdf = gdf.set_crs(\"EPSG:32632\")\n",
    "\n",
    "# gdf_transformed = gdf.to_crs(3395)\n",
    "\n",
    "# coordinates = []\n",
    "\n",
    "# for point in gdf_transformed.geometry:\n",
    "#     coordinates.append(point.x)\n",
    "#     coordinates.append(point.y)\n",
    "#     coordinates.append(0)\n",
    "\n",
    "# output_obj = {\n",
    "#     \"id\": \"mean_no_tree\",\n",
    "#     \"coordinates\": coordinates,\n",
    "#     \"values\": [float(elem) for elem in list(gdf_transformed[\"mean\"].values)] \n",
    "# }\n",
    "\n",
    "# directory = os.path.dirname(filepath)\n",
    "\n",
    "# json_object = json.dumps(output_obj)\n",
    "\n",
    "# with open(os.path.join(directory,\"mean_no_tree.json\"), \"w\") as outfile:\n",
    "#     outfile.write(json_object)"
   ]
  },
  {
   "cell_type": "code",
   "execution_count": 8,
   "metadata": {},
   "outputs": [],
   "source": [
    "# bbox=[505433.6315118375, 5036937.046314825, 506425.41200470965, 5037823.710756773] smaller milan\n",
    "# bbox=[510692.3894536852, 5031563.266866254, 518030.0817851368, 5038494.676145542] downtown milan\n",
    "\n",
    "# creating mesh\n",
    "# mesh_from_geojson(\"../../../public/data/smaller_milan/milan-tree-data.geojson\", bbox=[510692.3894536852, 5031563.266866254, 518030.0817851368, 5038494.676145542])\n",
    "\n",
    "# shapping the layer\n",
    "# layer_from_mesh(\"../../../public/data/smaller_milan/milan-tree-data.json\", \"TRIANGLES_3D_LAYER\", [\"SMOOTH_COLOR_MAP\", \"PICKING\"], \"roads\")"
   ]
  },
  {
   "cell_type": "code",
   "execution_count": 9,
   "metadata": {},
   "outputs": [],
   "source": [
    "# import utk\n",
    "\n",
    "# uc = utk.OSM.load('Manhattan, NY, USA',layers=['parks', 'water', 'roads'])\n",
    "\n",
    "# uc.save('mhtn')\n",
    "\n",
    "# uc.add(utk.CSV.load('taxi.csv'), 'taxi')\n",
    "# uc.add(utk.CSV.load('noise.csv'), 'noise')\n",
    "# uc.add(utk.CSV.load('crime.csv'), 'crime')\n",
    "# uc.add(utk.CSV.load('restaurant.csv'), 'restaurant')\n",
    "# uc.add(utk.CSV.load('subway.csv'), 'subway')\n",
    "# uc.add(utk.CSV.load('school.csv'), 'school')\n",
    "# uc.add(utk.CSV.load('sky.csv'), 'sky')\n",
    "\n",
    "# uc.add(utk.SHP.load('zip.shp'), 'zip')\n",
    "# uc.add(utk.SHP.load('parks.shp'), 'parks_thematic')\n",
    "\n",
    "# uc.save()\n",
    "\n",
    "# uc.view()"
   ]
  },
  {
   "attachments": {},
   "cell_type": "markdown",
   "metadata": {},
   "source": [
    "### Calculating centroid of layers and creating abstract from shape files"
   ]
  },
  {
   "cell_type": "code",
   "execution_count": 10,
   "metadata": {},
   "outputs": [],
   "source": [
    "# manhattan_bpoly = [(40.7043056, -74.0206146), (40.7526203, -74.0118456), (40.7572414, -74.0101004), (40.8207866, \n",
    "#               -73.9630651), (40.8348315, -73.9527512), (40.8507179, -73.9481163), (40.8785992, -73.9278746), \n",
    "#               (40.8775179, -73.9221954), (40.8757012, -73.9200497), (40.8749226, -73.9155436), (40.8741764, \n",
    "#               -73.9123249), (40.872457, -73.9098358), (40.8692834, -73.910079), (40.862349, -73.9151144), \n",
    "#               (40.8559115, -73.92138), (40.846541, -73.927989), (40.8391604, -73.9320087), (40.8351933, \n",
    "#               -73.9340544), (40.8320063, -73.9343405), (40.8287592, -73.9339685), (40.8223509, -73.9334679), \n",
    "#               (40.815823, -73.9332247), (40.8092836, -73.9334822), (40.8049788, -73.9303493), (40.8005165, \n",
    "#               -73.9276743), (40.7977233, -73.9281321), (40.7940206, -73.9288616), (40.7890508, -73.93507), \n",
    "#               (40.784936, -73.9380455), (40.7824671, -73.9415646), (40.7806478, -73.9418221), (40.7781137, \n",
    "#               -73.9407492), (40.7749947, -73.9409638), (40.7436975, -73.9698887), (40.7314323, -73.9706039), \n",
    "#               (40.7209492, -73.9717197), (40.7088057, -73.9759827), (40.7062461, -73.9971256), (40.6989146, \n",
    "#               -74.0097713), (40.698939, -74.0152073), (40.7007931, -74.0185118), (40.7041758, -74.0204001)\n",
    "#               ]\n",
    "\n",
    "# manhattan_bpoly = [(elem[1], elem[0]) for elem in manhattan_bpoly]\n",
    "\n",
    "# filepath = \"../../../public/data/taxi_noise_zip/hurricane.shp\"\n",
    "\n",
    "# bpoly_series_4326 = gpd.GeoSeries([Polygon(manhattan_bpoly)], crs=4326)\n",
    "# bpoly_series_4326 = bpoly_series_4326.to_crs(3395)\n",
    "\n",
    "# loaded_shp = gpd.read_file(filepath)\n",
    "# loaded_shp = loaded_shp.to_crs(3395)\n",
    "# loaded_shp = loaded_shp.clip(bpoly_series_4326)\n",
    "\n",
    "# objectId = []\n",
    "# centroids_coords = []\n",
    "\n",
    "# for id, row in enumerate(loaded_shp.iloc):\n",
    "\n",
    "#     objectId.append(id)\n",
    "\n",
    "#     geometries = []\n",
    "#     if row['geometry'].geom_type == 'MultiPolygon':\n",
    "#         geometries = list(row['geometry'])\n",
    "#     elif row['geometry'].geom_type == 'Polygon':\n",
    "#         geometries = [row['geometry']]\n",
    "\n",
    "#     centroid = row['geometry'].centroid\n",
    "\n",
    "#     centroids_coords.append(centroid.x)\n",
    "#     centroids_coords.append(centroid.y)\n",
    "#     centroids_coords.append(0)\n",
    "\n",
    "# outputfile = os.path.join(os.path.dirname(filepath), 'parks_abstract.json') \n",
    "\n",
    "# with open(outputfile, \"w\", encoding=\"utf-8\") as f:\n",
    "    \n",
    "#     result = {\n",
    "#         \"id\": 'parks_abstract',\n",
    "#         \"coordinates\": centroids_coords,\n",
    "#         \"values\": objectId\n",
    "#     }\n",
    "\n",
    "#     layer_json_str = str(json.dumps(result))\n",
    "#     f.write(layer_json_str)"
   ]
  },
  {
   "cell_type": "code",
   "execution_count": 11,
   "metadata": {},
   "outputs": [],
   "source": [
    "# manhattan_bpoly = [(40.7043056, -74.0206146), (40.7526203, -74.0118456), (40.7572414, -74.0101004), (40.8207866, \n",
    "#               -73.9630651), (40.8348315, -73.9527512), (40.8507179, -73.9481163), (40.8785992, -73.9278746), \n",
    "#               (40.8775179, -73.9221954), (40.8757012, -73.9200497), (40.8749226, -73.9155436), (40.8741764, \n",
    "#               -73.9123249), (40.872457, -73.9098358), (40.8692834, -73.910079), (40.862349, -73.9151144), \n",
    "#               (40.8559115, -73.92138), (40.846541, -73.927989), (40.8391604, -73.9320087), (40.8351933, \n",
    "#               -73.9340544), (40.8320063, -73.9343405), (40.8287592, -73.9339685), (40.8223509, -73.9334679), \n",
    "#               (40.815823, -73.9332247), (40.8092836, -73.9334822), (40.8049788, -73.9303493), (40.8005165, \n",
    "#               -73.9276743), (40.7977233, -73.9281321), (40.7940206, -73.9288616), (40.7890508, -73.93507), \n",
    "#               (40.784936, -73.9380455), (40.7824671, -73.9415646), (40.7806478, -73.9418221), (40.7781137, \n",
    "#               -73.9407492), (40.7749947, -73.9409638), (40.7436975, -73.9698887), (40.7314323, -73.9706039), \n",
    "#               (40.7209492, -73.9717197), (40.7088057, -73.9759827), (40.7062461, -73.9971256), (40.6989146, \n",
    "#               -74.0097713), (40.698939, -74.0152073), (40.7007931, -74.0185118), (40.7041758, -74.0204001)\n",
    "#               ]\n",
    "\n",
    "# manhattan_bpoly = [(elem[1], elem[0]) for elem in manhattan_bpoly]\n",
    "\n",
    "# generateLayerFromShp(\"../../../public/data/taxi_noise_zip/ZIP_CODE_040114.shp\", manhattan_bpoly, \"zip\", \"land\")\n",
    "\n",
    "# uc = OSM.load_from_bbox([40.70695265056355, -74.01818677471793, 40.7076533306313, -74.01718208165698],layers=['buildings']) # one building manhattan\n",
    "# uc = OSM.load_from_bbox([40.703589030076905, -74.01312938461244, 40.706020839675546, -74.00977127572548],layers=['buildings']) # couple buildings manhattan\n",
    "# uc = OSM.load_from_bbox([40.699768, -74.019904, 40.71135, -74.004712],layers=['buildings']) # south manhattan\n",
    "\n",
    "# uc = OSM.load_from_bbox([40.699768, -74.019904, 40.71135, -74.004712],layers=['buildings']) # south manhattan without pbf\n",
    "# uc = OSM.load_from_bbox([40.699768, -74.019904, 40.71135, -74.004712],layers=['parks', 'water', 'roads','buildings'], pbf_filepath='./osm_pbf_files/new-york-latest.osm.pbf') # south manhattan with pbf\n",
    "# uc = OSM.load_from_bbox([41.888935517219466, -87.62593386259636, 41.89817553541827, -87.59802720707879], layers=['buildings']) # downtown chicago\n",
    "# uc = OSM.load_from_bbox([41.89668031564063, -87.62217400322182, 41.89766067070132, -87.62023649289858], layers=['buildings']) # one building chicago\n",
    "# uc = OSM.load_from_bbox([40.699768, -74.019904, 40.718170256746646, -73.9970196894936],layers=['buildings']) # bigger south manhattan\n",
    "\n",
    "# uc = OSM.load_from_bbox([40.69819377613027, -74.0271436749343, 40.88661598319273, -73.89970516609863],layers=['water']) # manhattan\n",
    "\n",
    "# uc = OSM.load_from_bbox([40.69894073514849, -74.02656772661804, 40.88790191004669, -73.90091160889416],layers=['surface']) # manhattan\n",
    "\n",
    "# uc = OSM.load_from_bbox([40.63201719167697, -74.09687501734894, 40.93639146974012, -73.79582303130532],layers=['water', 'parks', 'roads']) # nyc\n",
    "\n",
    "# uc = OSM.load_from_bbox([41.877863593824486, -87.63991642946728, 41.889012021633064, -87.61191681535956],layers=['parks']) # chicago\n",
    "# uc = OSM.load_from_bbox([41.85677209534099, -87.65607016731178, 41.905047845022104, -87.58685425462788],layers=['parks', 'water', 'roads']) # chicago\n",
    "# uc.to_file('../../../public/data/remove_chicago/', True)\n",
    "\n",
    "# manhattan_bpoly = [40.7043056, -74.0206146, 40.7526203, -74.0118456, 40.7572414, -74.0101004, 40.8207866, \n",
    "#               -73.9630651, 40.8348315, -73.9527512, 40.8507179, -73.9481163, 40.8785992, -73.9278746, \n",
    "#               40.8775179, -73.9221954, 40.8757012, -73.9200497, 40.8749226, -73.9155436, 40.8741764, \n",
    "#               -73.9123249, 40.872457, -73.9098358, 40.8692834, -73.910079, 40.862349, -73.9151144, \n",
    "#               40.8559115, -73.92138, 40.846541, -73.927989, 40.8391604, -73.9320087, 40.8351933, \n",
    "#               -73.9340544, 40.8320063, -73.9343405, 40.8287592, -73.9339685, 40.8223509, -73.9334679, \n",
    "#               40.815823, -73.9332247, 40.8092836, -73.9334822, 40.8049788, -73.9303493, 40.8005165, \n",
    "#               -73.9276743, 40.7977233, -73.9281321, 40.7940206, -73.9288616, 40.7890508, -73.93507, \n",
    "#               40.784936, -73.9380455, 40.7824671, -73.9415646, 40.7806478, -73.9418221, 40.7781137, \n",
    "#               -73.9407492, 40.7749947, -73.9409638, 40.7436975, -73.9698887, 40.7314323, -73.9706039, \n",
    "#               40.7209492, -73.9717197, 40.7088057, -73.9759827, 40.7062461, -73.9971256, 40.6989146, \n",
    "#               -74.0097713, 40.698939, -74.0152073, 40.7007931, -74.0185118, 40.7041758, -74.0204001\n",
    "#               ]\n",
    "\n",
    "# uc = OSM.load_from_polygon(manhattan_bpoly, layers=['buildings']) # manhattan\n",
    "\n",
    "# uc = OSM.load_from_address(\"Central Park\", layers=['roads'])\n",
    "\n",
    "# uc = UrbanComponent()\n",
    "\n",
    "# uc.setWorkDir(\"../../../public/data/manhattan_wo_cells_buildings\")\n",
    "\n",
    "# uc.addLayerFromJsonFile(\"../../../public/data/manhattan_wo_cells_buildings/buildings.json\")\n",
    "# uc.addLayerFromJsonFile(\"../../../public/data/south_manhattan/surface.json\")\n",
    "# uc.addLayerFromJsonFile(\"../../../public/data/south_manhattan/zip.json\", 3)\n",
    "# uc.addLayerFromJsonFile(\"../../../public/data/south_manhattan/surface.json\", 3)\n",
    "# uc.addLayerFromJsonFile(\"../../../public/data/south_manhattan/shadow0.json\", abstract=True)\n",
    "# uc.addLayerFromJsonFile(\"../../../public/data/south_manhattan/shadow0_surface.json\", abstract=True)\n",
    "# uc.addLayerFromJsonFile(\"../../../public/data/south_manhattan/zipName.json\", 3, abstract=True)\n",
    "\n",
    "# print(uc.attachAbstractToPhysical('surface', 'shadow0_surface'))\n",
    "# print(uc.attachAbstractToPhysical('buildings', 'shadow0'))\n",
    "# print(uc.attachAbstractToPhysical('surface', 'shadow0'))\n",
    "# print(uc.attachAbstractToPhysical('zip', 'zipName', predicate='direct'))\n",
    "# print(uc.attachPhysicalLayers('zip', 'buildings'))\n",
    "\n",
    "# uc.to_file('../../../public/data/figure4_urbane/', True)\n",
    "# uc.to_file('../../../public/data/south_manhattan/', True)\n",
    "\n",
    "# shadowAccumulator = ShadowAccumulator(['../../../public/data/south_manhattan/buildings.json', '../../../public/data/south_manhattan/surface.json'], [[\"06/21/2015 08:00\", \"06/21/2015 09:01\"], [\"09/22/2015 14:00\", \"09/22/2015 15:01\"], [\"12/21/2015 10:00\", \"12/21/2015 11:01\"]], 'spring')\n",
    "# shadowAccumulator = ShadowAccumulator(['../../../public/data/one_building/buildings.json', '../../../public/data/one_building/surface.json'], [[\"03/20/2015 10:00\", \"03/20/2015 11:01\"]], 'spring')\n",
    "# shadowAccumulator = ShadowAccumulator(['../../../public/data/removing_elements/buildings_s_m.json', '../../../public/data/removing_elements/surface.json'], [[\"03/20/2015 10:00\", \"03/20/2015 11:01\"]], 'spring')\n",
    "# shadowAccumulator = ShadowAccumulator(['../../../public/data/remove_chicago/buildings.json', '../../../public/data/remove_chicago/surface.json'], [[\"12/26/2015 15:00\", \"12/26/2015 17:01\"]], 'spring')\n",
    "# shadowAccumulator.accumulate_shadow()"
   ]
  },
  {
   "cell_type": "code",
   "execution_count": 12,
   "metadata": {},
   "outputs": [],
   "source": [
    "# remove_elements(\"../../../public/data/taxi_noise_zip/zip.json\", [57,77,81,86,90,92,87,60,54,58,84,83,85,79,91,94,45,98,97,100,13,17,52,63,44,19,16,18,24,26,23,49,36,31,43,42,21,27,48,53,55,56,22,25,29,30,56,32,33,74,41,47,58,40,34,35,37,38,62])"
   ]
  },
  {
   "cell_type": "code",
   "execution_count": 13,
   "metadata": {},
   "outputs": [],
   "source": [
    "# remove_elements('../../../public/data/remove_chicago/buildings.json', [94,4,132,133])"
   ]
  },
  {
   "cell_type": "code",
   "execution_count": 14,
   "metadata": {},
   "outputs": [],
   "source": [
    "# 1369.072106618\n",
    "\n",
    "# uc = utk.OSM.load([38.56218, -92.61078, 45.655743, -82.58923],layers=[{'name': 'surface', 'args': {'sizeCells': 3940.753458258}}]) # d02 resolution\n",
    "# uc = utk.OSM.load([40.944252, -89.3194, 43.290527, -86.11063],layers=[{'name': 'surface', 'args': {'sizeCells': 1369.072106618}}]) # d03 resolution (covers a smaller portion)\n",
    "\n",
    "# uc.save('../../../public/data/wrf_multi_resolution/', False)\n",
    "\n",
    "# utk.wrf_to_abstract('../../../public/data/wrf/VisualizationDemo/wrfout_d02_2016-07-01.nc', 'wrf_d02_2016-07-01_t0', 'T2', 'XLAT', 'XLONG', 4326, 0) # d02 resolution\n",
    "# utk.wrf_to_abstract('../../../public/data/wrf/VisualizationDemo/wrfout_d03_2016-07-01.nc', 'wrf_d03_2016-07-01_t0', 'T2', 'XLAT', 'XLONG', 4326, 0) # d03 resolution\n",
    "\n",
    "# import numpy as np\n",
    "\n",
    "# from netCDF4 import Dataset\n",
    "# import matplotlib.pyplot as plt\n",
    "# from matplotlib.cm import get_cmap\n",
    "# import cartopy.crs as crs\n",
    "# from cartopy.feature import NaturalEarthFeature\n",
    "# from pyproj import Transformer\n",
    "# import json\n",
    "# import os\n",
    "\n",
    "# # Open the NetCDF file\n",
    "# ncfile = Dataset('../../../public/data/wrf/VisualizationDemo/wrfout_d02_2016-07-01.nc')\n",
    "\n",
    "# # ## Data coords\n",
    "# xlong = ncfile.variables['XLONG'][0]\n",
    "# xlat = ncfile.variables['XLAT'][0]\n",
    "\n",
    "# minLong = None\n",
    "# maxLong = None\n",
    "# minLat = None\n",
    "# maxLat = None\n",
    "\n",
    "# for line in xlong:\n",
    "#     for column in line:\n",
    "#         if minLong == None:\n",
    "#             minLong = column\n",
    "#         elif column < minLong:\n",
    "#             minLong = column\n",
    "\n",
    "#         if maxLong == None:\n",
    "#             maxLong = column\n",
    "#         elif column > maxLong:\n",
    "#             maxLong = column\n",
    "\n",
    "# for line in xlat:\n",
    "#     for column in line:\n",
    "#         if minLat == None:\n",
    "#             minLat = column\n",
    "#         elif column < minLat:\n",
    "#             minLat = column\n",
    "\n",
    "#         if maxLat == None:\n",
    "#             maxLat = column\n",
    "#         elif column > maxLat:\n",
    "#             maxLat = column\n",
    "\n",
    "# print([minLat, minLong, maxLat, maxLong])\n"
   ]
  },
  {
   "attachments": {},
   "cell_type": "markdown",
   "metadata": {},
   "source": [
    "### Load cloud point data"
   ]
  },
  {
   "cell_type": "code",
   "execution_count": 15,
   "metadata": {},
   "outputs": [
    {
     "name": "stdout",
     "output_type": "stream",
     "text": [
      "[-8.23962333e+06  4.94140072e+06  8.95000458e-01 -8.23962339e+06\n",
      "  4.94140103e+06  8.84998322e-01 -8.23962333e+06  4.94140066e+06\n",
      "  9.75002289e-01 -8.23962336e+06  4.94140097e+06  7.74997711e-01\n",
      " -8.23962345e+06  4.94140081e+06  9.65000153e-01 -8.23962367e+06\n",
      "  4.94140097e+06  1.10499954e+00 -8.23962370e+06  4.94140091e+06]\n"
     ]
    }
   ],
   "source": [
    "# utk.binary_np_to_point_cloud('../../../public/data/point_cloud/sampled_car_by_wall_2048_np_coordinates.npy', 'car_point', [-8239611, 4941390.5, 0])\n",
    "utk.binary_np_to_point_cloud('../../../public/data/point_cloud/full_parking_lot_817255_np_coordinates.npy', 'parking_lot_point', [-8239611, 4941390.5, 0])"
   ]
  }
 ],
 "metadata": {
  "kernelspec": {
   "display_name": "urbantk",
   "language": "python",
   "name": "python3"
  },
  "language_info": {
   "codemirror_mode": {
    "name": "ipython",
    "version": 3
   },
   "file_extension": ".py",
   "mimetype": "text/x-python",
   "name": "python",
   "nbconvert_exporter": "python",
   "pygments_lexer": "ipython3",
   "version": "3.10.6"
  },
  "orig_nbformat": 4,
  "vscode": {
   "interpreter": {
    "hash": "70e5c1a2e5a1b6bda8e8c783cf9964b5c0412d607cc5f42b6005c575303b0216"
   }
  }
 },
 "nbformat": 4,
 "nbformat_minor": 2
}
