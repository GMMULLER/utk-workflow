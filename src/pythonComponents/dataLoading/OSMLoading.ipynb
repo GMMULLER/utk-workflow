{
 "cells": [
  {
   "cell_type": "code",
   "execution_count": null,
   "metadata": {},
   "outputs": [],
   "source": [
    "from osm import *\n",
    "from shadowAccumulator import *\n",
    "from shp import *\n",
    "from urbanComponent import *\n",
    "from removeElements import *\n",
    "from mesh_from_files import *\n",
    "from csv_to_abstract import *"
   ]
  },
  {
   "cell_type": "code",
   "execution_count": null,
   "metadata": {},
   "outputs": [],
   "source": [
    "# boston_bpoly = [42.34429750931192, -71.08470885679658, 42.35557107798802, -71.06533981961464]\n",
    "\n",
    "# generateLayerFromShp(\"../../../public/data/boston2/Sidewalk_Inventory.shp\", boston_bpoly, \"sidewalk\", \"roads\", isBbox=True)"
   ]
  },
  {
   "cell_type": "code",
   "execution_count": null,
   "metadata": {},
   "outputs": [],
   "source": [
    "loaded_shp = gpd.read_file(\"../../../public/data/boston2/Sidewalk_Inventory.shp\")\n",
    "\n",
    "loaded_shp = loaded_shp.replace(to_replace='CC', value=0)\n",
    "loaded_shp = loaded_shp.replace(to_replace='BC', value=1)\n",
    "loaded_shp = loaded_shp.replace(to_replace='CB', value=1)\n",
    "loaded_shp = loaded_shp.replace(to_replace='BL', value=-1)\n",
    "loaded_shp = loaded_shp.replace(to_replace='GB', value=2)\n",
    "loaded_shp = loaded_shp.replace(to_replace='BR', value=3)\n",
    "loaded_shp = loaded_shp.replace(to_replace='OT', value=4)\n",
    "loaded_shp = loaded_shp.replace(to_replace='OTHER', value=4)\n",
    "\n",
    "loaded_shp = loaded_shp.fillna(-1)\n",
    "\n",
    "loaded_shp = loaded_shp.to_crs(\"3395\")\n",
    "\n",
    "loaded_shp[\"longitude\"] = loaded_shp['geometry'].centroid.x\n",
    "loaded_shp[\"latitude\"] = loaded_shp['geometry'].centroid.y\n",
    "\n",
    "loaded_shp.to_csv('../../../public/data/boston2/sidewalk_abstract.csv')"
   ]
  }
 ],
 "metadata": {
  "kernelspec": {
   "display_name": "urbantk",
   "language": "python",
   "name": "python3"
  },
  "language_info": {
   "codemirror_mode": {
    "name": "ipython",
    "version": 3
   },
   "file_extension": ".py",
   "mimetype": "text/x-python",
   "name": "python",
   "nbconvert_exporter": "python",
   "pygments_lexer": "ipython3",
   "version": "3.10.6"
  },
  "orig_nbformat": 4,
  "vscode": {
   "interpreter": {
    "hash": "417a5b75eced6a10a6aab538a5d6d1aa2801868f4335db3e9395b85b77ab2694"
   }
  }
 },
 "nbformat": 4,
 "nbformat_minor": 2
}
