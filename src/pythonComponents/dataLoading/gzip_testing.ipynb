{
 "cells": [
  {
   "cell_type": "code",
   "execution_count": 1,
   "metadata": {},
   "outputs": [],
   "source": [
    "import gzip\n",
    "import json"
   ]
  },
  {
   "cell_type": "code",
   "execution_count": 2,
   "metadata": {},
   "outputs": [],
   "source": [
    "\n",
    "data = {\"name\": \"John\", \"age\": 30, \"city\": \"New York\"}\n",
    "\n",
    "# Open a gzip file in write mode\n",
    "with gzip.open(\"test.json.gz\", \"wb\") as f:\n",
    "    # Encode the data as JSON and write it to the gzip file\n",
    "    json_data = json.dumps(data).encode(\"utf-8\")\n",
    "    f.write(json_data)\n",
    "\n",
    "# content = bytes(\"Lots of content here\", 'utf-8')\n",
    "# # content = {\n",
    "# #     \"field1\": 0,\n",
    "# #     \"field2\": 1\n",
    "# # }\n",
    "# f = gzip.open('test.gz', 'wb')\n",
    "# f.write(content)\n",
    "# f.close()"
   ]
  },
  {
   "cell_type": "code",
   "execution_count": 3,
   "metadata": {},
   "outputs": [
    {
     "name": "stdout",
     "output_type": "stream",
     "text": [
      "b'{\"name\": \"John\", \"age\": 30, \"city\": \"New York\"}'\n"
     ]
    }
   ],
   "source": [
    "f=gzip.open('test.json.gz','rb')\n",
    "file_content=f.read()\n",
    "print(file_content)"
   ]
  }
 ],
 "metadata": {
  "kernelspec": {
   "display_name": "urbantk",
   "language": "python",
   "name": "python3"
  },
  "language_info": {
   "codemirror_mode": {
    "name": "ipython",
    "version": 3
   },
   "file_extension": ".py",
   "mimetype": "text/x-python",
   "name": "python",
   "nbconvert_exporter": "python",
   "pygments_lexer": "ipython3",
   "version": "3.10.6"
  },
  "orig_nbformat": 4,
  "vscode": {
   "interpreter": {
    "hash": "417a5b75eced6a10a6aab538a5d6d1aa2801868f4335db3e9395b85b77ab2694"
   }
  }
 },
 "nbformat": 4,
 "nbformat_minor": 2
}
