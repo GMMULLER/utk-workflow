{
 "cells": [
  {
   "cell_type": "code",
   "execution_count": null,
   "metadata": {},
   "outputs": [],
   "source": [
    "import utk"
   ]
  },
  {
   "cell_type": "code",
   "execution_count": null,
   "metadata": {},
   "outputs": [],
   "source": [
    "uc = utk.OSM.load('Manhattan, NY, USA',layers=['parks', 'water', 'roads'])\n",
    "\n",
    "uc.save('mhtn')\n",
    "\n",
    "uc.add(utk.data.load('taxi.csv'), 'taxi')\n",
    "uc.add(utk.data.load('noise.csv'), 'noise')\n",
    "uc.add(utk.data.load('crime.csv'), 'crime')\n",
    "uc.add(utk.data.load('restaurant.csv'), 'restaurant')\n",
    "uc.add(utk.data.load('subway.csv'), 'subway')\n",
    "uc.add(utk.data.load('school.csv'), 'school')\n",
    "uc.add(utk.data.load('sky.csv'), 'sky')\n",
    "\n",
    "uc.add(utk.data.load('zip.shp'), 'zip')\n",
    "uc.add(utk.data.load('parks.shp'), 'parks_thematic')\n",
    "\n",
    "uc.save()\n",
    "\n",
    "uc.view()"
   ]
  }
 ],
 "metadata": {
  "kernelspec": {
   "display_name": "Python 3 (ipykernel)",
   "language": "python",
   "name": "python3"
  },
  "language_info": {
   "codemirror_mode": {
    "name": "ipython",
    "version": 3
   },
   "file_extension": ".py",
   "mimetype": "text/x-python",
   "name": "python",
   "nbconvert_exporter": "python",
   "pygments_lexer": "ipython3",
   "version": "3.9.13"
  }
 },
 "nbformat": 4,
 "nbformat_minor": 2
}
