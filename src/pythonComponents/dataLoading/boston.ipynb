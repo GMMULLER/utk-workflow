{
 "cells": [
  {
   "cell_type": "code",
   "execution_count": 1,
   "metadata": {},
   "outputs": [
    {
     "name": "stderr",
     "output_type": "stream",
     "text": [
      "c:\\Users\\Gustavo\\anaconda3\\envs\\urbantk\\lib\\site-packages\\geopandas\\_compat.py:112: UserWarning: The Shapely GEOS version (3.11.0-CAPI-1.17.0) is incompatible with the GEOS version PyGEOS was compiled with (3.10.4-CAPI-1.16.2). Conversions between both will be slow.\n",
      "  warnings.warn(\n"
     ]
    },
    {
     "name": "stdout",
     "output_type": "stream",
     "text": [
      "********************************************************************************\n",
      "PlotOptiX newer version is available: 0.15.1\n",
      "to update your release use:\n",
      "      pip install plotoptix --upgrade\n",
      "********************************************************************************\n"
     ]
    }
   ],
   "source": [
    "from osm import *\n",
    "from shadowAccumulator import *\n",
    "from shp import *\n",
    "from urbanComponent import *\n",
    "from removeElements import *\n",
    "from mesh_from_files import *\n",
    "from csv_to_abstract import *\n",
    "import pandas as pd"
   ]
  },
  {
   "cell_type": "code",
   "execution_count": 2,
   "metadata": {},
   "outputs": [],
   "source": [
    "# boston_bpoly = [(42.3591147, -71.0795689), (42.3659641, -71.0726738), (42.3685641, -71.0665798), \n",
    "#                 (42.3697954, -71.0570598), (42.3702446, -71.0524821), (42.3684373, -71.0478044),\n",
    "#                 (42.3615988, -71.0459447), (42.3578040, -71.0472107), (42.3489556, -71.0534191)]\n",
    "\n",
    "# boston_bpoly = [(elem[1], elem[0]) for elem in boston_bpoly]\n",
    "\n",
    "# generateLayerFromShp(\"../../../public/data/boston/boston_zip.shp\", boston_bpoly, \"zip\", \"land\")"
   ]
  },
  {
   "cell_type": "code",
   "execution_count": 3,
   "metadata": {},
   "outputs": [],
   "source": [
    "# boston_bpoly = [(42.3591147, -71.0795689), (42.3659641, -71.0726738), (42.3685641, -71.0665798), \n",
    "#                 (42.3697954, -71.0570598), (42.3702446, -71.0524821), (42.3684373, -71.0478044),\n",
    "#                 (42.3615988, -71.0459447), (42.3578040, -71.0472107), (42.3489556, -71.0534191)]\n",
    "\n",
    "# boston_bpoly = [(elem[1], elem[0]) for elem in boston_bpoly]\n",
    "\n",
    "# generateLayerFromShp(\"../../../public/data/boston/Sidewalk_Inventory.shp\", boston_bpoly, \"sidewalk\", \"roads\")"
   ]
  },
  {
   "cell_type": "code",
   "execution_count": 4,
   "metadata": {},
   "outputs": [],
   "source": [
    "# loaded_shp = gpd.read_file(\"../../../public/data/boston/Sidewalk_Inventory.shp\")\n",
    "\n",
    "# loaded_shp = loaded_shp.replace(to_replace='CC', value=0)\n",
    "# loaded_shp = loaded_shp.replace(to_replace='BC', value=1)\n",
    "# loaded_shp = loaded_shp.replace(to_replace='CB', value=1)\n",
    "# loaded_shp = loaded_shp.replace(to_replace='BL', value=-1)\n",
    "# loaded_shp = loaded_shp.replace(to_replace='GB', value=2)\n",
    "# loaded_shp = loaded_shp.replace(to_replace='BR', value=3)\n",
    "# loaded_shp = loaded_shp.replace(to_replace='OT', value=4)\n",
    "# loaded_shp = loaded_shp.replace(to_replace='OTHER', value=4)\n",
    "\n",
    "# loaded_shp = loaded_shp.fillna(-1)\n",
    "\n",
    "# loaded_shp = loaded_shp.to_crs(\"3395\")\n",
    "\n",
    "# loaded_shp[\"longitude\"] = loaded_shp['geometry'].centroid.x\n",
    "# loaded_shp[\"latitude\"] = loaded_shp['geometry'].centroid.y\n",
    "\n",
    "# loaded_shp.to_csv('../../../public/data/boston/sidewalk_abstract.csv')"
   ]
  },
  {
   "cell_type": "code",
   "execution_count": 5,
   "metadata": {},
   "outputs": [],
   "source": [
    "# csv_to_abstract('../../../public/data/boston2/sidewalk_abstract.csv', 'sidewalk_material', 'MATERIAL', 'longitude', 'latitude', 3395)"
   ]
  },
  {
   "cell_type": "code",
   "execution_count": 6,
   "metadata": {},
   "outputs": [],
   "source": [
    "# uc = OSM.load_from_bbox([42.33824778326408, -71.0911330057701, 42.37698844743004, -71.03614654588407],layers=['water', 'parks', 'roads'])\n",
    "# uc.to_file('../../../public/data/boston/', True)"
   ]
  },
  {
   "cell_type": "code",
   "execution_count": 7,
   "metadata": {},
   "outputs": [],
   "source": [
    "# boston_bpoly = [42.3591147, -71.0795689, 42.3659641, -71.0726738, 42.3685641, -71.0665798, \n",
    "#                 42.3697954, -71.0570598, 42.3702446, -71.0524821, 42.3684373, -71.0478044,\n",
    "#                 42.3615988, -71.0459447, 42.3578040, -71.0472107, 42.3489556, -71.0534191] # smaller\n",
    "\n",
    "# uc = OSM.load_from_bbox([42.34429750931192, -71.08470885679658, 42.35557107798802, -71.06533981961464], layers=['water', 'parks', 'roads', 'surface', 'buildings'])\n",
    "\n",
    "# uc = OSM.load_from_polygon(boston_bpoly, layers=['surface'])\n",
    "# uc.to_file('../../../public/data/boston2/', True)"
   ]
  },
  {
   "cell_type": "code",
   "execution_count": 8,
   "metadata": {},
   "outputs": [],
   "source": [
    "# shadowAccumulator = ShadowAccumulator(42.34942615027065, -71.07608875488484, ['../../../public/data/boston2/buildings.json', '../../../public/data/boston2/surface.json'], [[\"12/26/2015 10:00\", \"12/26/2015 16:01\"]], 'winter')\n",
    "# shadowAccumulator = ShadowAccumulator(42.34942615027065, -71.07608875488484, ['../../../public/data/boston2/buildings_m.json', '../../../public/data/boston2/surface.json'], [[\"06/21/2015 10:00\", \"06/21/2015 18:01\"]], 'summer')\n",
    "# shadowAccumulator.accumulate_shadow()"
   ]
  }
 ],
 "metadata": {
  "kernelspec": {
   "display_name": "urbantk",
   "language": "python",
   "name": "python3"
  },
  "language_info": {
   "codemirror_mode": {
    "name": "ipython",
    "version": 3
   },
   "file_extension": ".py",
   "mimetype": "text/x-python",
   "name": "python",
   "nbconvert_exporter": "python",
   "pygments_lexer": "ipython3",
   "version": "3.10.6"
  },
  "orig_nbformat": 4
 },
 "nbformat": 4,
 "nbformat_minor": 2
}
