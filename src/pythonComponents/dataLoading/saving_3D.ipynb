{
 "cells": [
  {
   "cell_type": "code",
   "execution_count": 1,
   "metadata": {},
   "outputs": [
    {
     "name": "stderr",
     "output_type": "stream",
     "text": [
      "c:\\Users\\Gustavo\\anaconda3\\envs\\urbantk\\lib\\site-packages\\geopandas\\_compat.py:112: UserWarning: The Shapely GEOS version (3.11.0-CAPI-1.17.0) is incompatible with the GEOS version PyGEOS was compiled with (3.10.4-CAPI-1.16.2). Conversions between both will be slow.\n",
      "  warnings.warn(\n"
     ]
    }
   ],
   "source": [
    "import vtk\n",
    "import numpy as np\n",
    "import pandas as pd\n",
    "import scipy\n",
    "import json\n",
    "from urbanComponent import *"
   ]
  },
  {
   "cell_type": "code",
   "execution_count": 2,
   "metadata": {},
   "outputs": [],
   "source": [
    "f = open('../../../public/data/manhattan_wo_cells/buildings_s_joined.json', 'r')\n",
    "\n",
    "data = json.load(f)\n",
    "\n",
    "joinedLayerIndex = 0\n",
    "\n",
    "values = []\n",
    "\n",
    "for joinedObject in data['joinedObjects']:\n",
    "    if(joinedObject['joinedLayerIndex'] == joinedLayerIndex):\n",
    "        values = joinedObject['otherValues']\n",
    "        break\n",
    "\n",
    "f.close()\n",
    "\n",
    "uc = UrbanComponent()\n",
    "\n",
    "uc.setWorkDir(\"../../../public/data/manhattan_wo_cells\")\n",
    "uc.addLayerFromJsonFile(\"../../../public/data/manhattan_wo_cells/buildings_s.json\")\n",
    "\n",
    "buildingsJson = uc.layers['json'][0]\n",
    "\n",
    "# f = open('./buildings.json', 'w')\n",
    "\n",
    "# f.write(json.dumps(buildingsJson))\n",
    "\n",
    "# f.close()\n",
    "\n",
    "latitude = []\n",
    "longitude = []\n",
    "height = []\n",
    "\n",
    "for geometry in buildingsJson['data']:\n",
    "    for i in range(int(len(geometry['geometry']['coordinates'])/3)):\n",
    "        latitude.append(geometry['geometry']['coordinates'][i*3])\n",
    "        longitude.append(geometry['geometry']['coordinates'][i*3+1])\n",
    "        height.append(geometry['geometry']['coordinates'][i*3+2])\n",
    "\n",
    "df = pd.DataFrame(data={'latitude': latitude, 'longitude': longitude, 'height': height})\n",
    "\n",
    "m1 = df[['latitude','longitude','height']].to_numpy()[:,1]\n",
    "m2 = df[['latitude','longitude','height']].to_numpy()[:,0]\n",
    "m3 = df[['latitude','longitude','height']].to_numpy()[:,2]\n",
    "\n",
    "xmin = m1.min()\n",
    "xmax = m1.max()\n",
    "ymin = m2.min()\n",
    "ymax = m2.max()\n",
    "zmin = m3.min()\n",
    "zmax = m3.max()\n",
    "\n",
    "values = np.array(values).reshape((len(values),))\n",
    "\n",
    "wmin = values.min()\n",
    "wmax = values.max()\n",
    "\n",
    "# X, Y, Z, W = np.mgrid[xmin:xmax:100, ymin:ymax:100, zmin:zmax:50, wmin:wmax:0.1]\n",
    "\n",
    "# X, Y, Z = np.mgrid[xmin:xmax:100, ymin:ymax:100, zmin:zmax:50]\n",
    "X, Y, Z = np.mgrid[xmin:xmax:25, ymin:ymax:25, zmin:zmax:25]\n",
    "\n",
    "# positions = np.vstack([X.ravel(), Y.ravel(), Z.ravel(), W.ravel()]) # grid positions\n",
    "\n",
    "positions = np.vstack([X.ravel(), Y.ravel(), Z.ravel()]) # grid positions\n",
    "\n",
    "# data_points = np.vstack([m1, m2, m3, values]) \n",
    "\n",
    "data_points = np.vstack([m1, m2, m3]) \n",
    "\n",
    "kernel = scipy.stats.gaussian_kde(data_points, weights=values)\n",
    "\n",
    "sampled_values = np.reshape(kernel(positions).T, X.shape)\n",
    "# sampled_values = kernel(positions).T\n",
    "# sampled_values = kernel(positions).T\n"
   ]
  },
  {
   "cell_type": "code",
   "execution_count": 5,
   "metadata": {},
   "outputs": [],
   "source": [
    "sampled_values = ((sampled_values - sampled_values.min())/(sampled_values.max() - sampled_values.min())) # normalizing the data"
   ]
  },
  {
   "cell_type": "code",
   "execution_count": 6,
   "metadata": {},
   "outputs": [
    {
     "name": "stdout",
     "output_type": "stream",
     "text": [
      "1.0 0.0\n"
     ]
    }
   ],
   "source": [
    "print(sampled_values.max(), sampled_values.min())"
   ]
  },
  {
   "cell_type": "code",
   "execution_count": 7,
   "metadata": {},
   "outputs": [
    {
     "data": {
      "text/plain": [
       "1"
      ]
     },
     "execution_count": 7,
     "metadata": {},
     "output_type": "execute_result"
    }
   ],
   "source": [
    "#Create an instance of vtkImageData object\n",
    "vtk_image = vtk.vtkImageData()\n",
    "\n",
    "# Set the dimensions of the VTK image data object to match the shape of a NumPy array called `data`\n",
    "vtk_image.SetDimensions(sampled_values.shape[2], sampled_values.shape[1], sampled_values.shape[0])\n",
    "\n",
    "# Set the origin of the VTK image data object to (0, 0, 0)\n",
    "vtk_image.SetOrigin(0, 0, 0)\n",
    "\n",
    "# Set the pixel spacing of the VTK image data object to (1, 1, 1)\n",
    "vtk_image.SetSpacing(1, 1, 1)\n",
    "\n",
    "# Allocate memory for the scalar data in the VTK image data object\n",
    "vtk_image.AllocateScalars(vtk.VTK_FLOAT, 1)\n",
    "\n",
    "# Retrieve a pointer to the scalar data in the VTK image data object\n",
    "scalars = vtk_image.GetPointData().GetScalars()\n",
    "\n",
    "# Copy the pixel data from a NumPy array called `data` into the VTK image data object\n",
    "scalars.SetVoidArray(sampled_values, sampled_values.size, 1)\n",
    "\n",
    "# Create an instance of a VTK XML image data writer\n",
    "writer = vtk.vtkXMLImageDataWriter()\n",
    "\n",
    "# Set the output filename for the VTK XML image data writer to a vti file\n",
    "writer.SetFileName(\"grid.vti\")\n",
    "\n",
    "# Set the input data for the VTK XML image data writer to the VTK image data object that we created earlier\n",
    "writer.SetInputData(vtk_image)\n",
    "\n",
    "# Write the VTK XML file to disk using the input data and filename that we specified\n",
    "writer.Write()"
   ]
  }
 ],
 "metadata": {
  "kernelspec": {
   "display_name": "urbantk",
   "language": "python",
   "name": "python3"
  },
  "language_info": {
   "codemirror_mode": {
    "name": "ipython",
    "version": 3
   },
   "file_extension": ".py",
   "mimetype": "text/x-python",
   "name": "python",
   "nbconvert_exporter": "python",
   "pygments_lexer": "ipython3",
   "version": "3.10.6"
  },
  "orig_nbformat": 4
 },
 "nbformat": 4,
 "nbformat_minor": 2
}
