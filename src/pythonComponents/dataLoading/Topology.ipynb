{
 "cells": [
  {
   "cell_type": "code",
   "execution_count": 1,
   "metadata": {},
   "outputs": [
    {
     "name": "stderr",
     "output_type": "stream",
     "text": [
      "c:\\Users\\Gustavo\\anaconda3\\envs\\urbantk\\lib\\site-packages\\geopandas\\_compat.py:112: UserWarning: The Shapely GEOS version (3.11.0-CAPI-1.17.0) is incompatible with the GEOS version PyGEOS was compiled with (3.10.4-CAPI-1.16.2). Conversions between both will be slow.\n",
      "  warnings.warn(\n"
     ]
    }
   ],
   "source": [
    "import numpy as np\n",
    "import pandas as pd\n",
    "import matplotlib.pyplot as plt\n",
    "import scipy\n",
    "from scipy import ndimage\n",
    "import PIL\n",
    "import json\n",
    "from urbanComponent import *\n",
    "\n",
    "from persim import plot_diagrams\n",
    "from ripser import ripser, lower_star_img"
   ]
  },
  {
   "attachments": {},
   "cell_type": "markdown",
   "metadata": {},
   "source": [
    "### Binning 3D data"
   ]
  },
  {
   "cell_type": "code",
   "execution_count": 2,
   "metadata": {},
   "outputs": [],
   "source": [
    "# # Generate a random 3D array with values between 0 and 1\n",
    "# arr = np.random.rand(5, 5, 5)\n",
    "\n",
    "# x_extension = 300\n",
    "# y_extension = 300\n",
    "# z_extension = 300\n",
    "\n",
    "# bin_size = 10\n",
    "\n",
    "# # Define the number of bins for each dimension\n",
    "# num_bins = [int(x_extension/bin_size), int(y_extension/bin_size), int(z_extension/bin_size)]\n",
    "\n",
    "# # Compute the bin edges for each dimension\n",
    "# bin_edges = [np.linspace(0, 300, n + 1) for n in num_bins]\n",
    "\n",
    "# # Bin the array along each dimension\n",
    "# binned = [np.digitize(arr[:, :, i], bin_edges[i]) for i in range(arr.shape[2])]\n",
    "\n",
    "# # # Stack the binned arrays into a single n-dimensional array\n",
    "# # binned_arr = np.stack(binned, axis=-1)"
   ]
  },
  {
   "attachments": {},
   "cell_type": "markdown",
   "metadata": {},
   "source": [
    "### Load joined data as dataframe with latitude, longitude, height, value"
   ]
  },
  {
   "cell_type": "code",
   "execution_count": 3,
   "metadata": {},
   "outputs": [],
   "source": [
    "f = open('../../../public/data/manhattan_wo_cells/buildings_s_joined.json', 'r')\n",
    "\n",
    "data = json.load(f)\n",
    "\n",
    "joinedLayerIndex = 0\n",
    "\n",
    "values = []\n",
    "\n",
    "for joinedObject in data['joinedObjects']:\n",
    "    if(joinedObject['joinedLayerIndex'] == joinedLayerIndex):\n",
    "        values = joinedObject['otherValues']\n",
    "        break\n",
    "\n",
    "f.close()\n",
    "\n",
    "uc = UrbanComponent()\n",
    "\n",
    "uc.setWorkDir(\"../../../public/data/manhattan_wo_cells\")\n",
    "uc.addLayerFromJsonFile(\"../../../public/data/manhattan_wo_cells/buildings_s.json\")\n",
    "\n",
    "buildingsJson = uc.layers['json'][0]\n",
    "\n",
    "# f = open('./buildings.json', 'w')\n",
    "\n",
    "# f.write(json.dumps(buildingsJson))\n",
    "\n",
    "# f.close()\n",
    "\n",
    "latitude = []\n",
    "longitude = []\n",
    "height = []\n",
    "\n",
    "for geometry in buildingsJson['data']:\n",
    "    for i in range(int(len(geometry['geometry']['coordinates'])/3)):\n",
    "        latitude.append(geometry['geometry']['coordinates'][i*3])\n",
    "        longitude.append(geometry['geometry']['coordinates'][i*3+1])\n",
    "        height.append(geometry['geometry']['coordinates'][i*3+2])\n",
    "\n",
    "df = pd.DataFrame(data={'latitude': latitude, 'longitude': longitude, 'height': height})\n",
    "\n",
    "m1 = df[['latitude','longitude','height']].to_numpy()[:,1]\n",
    "m2 = df[['latitude','longitude','height']].to_numpy()[:,0]\n",
    "m3 = df[['latitude','longitude','height']].to_numpy()[:,2]\n",
    "\n",
    "xmin = m1.min()\n",
    "xmax = m1.max()\n",
    "ymin = m2.min()\n",
    "ymax = m2.max()\n",
    "zmin = m3.min()\n",
    "zmax = m3.max()\n",
    "\n",
    "X, Y, Z = np.mgrid[xmin:xmax:100, ymin:ymax:100, zmin:zmax:100]\n",
    "\n",
    "\n",
    "\n"
   ]
  },
  {
   "attachments": {},
   "cell_type": "markdown",
   "metadata": {},
   "source": [
    "### Creating 3D scalar function with KDE"
   ]
  },
  {
   "cell_type": "code",
   "execution_count": null,
   "metadata": {},
   "outputs": [],
   "source": [
    "# df = pd.read_pickle('data/311_2019.pkl.gz')\n",
    "# m1 = df[['latitude','longitude']].to_numpy()[:,1]\n",
    "# m2 = df[['latitude','longitude']].to_numpy()[:,0]\n",
    "# xmin = m1.min()\n",
    "# xmax = m1.max()\n",
    "# ymin = m2.min()\n",
    "# ymax = m2.max()\n",
    "# X, Y = np.mgrid[xmin:xmax:100j, ymin:ymax:100j]\n",
    "# positions = np.vstack([X.ravel(), Y.ravel()])\n",
    "# values = np.vstack([m1, m2])\n",
    "# kernel = scipy.stats.gaussian_kde(values)\n",
    "# Z = np.reshape(kernel(positions).T, X.shape)"
   ]
  },
  {
   "attachments": {},
   "cell_type": "markdown",
   "metadata": {},
   "source": [
    "### Plotting scalar function"
   ]
  },
  {
   "cell_type": "code",
   "execution_count": null,
   "metadata": {},
   "outputs": [],
   "source": [
    "# fig, ax = plt.subplots()\n",
    "# ax.imshow(np.rot90(Z), cmap=plt.cm.YlOrBr, extent=[xmin, xmax, ymin, ymax])\n",
    "# ax.set_xlim([xmin, xmax])\n",
    "# ax.set_ylim([ymin, ymax])\n",
    "# plt.show()"
   ]
  }
 ],
 "metadata": {
  "kernelspec": {
   "display_name": "urbantk",
   "language": "python",
   "name": "python3"
  },
  "language_info": {
   "codemirror_mode": {
    "name": "ipython",
    "version": 3
   },
   "file_extension": ".py",
   "mimetype": "text/x-python",
   "name": "python",
   "nbconvert_exporter": "python",
   "pygments_lexer": "ipython3",
   "version": "3.10.6"
  },
  "orig_nbformat": 4
 },
 "nbformat": 4,
 "nbformat_minor": 2
}
