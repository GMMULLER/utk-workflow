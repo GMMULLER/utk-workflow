{
 "cells": [
  {
   "cell_type": "code",
   "execution_count": 14,
   "metadata": {},
   "outputs": [],
   "source": [
    "import numpy as np\n",
    "import pandas as pd\n",
    "import matplotlib.pyplot as plt\n",
    "import scipy\n",
    "from scipy import ndimage\n",
    "import PIL\n",
    "import json\n",
    "from urbanComponent import *\n",
    "import math\n",
    "\n",
    "from persim import plot_diagrams\n",
    "from ripser import ripser, lower_star_img"
   ]
  },
  {
   "cell_type": "code",
   "execution_count": 2,
   "metadata": {},
   "outputs": [],
   "source": [
    "f = open('../../../public/data/manhattan_wo_cells/buildings_s_joined.json', 'r')\n",
    "\n",
    "data = json.load(f)\n",
    "\n",
    "joinedLayerIndex = 0\n",
    "\n",
    "values = []\n",
    "\n",
    "for joinedObject in data['joinedObjects']:\n",
    "    if(joinedObject['joinedLayerIndex'] == joinedLayerIndex):\n",
    "        values = joinedObject['otherValues']\n",
    "        break\n",
    "\n",
    "f.close()\n",
    "\n",
    "uc = UrbanComponent()\n",
    "\n",
    "uc.setWorkDir(\"../../../public/data/manhattan_wo_cells\")\n",
    "uc.addLayerFromJsonFile(\"../../../public/data/manhattan_wo_cells/buildings_s.json\")\n",
    "\n",
    "buildingsJson = uc.layers['json'][0]\n",
    "\n",
    "# f = open('./buildings.json', 'w')\n",
    "\n",
    "# f.write(json.dumps(buildingsJson))\n",
    "\n",
    "# f.close()\n",
    "\n",
    "latitude = []\n",
    "longitude = []\n",
    "height = []\n",
    "\n",
    "for geometry in buildingsJson['data']:\n",
    "    for i in range(int(len(geometry['geometry']['coordinates'])/3)):\n",
    "        latitude.append(geometry['geometry']['coordinates'][i*3])\n",
    "        longitude.append(geometry['geometry']['coordinates'][i*3+1])\n",
    "        height.append(geometry['geometry']['coordinates'][i*3+2])\n",
    "\n",
    "df = pd.DataFrame(data={'latitude': latitude, 'longitude': longitude, 'height': height})\n",
    "\n",
    "m1 = df[['latitude','longitude','height']].to_numpy()[:,1]\n",
    "m2 = df[['latitude','longitude','height']].to_numpy()[:,0]\n",
    "m3 = df[['latitude','longitude','height']].to_numpy()[:,2]\n",
    "\n",
    "xmin = m1.min()\n",
    "xmax = m1.max()\n",
    "ymin = m2.min()\n",
    "ymax = m2.max()\n",
    "zmin = m3.min()\n",
    "zmax = m3.max()\n",
    "\n",
    "values = np.array(values).reshape((len(values),))\n",
    "\n",
    "wmin = values.min()\n",
    "wmax = values.max()\n",
    "\n",
    "X, Y, Z, W = np.mgrid[xmin:xmax:100, ymin:ymax:100, zmin:zmax:50, wmin:wmax:0.1]\n",
    "\n",
    "positions = np.vstack([X.ravel(), Y.ravel(), Z.ravel(), W.ravel()]) # grid positions\n",
    "\n",
    "data_points = np.vstack([m1, m2, m3, values]) \n",
    "\n",
    "kernel = scipy.stats.gaussian_kde(data_points)\n",
    "\n",
    "sampled_values = np.reshape(kernel(positions).T, X.shape)\n"
   ]
  },
  {
   "cell_type": "code",
   "execution_count": 21,
   "metadata": {},
   "outputs": [
    {
     "data": {
      "text/plain": [
       "4940393.3058"
      ]
     },
     "execution_count": 21,
     "metadata": {},
     "output_type": "execute_result"
    }
   ],
   "source": [
    "X.min()"
   ]
  },
  {
   "cell_type": "code",
   "execution_count": 23,
   "metadata": {},
   "outputs": [
    {
     "data": {
      "text/plain": [
       "1500.0"
      ]
     },
     "execution_count": 23,
     "metadata": {},
     "output_type": "execute_result"
    }
   ],
   "source": [
    "X.max() - X.min()"
   ]
  },
  {
   "cell_type": "code",
   "execution_count": 4,
   "metadata": {},
   "outputs": [],
   "source": [
    "# for row in sampled_values:\n",
    "#     for column in row:\n",
    "#         for value in column:\n",
    "#             if(value > 0.5):\n",
    "#                 print(value)"
   ]
  },
  {
   "cell_type": "code",
   "execution_count": 5,
   "metadata": {},
   "outputs": [],
   "source": [
    "# fig, ax = plt.subplots()\n",
    "# ax.imshow(np.rot90(sampled_values), cmap=plt.cm.YlOrBr, extent=[xmin, xmax, ymin, ymax])\n",
    "# ax.set_xlim([xmin, xmax])\n",
    "# ax.set_ylim([ymin, ymax])\n",
    "# plt.show()"
   ]
  },
  {
   "cell_type": "code",
   "execution_count": 6,
   "metadata": {},
   "outputs": [
    {
     "name": "stderr",
     "output_type": "stream",
     "text": [
      "C:\\Users\\Gustavo\\AppData\\Local\\Temp\\ipykernel_25072\\2120929520.py:11: DeprecationWarning: `np.float` is a deprecated alias for the builtin `float`. To silence this warning, use `float` by itself. Doing this will not modify any behavior and is safe. If you specifically wanted the numpy scalar type, use `np.float64` here.\n",
      "Deprecated in NumPy 1.20; for more details and guidance: https://numpy.org/devdocs/release/1.20.0-notes.html#deprecations\n",
      "  gaussian_weights = np.array([2, 1], dtype=np.float)\n",
      "C:\\Users\\Gustavo\\AppData\\Local\\Temp\\ipykernel_25072\\2120929520.py:31: DeprecationWarning: `np.float` is a deprecated alias for the builtin `float`. To silence this warning, use `float` by itself. Doing this will not modify any behavior and is safe. If you specifically wanted the numpy scalar type, use `np.float64` here.\n",
      "Deprecated in NumPy 1.20; for more details and guidance: https://numpy.org/devdocs/release/1.20.0-notes.html#deprecations\n",
      "  weights = np.array(weights, np.float)\n"
     ]
    },
    {
     "data": {
      "image/png": "[encoded data removed]",
      "text/plain": [
       "<Figure size 640x480 with 3 Axes>"
      ]
     },
     "metadata": {},
     "output_type": "display_data"
    }
   ],
   "source": [
    "from scipy import stats\n",
    "import numpy as np\n",
    "import matplotlib.pyplot as plt\n",
    "\n",
    "bins = 21\n",
    "\n",
    "#Define a Gaussian mixture to draw samples from\n",
    "num_samples = 10000\n",
    "xmin, xmax = -10, 8\n",
    "#Weight attributed to each component of the mixture\n",
    "gaussian_weights = np.array([2, 1], dtype=np.float)\n",
    "gaussian_weights /= np.sum(gaussian_weights)\n",
    "#Mean and std of each mixture\n",
    "gaussian_means = np.array([-1, 1])\n",
    "gaussian_std = np.array([2, 1])\n",
    "#Observation probability of each mixture\n",
    "gaussian_observation = np.array([1, .5])\n",
    "\n",
    "#How many samples belong to each mixture?\n",
    "gaussian_samples = np.random.multinomial(num_samples, gaussian_weights)\n",
    "samples = []\n",
    "weights = []\n",
    "#Generate samples and observed samples for each mixture component\n",
    "for n, m, s, o in zip(gaussian_samples, gaussian_means, gaussian_std, gaussian_observation):\n",
    "    _samples = np.random.normal(m, s, (n, 2))\n",
    "    _samples = _samples[o > np.random.uniform(size=n)]\n",
    "    samples.extend(_samples)\n",
    "    weights.extend(np.ones(len(_samples)) / o)\n",
    "\n",
    "#Renormalise the sample weights\n",
    "weights = np.array(weights, np.float)\n",
    "weights /= np.sum(weights)\n",
    "samples = np.transpose(samples)\n",
    "\n",
    "#Evaluate the true pdf on a grid\n",
    "x = np.linspace(xmin, xmax, 100)\n",
    "xx, yy = np.meshgrid(x, x)\n",
    "true_pdf = 0\n",
    "for w, m, s in zip(gaussian_weights, gaussian_means, gaussian_std):\n",
    "    true_pdf = true_pdf + w * stats.norm(m, s).pdf(xx) * stats.norm(m, s).pdf(yy)\n",
    "\n",
    "#Evaluate the kde on a grid\n",
    "pdf = stats.gaussian_kde(samples, weights=weights)\n",
    "zz = pdf((np.ravel(xx), np.ravel(yy)))\n",
    "zz = np.reshape(zz, xx.shape)\n",
    "\n",
    "kwargs = dict(extent=(xmin, xmax, xmin, xmax), cmap='hot', origin='lower')\n",
    "#Plot the true pdf\n",
    "plt.subplot(221)\n",
    "plt.imshow(true_pdf.T, **kwargs)\n",
    "plt.title('true PDF')\n",
    "\n",
    "#Plot the kde\n",
    "plt.subplot(222)\n",
    "plt.imshow(zz.T, **kwargs)\n",
    "plt.title('kde')\n",
    "plt.tight_layout()\n",
    "\n",
    "#Plot a histogram\n",
    "ax = plt.subplot(223)\n",
    "plt.hist2d(samples[0], samples[1], bins, ((xmin, xmax), (xmin, xmax)), \n",
    "           True, weights, cmap='hot')\n",
    "ax.set_aspect(1)\n",
    "plt.title('histogram')\n",
    "plt.tight_layout()\n",
    "plt.show()"
   ]
  },
  {
   "cell_type": "code",
   "execution_count": null,
   "metadata": {},
   "outputs": [],
   "source": []
  }
 ],
 "metadata": {
  "kernelspec": {
   "display_name": "urbantk",
   "language": "python",
   "name": "python3"
  },
  "language_info": {
   "codemirror_mode": {
    "name": "ipython",
    "version": 3
   },
   "file_extension": ".py",
   "mimetype": "text/x-python",
   "name": "python",
   "nbconvert_exporter": "python",
   "pygments_lexer": "ipython3",
   "version": "3.10.6"
  },
  "orig_nbformat": 4
 },
 "nbformat": 4,
 "nbformat_minor": 2
}
