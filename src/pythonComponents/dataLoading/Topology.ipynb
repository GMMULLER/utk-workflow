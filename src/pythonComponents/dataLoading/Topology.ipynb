{
 "cells": [
  {
   "cell_type": "code",
   "execution_count": 1,
   "metadata": {},
   "outputs": [
    {
     "name": "stderr",
     "output_type": "stream",
     "text": [
      "c:\\Users\\Gustavo\\anaconda3\\envs\\urbantk\\lib\\site-packages\\geopandas\\_compat.py:112: UserWarning: The Shapely GEOS version (3.11.0-CAPI-1.17.0) is incompatible with the GEOS version PyGEOS was compiled with (3.10.4-CAPI-1.16.2). Conversions between both will be slow.\n",
      "  warnings.warn(\n"
     ]
    }
   ],
   "source": [
    "import numpy as np\n",
    "import pandas as pd\n",
    "import matplotlib.pyplot as plt\n",
    "import scipy\n",
    "from scipy import ndimage\n",
    "import PIL\n",
    "import json\n",
    "from urbanComponent import *\n",
    "import math\n",
    "from vedo import download, Points, Axes, show\n",
    "\n",
    "from persim import plot_diagrams\n",
    "from ripser import ripser, lower_star_img"
   ]
  },
  {
   "cell_type": "code",
   "execution_count": 2,
   "metadata": {},
   "outputs": [],
   "source": [
    "f = open('../../../public/data/manhattan_wo_cells/buildings_s_joined.json', 'r')\n",
    "\n",
    "data = json.load(f)\n",
    "\n",
    "joinedLayerIndex = 0\n",
    "\n",
    "values = []\n",
    "\n",
    "for joinedObject in data['joinedObjects']:\n",
    "    if(joinedObject['joinedLayerIndex'] == joinedLayerIndex):\n",
    "        values = joinedObject['otherValues']\n",
    "        break\n",
    "\n",
    "f.close()\n",
    "\n",
    "uc = UrbanComponent()\n",
    "\n",
    "uc.setWorkDir(\"../../../public/data/manhattan_wo_cells\")\n",
    "uc.addLayerFromJsonFile(\"../../../public/data/manhattan_wo_cells/buildings_s.json\")\n",
    "\n",
    "buildingsJson = uc.layers['json'][0]\n",
    "\n",
    "# f = open('./buildings.json', 'w')\n",
    "\n",
    "# f.write(json.dumps(buildingsJson))\n",
    "\n",
    "# f.close()\n",
    "\n",
    "latitude = []\n",
    "longitude = []\n",
    "height = []\n",
    "\n",
    "for geometry in buildingsJson['data']:\n",
    "    for i in range(int(len(geometry['geometry']['coordinates'])/3)):\n",
    "        latitude.append(geometry['geometry']['coordinates'][i*3])\n",
    "        longitude.append(geometry['geometry']['coordinates'][i*3+1])\n",
    "        height.append(geometry['geometry']['coordinates'][i*3+2])\n",
    "\n",
    "df = pd.DataFrame(data={'latitude': latitude, 'longitude': longitude, 'height': height})\n",
    "\n",
    "m1 = df[['latitude','longitude','height']].to_numpy()[:,1]\n",
    "m2 = df[['latitude','longitude','height']].to_numpy()[:,0]\n",
    "m3 = df[['latitude','longitude','height']].to_numpy()[:,2]\n",
    "\n",
    "xmin = m1.min()\n",
    "xmax = m1.max()\n",
    "ymin = m2.min()\n",
    "ymax = m2.max()\n",
    "zmin = m3.min()\n",
    "zmax = m3.max()\n",
    "\n",
    "values = np.array(values).reshape((len(values),))\n",
    "\n",
    "wmin = values.min()\n",
    "wmax = values.max()\n",
    "\n",
    "# X, Y, Z, W = np.mgrid[xmin:xmax:100, ymin:ymax:100, zmin:zmax:50, wmin:wmax:0.1]\n",
    "\n",
    "X, Y, Z = np.mgrid[xmin:xmax:100, ymin:ymax:100, zmin:zmax:50]\n",
    "\n",
    "# positions = np.vstack([X.ravel(), Y.ravel(), Z.ravel(), W.ravel()]) # grid positions\n",
    "\n",
    "positions = np.vstack([X.ravel(), Y.ravel(), Z.ravel()]) # grid positions\n",
    "\n",
    "# data_points = np.vstack([m1, m2, m3, values]) \n",
    "\n",
    "data_points = np.vstack([m1, m2, m3]) \n",
    "\n",
    "kernel = scipy.stats.gaussian_kde(data_points, weights=values)\n",
    "\n",
    "sampled_values = np.reshape(kernel(positions).T, X.shape)\n",
    "# sampled_values = kernel(positions).T\n"
   ]
  },
  {
   "cell_type": "code",
   "execution_count": 3,
   "metadata": {},
   "outputs": [],
   "source": [
    "reshape_sampled_values = np.reshape(sampled_values, (64, 32))\n",
    "\n",
    "reshape_sampled_values = ((reshape_sampled_values - reshape_sampled_values.min())/(reshape_sampled_values.max() - reshape_sampled_values.min())) # normalizing the data"
   ]
  },
  {
   "cell_type": "code",
   "execution_count": 4,
   "metadata": {},
   "outputs": [],
   "source": [
    "# flat_grid_positions = []\n",
    "\n",
    "# for i in range(len(positions[0,:])):\n",
    "#     flat_grid_positions.append(positions[1,i])\n",
    "#     flat_grid_positions.append(positions[0,i])\n",
    "#     flat_grid_positions.append(positions[2,i])\n",
    "\n",
    "# grid_points = {'points': flat_grid_positions, 'values': sampled_values.tolist()}\n",
    "\n",
    "# json_object = json.dumps(grid_points)\n",
    "\n",
    "# file = open('grid_points.json', 'w')\n",
    "\n",
    "# file.write(json_object)\n",
    "\n",
    "# file.close()\n",
    "\n",
    "# file = open('grid_values.json', 'w')\n",
    "\n",
    "# thematic_layer = {\n",
    "#     \"id\": \"grid_values\",\n",
    "#     \"coordinates\": flat_grid_positions,\n",
    "#     \"values\": sampled_values.tolist()\n",
    "# }\n",
    "\n",
    "# file.write(json.dumps(thematic_layer))\n",
    "\n",
    "# file.close()\n"
   ]
  },
  {
   "attachments": {},
   "cell_type": "markdown",
   "metadata": {},
   "source": [
    "### 2D plot"
   ]
  },
  {
   "cell_type": "code",
   "execution_count": 5,
   "metadata": {},
   "outputs": [
    {
     "data": {
      "image/png": "[encoded data removed]",
      "text/plain": [
       "<Figure size 640x480 with 1 Axes>"
      ]
     },
     "metadata": {},
     "output_type": "display_data"
    }
   ],
   "source": [
    "fig, ax = plt.subplots()\n",
    "# ax.imshow(np.rot90(reshape_sampled_values), cmap=plt.cm.YlOrBr, extent=[xmin, xmax, ymin, ymax])\n",
    "ax.imshow(np.rot90(reshape_sampled_values), cmap=plt.cm.YlOrBr)\n",
    "#  ax.set_xlim([xmin, xmax])\n",
    "# ax.set_ylim([ymin, ymax])\n",
    "plt.show()"
   ]
  },
  {
   "attachments": {},
   "cell_type": "markdown",
   "metadata": {},
   "source": [
    "### Making every pixel to have a unique value"
   ]
  },
  {
   "cell_type": "code",
   "execution_count": 6,
   "metadata": {},
   "outputs": [],
   "source": [
    "# # reshape_sampled_values += 0.01 * np.random.randn(*reshape_sampled_values.shape)\n",
    "\n",
    "# # print(reshape_sampled_values)\n",
    "# rand = np.random.randn(*reshape_sampled_values.shape)\n",
    "# randNorm = ((rand - rand.min())/(rand.max() - rand.min()))*max(reshape_sampled_values.flatten().tolist())\n",
    "# # print(randNorm)\n",
    "# # print(randNorm.max(), randNorm.min())\n",
    "# # print(reshape_sampled_values.max(), reshape_sampled_values.min())\n",
    "\n",
    "# noisy_result = reshape_sampled_values + (0.01 * randNorm)\n",
    "\n",
    "# fig, ax = plt.subplots()\n",
    "# ax.imshow(np.rot90(noisy_result), cmap=plt.cm.YlOrBr)\n",
    "# plt.show()"
   ]
  },
  {
   "attachments": {},
   "cell_type": "markdown",
   "metadata": {},
   "source": [
    "### Computing persistence diagram"
   ]
  },
  {
   "cell_type": "code",
   "execution_count": 7,
   "metadata": {},
   "outputs": [
    {
     "data": {
      "image/png": "[encoded data removed]",
      "text/plain": [
       "<Figure size 640x480 with 1 Axes>"
      ]
     },
     "metadata": {},
     "output_type": "display_data"
    }
   ],
   "source": [
    "# dgm = lower_star_img(-noisy_result)\n",
    "dgm = lower_star_img(-reshape_sampled_values)\n",
    "dgm[~np.isinf(dgm)] = -dgm[~np.isinf(dgm)]\n",
    "dgm[~np.isinf(dgm).any(axis=1)] = np.flip(dgm[~np.isinf(dgm).any(axis=1)])\n",
    "# plt.figure(figsize=(10, 5))\n",
    "# plt.subplot(121)\n",
    "# plt.imshow(np.rot90(Z), cmap=plt.cm.YlOrBr, extent=[xmin, xmax, ymin, ymax])\n",
    "# plt.colorbar()\n",
    "# plt.title(\"Scalar function\")\n",
    "# plt.subplot(122)\n",
    "plot_diagrams(dgm, lifetime=True)\n",
    "plt.title(\"Persistence diagram\")\n",
    "plt.tight_layout()\n",
    "plt.show()"
   ]
  },
  {
   "attachments": {},
   "cell_type": "markdown",
   "metadata": {},
   "source": [
    "### Selecting points with lifetime greater than 1e-8"
   ]
  },
  {
   "cell_type": "code",
   "execution_count": 8,
   "metadata": {},
   "outputs": [
    {
     "data": {
      "image/png": "[encoded data removed]",
      "text/plain": [
       "<Figure size 640x480 with 1 Axes>"
      ]
     },
     "metadata": {},
     "output_type": "display_data"
    }
   ],
   "source": [
    "thresh = 1e-8\n",
    "idxs = np.arange(dgm.shape[0])\n",
    "idxs = idxs[np.abs(dgm[:, 1] - dgm[:, 0]) > thresh]\n",
    "\n",
    "plt.figure()\n",
    "plt.imshow(reshape_sampled_values, cmap=plt.cm.YlOrBr)\n",
    "\n",
    "# X, Y = np.meshgrid(np.arange(noisy_result.shape[1]), np.arange(noisy_result.shape[0]))\n",
    "X, Y = np.meshgrid(np.arange(reshape_sampled_values.shape[1]), np.arange(reshape_sampled_values.shape[0]))\n",
    "X = X.flatten()\n",
    "Y = Y.flatten()\n",
    "\n",
    "maxima_points = set()\n",
    "\n",
    "for idx in idxs:\n",
    "    # bidx = np.argmin(np.abs(noisy_result + dgm[idx, 0]))\n",
    "    bidx = np.argmin(np.abs(reshape_sampled_values + dgm[idx, 0]))\n",
    "    maxima_points.add(bidx)\n",
    "    plt.scatter(X[bidx], Y[bidx], 20, 'blue') # showing each 0-dimensional pixel representatives highlighted in the original image\n",
    "plt.axis('off')\n",
    "\n",
    "maxima_points = list(maxima_points)\n",
    "\n",
    "plt.show()"
   ]
  },
  {
   "attachments": {},
   "cell_type": "markdown",
   "metadata": {},
   "source": [
    "### Outputting maxima points to file"
   ]
  },
  {
   "cell_type": "code",
   "execution_count": 9,
   "metadata": {},
   "outputs": [
    {
     "name": "stdout",
     "output_type": "stream",
     "text": [
      "0 0 4.93697404371057e-17\n",
      "0 1 3.5430990020994614e-22\n",
      "0 2 3.282714699094816e-37\n"
     ]
    }
   ],
   "source": [
    "reshape_positions = np.reshape(positions, (3, 64, 32))\n",
    "\n",
    "flat_points = []\n",
    "best_values = []\n",
    "\n",
    "for point in maxima_points:\n",
    "    print(Y[point], X[point], reshape_sampled_values[Y[point], X[point]])\n",
    "\n",
    "    for coordinate in reshape_positions[:,Y[point],X[point]]:\n",
    "        flat_points.append(coordinate)\n",
    "\n",
    "    best_values.append(reshape_sampled_values[Y[point], X[point]])\n",
    "\n",
    "best_points = {'points': flat_points, 'values': best_values}\n",
    "\n",
    "json_object = json.dumps(best_points)\n",
    "\n",
    "file = open('best_points.json', 'w')\n",
    "\n",
    "file.write(json_object)\n",
    "\n",
    "file.close()\n",
    "\n",
    "file = open('best_values.json', 'w')\n",
    "\n",
    "thematic_layer = {\n",
    "    \"id\": \"grid_values\",\n",
    "    \"coordinates\": flat_points,\n",
    "    \"values\": best_values\n",
    "}\n",
    "\n",
    "file.write(json.dumps(thematic_layer))\n",
    "\n",
    "file.close()\n"
   ]
  },
  {
   "attachments": {},
   "cell_type": "markdown",
   "metadata": {},
   "source": [
    "### 3D plot"
   ]
  },
  {
   "cell_type": "code",
   "execution_count": 10,
   "metadata": {},
   "outputs": [],
   "source": [
    "# from vedo import download, Points, Axes, show\n",
    "# from vedo.pyplot import CornerHistogram\n",
    "\n",
    "# # pts = np.c_[sampled_values[0,:,:],sampled_values[:,0,:],sampled_values[:,:,0]] # form an array of 3d points from the columns\n",
    "\n",
    "# # pts = Points(positions[0,:].tolist(), positions[1,:].tolist(), positions[2,:].tolist())\n",
    "# pts = Points(positions)\n",
    "\n",
    "# pts.pointdata[\"scals\"] = sampled_values.flatten()\n",
    "\n",
    "# vol = pts.tovolume(kernel='shepard', N=4, dims=(90,90,90))\n",
    "\n",
    "# vol.c([\"maroon\",\"g\",\"b\"])        # set color   transfer function\n",
    "# vol.alpha([0.3, 0.9])            # set opacity transfer function\n",
    "# #vol.alpha([(0.3,0.3), (0.9,0.9)]) # alternative way, by specifying (xscalar, alpha)\n",
    "# # vol.alpha_unit(0.5)              # make the whole object less transparent (default is 1)\n",
    "\n",
    "# # replace voxels of specific range with a new value\n",
    "# # vol.threshold(above=0.3, below=0.4, replace=0.9)\n",
    "# # Note that scalar range now has changed (you may want to reapply vol.c().alpha())\n",
    "\n",
    "# ch = CornerHistogram(vol, pos=\"bottom-left\")\n",
    "\n",
    "# # vol.add_scalarbar3d('Height is the voxel scalar', s=[None,1])\n",
    "# # vol.scalarbar.rotate_x(90).pos(1.15,1,0.5)\n",
    "\n",
    "# show(pts, vol, ch, __doc__, axes=1, elevation=-90).close()"
   ]
  },
  {
   "attachments": {},
   "cell_type": "markdown",
   "metadata": {},
   "source": [
    "### Creates points layer from best points"
   ]
  },
  {
   "cell_type": "code",
   "execution_count": 11,
   "metadata": {},
   "outputs": [],
   "source": [
    "def break_into_binary(filepath, filename, data, types, dataTypes):\n",
    "\n",
    "    for index, type in enumerate(types):\n",
    "\n",
    "        readCoords = 0\n",
    "\n",
    "        floatList = []\n",
    "\n",
    "        for i in range(len(data['data'])):\n",
    "            geometry = data['data'][i]['geometry']\n",
    "\n",
    "            newValue = [readCoords, len(geometry[type])] # where this vector starts and its size\n",
    "\n",
    "            readCoords += len(geometry[type])\n",
    "\n",
    "            floatList += geometry[type].copy()\n",
    "\n",
    "            geometry[type] = newValue\n",
    "\n",
    "        fout = open(os.path.join(filepath,filename+'_'+type+'.data'), 'wb')\n",
    "\n",
    "        buf = struct.pack(str(len(floatList))+dataTypes[index], *floatList)\n",
    "\n",
    "        fout.write(buf)\n",
    "        fout.close()\n",
    "\n",
    "        json_object = json.dumps(data)\n",
    "\n",
    "        with open(os.path.join(filepath,filename+\".json\"), \"w\") as outfile:\n",
    "            outfile.write(json_object)"
   ]
  },
  {
   "cell_type": "code",
   "execution_count": 12,
   "metadata": {},
   "outputs": [],
   "source": [
    "# file = open('best_points.json', 'r')\n",
    "\n",
    "# grid_points = json.load(file)\n",
    "\n",
    "# file.close()\n",
    "\n",
    "# id = 'best_points'\n",
    "# type = 'POINTS_LAYER'\n",
    "# styleKey = 'building'\n",
    "# renderStyle = ['COLOR_POINTS']\n",
    "# selectable = False\n",
    "# visible = True\n",
    "# skip = False\n",
    "\n",
    "# layer = {\n",
    "#     'id': id,\n",
    "#     'type': type,\n",
    "#     'styleKey': styleKey,\n",
    "#     'renderStyle': renderStyle,\n",
    "#     'selectable': selectable,\n",
    "#     'visible': visible,\n",
    "#     'skip': skip\n",
    "# }\n",
    "\n",
    "# layer['data'] = [\n",
    "#     {\n",
    "#         'geometry': {\n",
    "#             'coordinates': grid_points['points']\n",
    "#         }\n",
    "#     }\n",
    "# ]\n",
    "\n",
    "# types = []\n",
    "# dataTypes = []\n",
    "\n",
    "# if('coordinates' in layer['data'][0]['geometry']):\n",
    "#     types.append(\"coordinates\")\n",
    "#     dataTypes.append(\"d\")\n",
    "\n",
    "# if('normals' in layer['data'][0]['geometry']):\n",
    "#     types.append(\"normals\")\n",
    "#     dataTypes.append(\"f\")\n",
    "\n",
    "# if('indices' in layer['data'][0]['geometry']):\n",
    "#     types.append(\"indices\")\n",
    "#     dataTypes.append(\"I\")\n",
    "\n",
    "# if('ids' in layer['data'][0]['geometry']):\n",
    "#     types.append(\"ids\")\n",
    "#     dataTypes.append(\"I\")\n",
    "\n",
    "# break_into_binary('./', layer['id'], layer, types, dataTypes)\n"
   ]
  }
 ],
 "metadata": {
  "kernelspec": {
   "display_name": "urbantk",
   "language": "python",
   "name": "python3"
  },
  "language_info": {
   "codemirror_mode": {
    "name": "ipython",
    "version": 3
   },
   "file_extension": ".py",
   "mimetype": "text/x-python",
   "name": "python",
   "nbconvert_exporter": "python",
   "pygments_lexer": "ipython3",
   "version": "3.10.6"
  },
  "orig_nbformat": 4
 },
 "nbformat": 4,
 "nbformat_minor": 2
}
