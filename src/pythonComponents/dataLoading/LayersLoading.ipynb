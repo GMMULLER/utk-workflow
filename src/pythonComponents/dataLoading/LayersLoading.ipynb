{
 "cells": [
  {
   "cell_type": "code",
   "execution_count": 1,
   "metadata": {},
   "outputs": [
    {
     "name": "stdout",
     "output_type": "stream",
     "text": [
      "********************************************************************************\n",
      "PlotOptiX newer version is available: 0.15.0\n",
      "to update your release use:\n",
      "      pip install plotoptix --upgrade\n",
      "********************************************************************************\n"
     ]
    }
   ],
   "source": [
    "from osm import *\n",
    "from shadowAccumulator import *\n",
    "from surfacePostProcessing import *"
   ]
  },
  {
   "cell_type": "code",
   "execution_count": 2,
   "metadata": {},
   "outputs": [
    {
     "data": {
      "application/vnd.jupyter.widget-view+json": {
       "model_id": "d61ce7d5e42b4443882bb3256e214fb0",
       "version_major": 2,
       "version_minor": 0
      },
      "text/plain": [
       "  0%|          | 0/4 [00:00<?, ?it/s]"
      ]
     },
     "metadata": {},
     "output_type": "display_data"
    },
    {
     "data": {
      "application/vnd.jupyter.widget-view+json": {
       "model_id": "a8a948803ba448ba9ee6c7aa09170e31",
       "version_major": 2,
       "version_minor": 0
      },
      "text/plain": [
       "  0%|          | 0/1 [00:00<?, ?it/s]"
      ]
     },
     "metadata": {},
     "output_type": "display_data"
    }
   ],
   "source": [
    "# uc = OSM.load_from_bbox([40.69955499145943, -74.02246240136375, 40.71129333248451, -74.00571625011193],layers=['parks', 'water', 'roads','buildings']) # coast manhattan\n",
    "\n",
    "# uc = OSM.load_from_bbox([40.699768, -74.019904, 40.71135, -74.004712],layers=['buildings']) # south manhattan\n",
    "\n",
    "uc = OSM.load_from_bbox([40.70695265056355, -74.01818677471793, 40.7076533306313, -74.01718208165698],layers=['buildings']) # one building manhattan\n",
    "\n",
    "# uc = OSM.load_from_bbox([41.888935517219466, -87.62593386259636, 41.89817553541827, -87.59802720707879], layers=['parks', 'water', 'roads','buildings']) # downtown chicago\n",
    "\n",
    "# uc = OSM.load_from_bbox([41.87563217785448, -87.63386062211356, 41.87695047270141, -87.63303276422087], layers=['buildings']) # one building chicago\n",
    "\n",
    "uc.to_file('../../../public/data/one_building/', True)\n",
    "# shadowAccumulator = ShadowAccumulator(['../../../public/data/south_manhattan/buildings.json', '../../../public/data/south_manhattan/surface.json'], [[\"06/21/2015 08:00\", \"06/21/2015 09:01\"], [\"09/22/2015 14:00\", \"09/22/2015 15:01\"], [\"12/21/2015 10:00\", \"12/21/2015 11:01\"]], 'spring')\n",
    "# shadowAccumulator = ShadowAccumulator(['../../../public/data/south_manhattan/buildings.json', '../../../public/data/south_manhattan/surface.json'], [[\"03/20/2015 10:00\", \"03/20/2015 11:01\"], [\"09/22/2015 14:00\", \"09/22/2015 15:01\"]], 'spring')\n",
    "# shadowAccumulator = ShadowAccumulator(['../../../public/data/coastline_test/buildings.json', '../../../public/data/coastline_test/surface.json'], [[\"03/20/2015 10:00\", \"03/20/2015 11:01\"]], 'spring')\n",
    "# shadowAccumulator.accumulate_shadow()\n",
    "\n",
    "# postProcessSurface('../../../public/data/coastline_test/', [0.01,1], [0,0.01])\n"
   ]
  }
 ],
 "metadata": {
  "kernelspec": {
   "display_name": "urbantk",
   "language": "python",
   "name": "python3"
  },
  "language_info": {
   "codemirror_mode": {
    "name": "ipython",
    "version": 3
   },
   "file_extension": ".py",
   "mimetype": "text/x-python",
   "name": "python",
   "nbconvert_exporter": "python",
   "pygments_lexer": "ipython3",
   "version": "3.10.6"
  },
  "orig_nbformat": 4,
  "vscode": {
   "interpreter": {
    "hash": "417a5b75eced6a10a6aab538a5d6d1aa2801868f4335db3e9395b85b77ab2694"
   }
  }
 },
 "nbformat": 4,
 "nbformat_minor": 2
}
