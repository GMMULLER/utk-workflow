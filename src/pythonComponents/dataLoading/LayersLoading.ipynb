{
 "cells": [
  {
   "cell_type": "code",
   "execution_count": null,
   "metadata": {},
   "outputs": [],
   "source": [
    "from osm import *\n",
    "from shadowAccumulator import *\n",
    "from surfacePostProcessing import *"
   ]
  },
  {
   "cell_type": "code",
   "execution_count": null,
   "metadata": {},
   "outputs": [],
   "source": [
    "# uc = OSM.load_from_bbox([40.69955499145943, -74.02246240136375, 40.71129333248451, -74.00571625011193],layers=['parks', 'water', 'roads','buildings']) # coast manhattan\n",
    "\n",
    "# uc = OSM.load_from_bbox([40.699768, -74.019904, 40.71135, -74.004712],layers=['buildings']) # south manhattan\n",
    "\n",
    "# uc = OSM.load_from_bbox([40.70695265056355, -74.01818677471793, 40.7076533306313, -74.01718208165698],layers=['buildings']) # one building manhattan\n",
    "\n",
    "uc = OSM.load_from_bbox([58.3229271556333, -77.36746625904107, 83.99114992836665, -2.8362223124819965], layers=['buildings'], pbf_filepath='./greenland-latest.osm.pbf') # greenland from pbf\n",
    "\n",
    "# uc = OSM.load_from_bbox([41.888935517219466, -87.62593386259636, 41.89817553541827, -87.59802720707879], layers=['parks', 'water', 'roads','buildings']) # downtown chicago\n",
    "\n",
    "# uc = OSM.load_from_bbox([41.87563217785448, -87.63386062211356, 41.87695047270141, -87.63303276422087], layers=['buildings']) # one building chicago\n",
    "\n",
    "uc.to_file('../../../public/data/one_building/', True)\n",
    "# shadowAccumulator = ShadowAccumulator(['../../../public/data/south_manhattan/buildings.json', '../../../public/data/south_manhattan/surface.json'], [[\"06/21/2015 08:00\", \"06/21/2015 09:01\"], [\"09/22/2015 14:00\", \"09/22/2015 15:01\"], [\"12/21/2015 10:00\", \"12/21/2015 11:01\"]], 'spring')\n",
    "# shadowAccumulator = ShadowAccumulator(['../../../public/data/south_manhattan/buildings.json', '../../../public/data/south_manhattan/surface.json'], [[\"03/20/2015 10:00\", \"03/20/2015 11:01\"], [\"09/22/2015 14:00\", \"09/22/2015 15:01\"]], 'spring')\n",
    "# shadowAccumulator = ShadowAccumulator(['../../../public/data/one_building/buildings.json', '../../../public/data/one_building/surface.json'], [[\"03/20/2015 10:00\", \"03/20/2015 11:01\"]], 'spring')\n",
    "# shadowAccumulator.accumulate_shadow()\n",
    "\n",
    "# postProcessSurface('../../../public/data/coastline_test/', [0.01,1], [0,0.01])\n"
   ]
  }
 ],
 "metadata": {
  "kernelspec": {
   "display_name": "urbantk",
   "language": "python",
   "name": "python3"
  },
  "language_info": {
   "codemirror_mode": {
    "name": "ipython",
    "version": 3
   },
   "file_extension": ".py",
   "mimetype": "text/x-python",
   "name": "python",
   "nbconvert_exporter": "python",
   "pygments_lexer": "ipython3",
   "version": "3.10.6 | packaged by conda-forge | (main, Aug 22 2022, 20:30:19) [MSC v.1929 64 bit (AMD64)]"
  },
  "orig_nbformat": 4,
  "vscode": {
   "interpreter": {
    "hash": "70e5c1a2e5a1b6bda8e8c783cf9964b5c0412d607cc5f42b6005c575303b0216"
   }
  }
 },
 "nbformat": 4,
 "nbformat_minor": 2
}
