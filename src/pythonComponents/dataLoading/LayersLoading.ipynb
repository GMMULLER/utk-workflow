{
 "cells": [
  {
   "cell_type": "code",
   "execution_count": 1,
   "metadata": {},
   "outputs": [],
   "source": [
    "from loader import *\n",
    "from shadowAccumulator import *"
   ]
  },
  {
   "cell_type": "code",
   "execution_count": 2,
   "metadata": {},
   "outputs": [
    {
     "data": {
      "application/vnd.jupyter.widget-view+json": {
       "model_id": "c381aa7cbd1640298d87672abf62f33a",
       "version_major": 2,
       "version_minor": 0
      },
      "text/plain": [
       "  0%|          | 0/404 [00:00<?, ?it/s]"
      ]
     },
     "metadata": {},
     "output_type": "display_data"
    },
    {
     "data": {
      "application/vnd.jupyter.widget-view+json": {
       "model_id": "b0b0a69ef1764207a079cbbbeac1ad9e",
       "version_major": 2,
       "version_minor": 0
      },
      "text/plain": [
       "  0%|          | 0/158 [00:00<?, ?it/s]"
      ]
     },
     "metadata": {},
     "output_type": "display_data"
    },
    {
     "name": "stdout",
     "output_type": "stream",
     "text": [
      "(689678, 3)\n",
      "[[-8.23942848e+06  4.94183830e+06  8.00000000e+00]\n",
      " [-8.23942368e+06  4.94183689e+06  8.00000000e+00]\n",
      " [-8.23942381e+06  4.94183648e+06  8.00000000e+00]\n",
      " ...\n",
      " [-8.23919341e+06  4.94100881e+06  0.00000000e+00]\n",
      " [-8.23919055e+06  4.94100787e+06  3.00000000e+00]\n",
      " [-8.23919341e+06  4.94100881e+06  3.00000000e+00]]\n",
      "(459684, 3)\n",
      "[[-8238166.85614286  4941982.65237535        0.        ]\n",
      " [-8238166.85614286  4941977.65237535        0.        ]\n",
      " [-8238171.85614286  4941977.65237535        0.        ]\n",
      " ...\n",
      " [-8239856.85614286  4940292.65237535        0.        ]\n",
      " [-8239856.85614286  4940288.44690071        0.        ]\n",
      " [-8239858.02184699  4940288.44690071        0.        ]]\n"
     ]
    }
   ],
   "source": [
    "# uc = OSM.load_from_bbox([40.728641,-74.000280,40.732836,-73.994486],layers=['parks', 'roads', 'water', 'coastline']) \n",
    "# uc = OSM.load_from_bbox([40.699838937,-74.0196528667,40.7073327656,-74.0082184426],layers=['coastline']) # south manhattan # error\n",
    "\n",
    "# uc = OSM.load_from_bbox([40.728641,-74.000280,40.732836,-73.994486],layers=['buildings']) # south manhattan\n",
    "uc = OSM.load_from_bbox([40.699768, -74.019904, 40.71135, -74.004712],layers=['buildings']) # south manhattan\n",
    "\n",
    "uc.to_file('../../../public/data/example_2/', True)\n",
    "shadowAccumulator = ShadowAccumulator(['../../../public/data/example_2/buildings.json', '../../../public/data/example_2/surface.json'], '10:00', '11:01')\n",
    "shadowAccumulator.accumulate_shadow()"
   ]
  }
 ],
 "metadata": {
  "kernelspec": {
   "display_name": "Python 3.10.6 ('urbantk')",
   "language": "python",
   "name": "python3"
  },
  "language_info": {
   "codemirror_mode": {
    "name": "ipython",
    "version": 3
   },
   "file_extension": ".py",
   "mimetype": "text/x-python",
   "name": "python",
   "nbconvert_exporter": "python",
   "pygments_lexer": "ipython3",
   "version": "3.10.6"
  },
  "orig_nbformat": 4,
  "vscode": {
   "interpreter": {
    "hash": "417a5b75eced6a10a6aab538a5d6d1aa2801868f4335db3e9395b85b77ab2694"
   }
  }
 },
 "nbformat": 4,
 "nbformat_minor": 2
}
