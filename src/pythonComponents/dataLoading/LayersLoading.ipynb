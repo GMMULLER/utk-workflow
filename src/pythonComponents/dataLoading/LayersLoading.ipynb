{
 "cells": [
  {
   "cell_type": "code",
   "execution_count": 1,
   "metadata": {},
   "outputs": [
    {
     "name": "stdout",
     "output_type": "stream",
     "text": [
      "********************************************************************************\n",
      "PlotOptiX newer version is available: 0.15.0\n",
      "to update your release use:\n",
      "      pip install plotoptix --upgrade\n",
      "********************************************************************************\n"
     ]
    }
   ],
   "source": [
    "from osm import *\n",
    "from shadowAccumulator import *\n",
    "from surfacePostProcessing import *"
   ]
  },
  {
   "cell_type": "code",
   "execution_count": 2,
   "metadata": {},
   "outputs": [
    {
     "data": {
      "application/vnd.jupyter.widget-view+json": {
       "model_id": "dce410e15dff426d9d07b688a52376d0",
       "version_major": 2,
       "version_minor": 0
      },
      "text/plain": [
       "  0%|          | 0/19777 [00:00<?, ?it/s]"
      ]
     },
     "metadata": {},
     "output_type": "display_data"
    },
    {
     "data": {
      "application/vnd.jupyter.widget-view+json": {
       "model_id": "7d42018b017c43ad801434675d8f784e",
       "version_major": 2,
       "version_minor": 0
      },
      "text/plain": [
       "  0%|          | 0/18914 [00:00<?, ?it/s]"
      ]
     },
     "metadata": {},
     "output_type": "display_data"
    },
    {
     "ename": "KeyboardInterrupt",
     "evalue": "",
     "output_type": "error",
     "traceback": [
      "\u001b[1;31m---------------------------------------------------------------------------\u001b[0m",
      "\u001b[1;31mKeyboardInterrupt\u001b[0m                         Traceback (most recent call last)",
      "\u001b[1;32md:\\code\\urbantk-react-ts\\src\\pythonComponents\\dataLoading\\LayersLoading.ipynb Cell 2\u001b[0m in \u001b[0;36m<cell line: 13>\u001b[1;34m()\u001b[0m\n\u001b[0;32m      <a href='vscode-notebook-cell:/d%3A/code/urbantk-react-ts/src/pythonComponents/dataLoading/LayersLoading.ipynb#W1sZmlsZQ%3D%3D?line=6'>7</a>\u001b[0m uc \u001b[39m=\u001b[39m OSM\u001b[39m.\u001b[39mload_from_bbox([\u001b[39m58.3229271556333\u001b[39m, \u001b[39m-\u001b[39m\u001b[39m77.36746625904107\u001b[39m, \u001b[39m83.99114992836665\u001b[39m, \u001b[39m-\u001b[39m\u001b[39m2.8362223124819965\u001b[39m], layers\u001b[39m=\u001b[39m[\u001b[39m'\u001b[39m\u001b[39mbuildings\u001b[39m\u001b[39m'\u001b[39m], pbf_filepath\u001b[39m=\u001b[39m\u001b[39m'\u001b[39m\u001b[39m./greenland-latest.osm.pbf\u001b[39m\u001b[39m'\u001b[39m) \u001b[39m# greenland from pbf\u001b[39;00m\n\u001b[0;32m      <a href='vscode-notebook-cell:/d%3A/code/urbantk-react-ts/src/pythonComponents/dataLoading/LayersLoading.ipynb#W1sZmlsZQ%3D%3D?line=8'>9</a>\u001b[0m \u001b[39m# uc = OSM.load_from_bbox([41.888935517219466, -87.62593386259636, 41.89817553541827, -87.59802720707879], layers=['parks', 'water', 'roads','buildings']) # downtown chicago\u001b[39;00m\n\u001b[0;32m     <a href='vscode-notebook-cell:/d%3A/code/urbantk-react-ts/src/pythonComponents/dataLoading/LayersLoading.ipynb#W1sZmlsZQ%3D%3D?line=9'>10</a>\u001b[0m \n\u001b[0;32m     <a href='vscode-notebook-cell:/d%3A/code/urbantk-react-ts/src/pythonComponents/dataLoading/LayersLoading.ipynb#W1sZmlsZQ%3D%3D?line=10'>11</a>\u001b[0m \u001b[39m# uc = OSM.load_from_bbox([41.87563217785448, -87.63386062211356, 41.87695047270141, -87.63303276422087], layers=['buildings']) # one building chicago\u001b[39;00m\n\u001b[1;32m---> <a href='vscode-notebook-cell:/d%3A/code/urbantk-react-ts/src/pythonComponents/dataLoading/LayersLoading.ipynb#W1sZmlsZQ%3D%3D?line=12'>13</a>\u001b[0m uc\u001b[39m.\u001b[39;49mto_file(\u001b[39m'\u001b[39;49m\u001b[39m../../../public/data/one_building/\u001b[39;49m\u001b[39m'\u001b[39;49m, \u001b[39mTrue\u001b[39;49;00m)\n",
      "File \u001b[1;32md:\\code\\urbantk-react-ts\\src\\pythonComponents\\dataLoading\\urbanComponent.py:67\u001b[0m, in \u001b[0;36mUrbanComponent.to_file\u001b[1;34m(self, filepath, separateFiles)\u001b[0m\n\u001b[0;32m     64\u001b[0m \u001b[39mfor\u001b[39;00m layer \u001b[39min\u001b[39;00m \u001b[39mself\u001b[39m\u001b[39m.\u001b[39mlayers:\n\u001b[0;32m     65\u001b[0m     index_json[\u001b[39m'\u001b[39m\u001b[39mlayers\u001b[39m\u001b[39m'\u001b[39m]\u001b[39m.\u001b[39mappend(layer[\u001b[39m'\u001b[39m\u001b[39mid\u001b[39m\u001b[39m'\u001b[39m])\n\u001b[1;32m---> 67\u001b[0m     layer_json_str \u001b[39m=\u001b[39m \u001b[39mstr\u001b[39m(json\u001b[39m.\u001b[39;49mdumps(layer, indent\u001b[39m=\u001b[39;49m\u001b[39m4\u001b[39;49m))\n\u001b[0;32m     68\u001b[0m     \u001b[39mwith\u001b[39;00m \u001b[39mopen\u001b[39m(os\u001b[39m.\u001b[39mpath\u001b[39m.\u001b[39mjoin(filepath,layer[\u001b[39m'\u001b[39m\u001b[39mid\u001b[39m\u001b[39m'\u001b[39m]\u001b[39m+\u001b[39m\u001b[39m'\u001b[39m\u001b[39m.json\u001b[39m\u001b[39m'\u001b[39m), \u001b[39m\"\u001b[39m\u001b[39mw\u001b[39m\u001b[39m\"\u001b[39m) \u001b[39mas\u001b[39;00m f:\n\u001b[0;32m     69\u001b[0m         f\u001b[39m.\u001b[39mwrite(layer_json_str)\n",
      "\u001b[1;31mKeyboardInterrupt\u001b[0m: "
     ]
    }
   ],
   "source": [
    "# uc = OSM.load_from_bbox([40.69955499145943, -74.02246240136375, 40.71129333248451, -74.00571625011193],layers=['parks', 'water', 'roads','buildings']) # coast manhattan\n",
    "\n",
    "# uc = OSM.load_from_bbox([40.699768, -74.019904, 40.71135, -74.004712],layers=['buildings']) # south manhattan\n",
    "\n",
    "# uc = OSM.load_from_bbox([40.70695265056355, -74.01818677471793, 40.7076533306313, -74.01718208165698],layers=['buildings']) # one building manhattan\n",
    "\n",
    "uc = OSM.load_from_bbox([58.3229271556333, -77.36746625904107, 83.99114992836665, -2.8362223124819965], layers=['buildings'], pbf_filepath='./greenland-latest.osm.pbf') # greenland from pbf\n",
    "\n",
    "# uc = OSM.load_from_bbox([41.888935517219466, -87.62593386259636, 41.89817553541827, -87.59802720707879], layers=['parks', 'water', 'roads','buildings']) # downtown chicago\n",
    "\n",
    "# uc = OSM.load_from_bbox([41.87563217785448, -87.63386062211356, 41.87695047270141, -87.63303276422087], layers=['buildings']) # one building chicago\n",
    "\n",
    "uc.to_file('../../../public/data/one_building/', True)\n",
    "# shadowAccumulator = ShadowAccumulator(['../../../public/data/south_manhattan/buildings.json', '../../../public/data/south_manhattan/surface.json'], [[\"06/21/2015 08:00\", \"06/21/2015 09:01\"], [\"09/22/2015 14:00\", \"09/22/2015 15:01\"], [\"12/21/2015 10:00\", \"12/21/2015 11:01\"]], 'spring')\n",
    "# shadowAccumulator = ShadowAccumulator(['../../../public/data/south_manhattan/buildings.json', '../../../public/data/south_manhattan/surface.json'], [[\"03/20/2015 10:00\", \"03/20/2015 11:01\"], [\"09/22/2015 14:00\", \"09/22/2015 15:01\"]], 'spring')\n",
    "# shadowAccumulator = ShadowAccumulator(['../../../public/data/one_building/buildings.json', '../../../public/data/one_building/surface.json'], [[\"03/20/2015 10:00\", \"03/20/2015 11:01\"]], 'spring')\n",
    "# shadowAccumulator.accumulate_shadow()\n",
    "\n",
    "# postProcessSurface('../../../public/data/coastline_test/', [0.01,1], [0,0.01])\n"
   ]
  }
 ],
 "metadata": {
  "kernelspec": {
   "display_name": "urbantk",
   "language": "python",
   "name": "python3"
  },
  "language_info": {
   "codemirror_mode": {
    "name": "ipython",
    "version": 3
   },
   "file_extension": ".py",
   "mimetype": "text/x-python",
   "name": "python",
   "nbconvert_exporter": "python",
   "pygments_lexer": "ipython3",
   "version": "3.10.6"
  },
  "orig_nbformat": 4,
  "vscode": {
   "interpreter": {
    "hash": "70e5c1a2e5a1b6bda8e8c783cf9964b5c0412d607cc5f42b6005c575303b0216"
   }
  }
 },
 "nbformat": 4,
 "nbformat_minor": 2
}
