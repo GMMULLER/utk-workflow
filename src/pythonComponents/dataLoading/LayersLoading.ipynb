{
 "cells": [
  {
   "cell_type": "code",
   "execution_count": 1,
   "metadata": {},
   "outputs": [
    {
     "name": "stdout",
     "output_type": "stream",
     "text": [
      "********************************************************************************\n",
      "PlotOptiX newer version is available: 0.15.0\n",
      "to update your release use:\n",
      "      pip install plotoptix --upgrade\n",
      "********************************************************************************\n"
     ]
    }
   ],
   "source": [
    "from osm import *\n",
    "from shadowAccumulator import *\n",
    "from surfacePostProcessing import *\n",
    "from shp import *\n",
    "from urbanComponent import *"
   ]
  },
  {
   "cell_type": "code",
   "execution_count": 2,
   "metadata": {},
   "outputs": [
    {
     "name": "stdout",
     "output_type": "stream",
     "text": [
      "                                            geometry     id  value_right\n",
      "0      [-8238798.806548685, 4941061.334481162, 14.5]      0     0.966667\n",
      "1      [-8238803.327841589, 4941059.558710623, 14.5]      1     0.966667\n",
      "2      [-8238804.203341986, 4941061.787823925, 14.5]      2     0.900000\n",
      "3      [-8238799.0729269255, 4941062.40246699, 14.5]      3     1.000000\n",
      "4      [-8238797.586246294, 4941056.441943187, 14.5]      4     0.966667\n",
      "...                                              ...    ...          ...\n",
      "12371  [-8238830.556089348, 4940946.939110906, 30.5]  12371     1.000000\n",
      "12372  [-8238830.556089348, 4940946.939110906, 23.0]  12372     1.000000\n",
      "12373  [-8238828.550328086, 4940942.250403498, 23.0]  12373     0.500000\n",
      "12374  [-8238830.556089348, 4940946.939110906, 30.5]  12374     1.000000\n",
      "12375  [-8238828.550328086, 4940942.250403498, 30.5]  12375     0.000000\n",
      "\n",
      "[12376 rows x 3 columns]\n"
     ]
    }
   ],
   "source": [
    "# generateLayerFromShp(\"../../../public/data/south_manhattan/ZIP_CODE_040114.shp\", [40.699768, -74.019904, 40.71135, -74.004712], \"zip\", \"land\")\n",
    "\n",
    "# uc = OSM.load_from_bbox([40.70695265056355, -74.01818677471793, 40.7076533306313, -74.01718208165698],layers=['buildings']) # one building manhattan\n",
    "\n",
    "uc = UrbanComponent()\n",
    "\n",
    "uc.addLayerFromJsonFile(\"../../../public/data/one_building/buildings.json\", 2)\n",
    "uc.addLayerFromJsonFile(\"../../../public/data/one_building/shadow0.json\", 3, abstract=True)\n",
    "\n",
    "# print(uc.layers['gdf']['coordinates3d'][0])\n",
    "# print(uc.layers['gdf']['coordinates3d'][0])\n",
    "\n",
    "print(uc.attachAbstractToPhysical('buildings', 'shadow0'))\n",
    "\n",
    "uc.to_file('../../../public/data/one_building/', True)\n",
    "\n",
    "# uc = OSM.load_from_bbox([40.699768, -74.019904, 40.71135, -74.004712],layers=['parks', 'water', 'roads','buildings']) # south manhattan without pbf\n",
    "\n",
    "# uc.addLayerFromJsonFile('../../../public/data/south_manhattan/zip.json', dim=2)\n",
    "\n",
    "# uc = OSM.load_from_bbox([40.699768, -74.019904, 40.71135, -74.004712],layers=['parks', 'water', 'roads','buildings'], pbf_filepath='./osm_pbf_files/new-york-latest.osm.pbf') # south manhattan with pbf\n",
    "# uc = OSM.load_from_bbox([40.699768, -74.019904, 40.71135, -74.004712],layers=['parks', 'water', 'roads','buildings']) # south manhattan without pbf\n",
    "\n",
    "# uc = OSM.load_from_bbox([41.888935517219466, -87.62593386259636, 41.89817553541827, -87.59802720707879], layers=['buildings']) # downtown chicago\n",
    "# uc = OSM.load_from_bbox([41.89668031564063, -87.62217400322182, 41.89766067070132, -87.62023649289858], layers=['buildings']) # one building chicago\n",
    "\n",
    "# uc.to_file('../../../public/data/south_manhattan/', True)\n",
    "# shadowAccumulator = ShadowAccumulator(['../../../public/data/south_manhattan/buildings.json', '../../../public/data/south_manhattan/surface.json'], [[\"06/21/2015 08:00\", \"06/21/2015 09:01\"], [\"09/22/2015 14:00\", \"09/22/2015 15:01\"], [\"12/21/2015 10:00\", \"12/21/2015 11:01\"]], 'spring')\n",
    "# shadowAccumulator = ShadowAccumulator(['../../../public/data/one_building/buildings.json', '../../../public/data/one_building/surface.json'], [[\"03/20/2015 10:00\", \"03/20/2015 11:01\"], [\"09/22/2015 14:00\", \"09/22/2015 15:01\"]], 'spring')\n",
    "# shadowAccumulator = ShadowAccumulator(['../../../public/data/south_manhattan/buildings.json', '../../../public/data/south_manhattan/surface.json'], [[\"03/20/2015 10:00\", \"03/20/2015 11:01\"]], 'spring')\n",
    "# shadowAccumulator.accumulate_shadow()\n",
    "\n",
    "# postProcessSurface('../../../public/data/south_manhattan/', [0.01,1], [0,0.01])\n"
   ]
  },
  {
   "cell_type": "code",
   "execution_count": 3,
   "metadata": {},
   "outputs": [],
   "source": [
    "# import pandas as pd\n",
    "\n",
    "# pd.isna(uc.layers['gdf'][1].sjoin(uc.layers['gdf'][2], how='left').iloc[2]['index_right'])"
   ]
  }
 ],
 "metadata": {
  "kernelspec": {
   "display_name": "urbantk",
   "language": "python",
   "name": "python3"
  },
  "language_info": {
   "codemirror_mode": {
    "name": "ipython",
    "version": 3
   },
   "file_extension": ".py",
   "mimetype": "text/x-python",
   "name": "python",
   "nbconvert_exporter": "python",
   "pygments_lexer": "ipython3",
   "version": "3.10.6"
  },
  "orig_nbformat": 4,
  "vscode": {
   "interpreter": {
    "hash": "417a5b75eced6a10a6aab538a5d6d1aa2801868f4335db3e9395b85b77ab2694"
   }
  }
 },
 "nbformat": 4,
 "nbformat_minor": 2
}
