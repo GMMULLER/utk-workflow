{
 "cells": [
  {
   "cell_type": "code",
   "execution_count": 1,
   "metadata": {},
   "outputs": [
    {
     "name": "stdout",
     "output_type": "stream",
     "text": [
      "********************************************************************************\n",
      "PlotOptiX newer version is available: 0.15.0\n",
      "to update your release use:\n",
      "      pip install plotoptix --upgrade\n",
      "********************************************************************************\n"
     ]
    }
   ],
   "source": [
    "from osm import *\n",
    "from shadowAccumulator import *\n",
    "from shp import *\n",
    "from urbanComponent import *"
   ]
  },
  {
   "cell_type": "code",
   "execution_count": 2,
   "metadata": {},
   "outputs": [
    {
     "ename": "Exception",
     "evalue": "stop",
     "output_type": "error",
     "traceback": [
      "\u001b[1;31m---------------------------------------------------------------------------\u001b[0m",
      "\u001b[1;31mException\u001b[0m                                 Traceback (most recent call last)",
      "\u001b[1;32md:\\code\\urbantk-react-ts\\src\\pythonComponents\\dataLoading\\LayersLoading.ipynb Cell 2\u001b[0m in \u001b[0;36m<cell line: 31>\u001b[1;34m()\u001b[0m\n\u001b[0;32m      <a href='vscode-notebook-cell:/d%3A/code/urbantk-react-ts/src/pythonComponents/dataLoading/LayersLoading.ipynb#W1sZmlsZQ%3D%3D?line=0'>1</a>\u001b[0m \u001b[39m# generateLayerFromShp(\"../../../public/data/south_manhattan/ZIP_CODE_040114.shp\", [40.699768, -74.019904, 40.71135, -74.004712], \"zip\", \"land\")\u001b[39;00m\n\u001b[0;32m      <a href='vscode-notebook-cell:/d%3A/code/urbantk-react-ts/src/pythonComponents/dataLoading/LayersLoading.ipynb#W1sZmlsZQ%3D%3D?line=1'>2</a>\u001b[0m \n\u001b[0;32m      <a href='vscode-notebook-cell:/d%3A/code/urbantk-react-ts/src/pythonComponents/dataLoading/LayersLoading.ipynb#W1sZmlsZQ%3D%3D?line=2'>3</a>\u001b[0m \u001b[39m# uc = OSM.load_from_bbox([40.70695265056355, -74.01818677471793, 40.7076533306313, -74.01718208165698],layers=['buildings']) # one building manhattan\u001b[39;00m\n\u001b[1;32m   (...)\u001b[0m\n\u001b[0;32m     <a href='vscode-notebook-cell:/d%3A/code/urbantk-react-ts/src/pythonComponents/dataLoading/LayersLoading.ipynb#W1sZmlsZQ%3D%3D?line=27'>28</a>\u001b[0m \n\u001b[0;32m     <a href='vscode-notebook-cell:/d%3A/code/urbantk-react-ts/src/pythonComponents/dataLoading/LayersLoading.ipynb#W1sZmlsZQ%3D%3D?line=28'>29</a>\u001b[0m \u001b[39m# uc = OSM.load_from_polygon(manhattan_bpoly, layers=['buildings']) # manhattan\u001b[39;00m\n\u001b[1;32m---> <a href='vscode-notebook-cell:/d%3A/code/urbantk-react-ts/src/pythonComponents/dataLoading/LayersLoading.ipynb#W1sZmlsZQ%3D%3D?line=30'>31</a>\u001b[0m uc \u001b[39m=\u001b[39m OSM\u001b[39m.\u001b[39;49mload_from_address(\u001b[39m\"\u001b[39;49m\u001b[39mCentral Park\u001b[39;49m\u001b[39m\"\u001b[39;49m, layers\u001b[39m=\u001b[39;49m[\u001b[39m'\u001b[39;49m\u001b[39mroads\u001b[39;49m\u001b[39m'\u001b[39;49m])\n",
      "File \u001b[1;32md:\\code\\urbantk-react-ts\\src\\pythonComponents\\dataLoading\\osm.py:253\u001b[0m, in \u001b[0;36mOSM.load_from_address\u001b[1;34m(address, layers, pbf_filepath)\u001b[0m\n\u001b[0;32m    251\u001b[0m     \u001b[39mreturn\u001b[39;00m OSM\u001b[39m.\u001b[39mload_from_bbox(bbox, layers, pbf_filepath)\n\u001b[0;32m    252\u001b[0m \u001b[39melse\u001b[39;00m:\n\u001b[1;32m--> 253\u001b[0m     \u001b[39mreturn\u001b[39;00m OSM\u001b[39m.\u001b[39;49mload_from_bbox(bbox, layers)\n",
      "File \u001b[1;32md:\\code\\urbantk-react-ts\\src\\pythonComponents\\dataLoading\\osm.py:225\u001b[0m, in \u001b[0;36mOSM.load_from_bbox\u001b[1;34m(bbox, layers, pbf_filepath)\u001b[0m\n\u001b[0;32m    223\u001b[0m     loaded \u001b[39m=\u001b[39m OSM\u001b[39m.\u001b[39mget_osm(bbox, \u001b[39mTrue\u001b[39;00m, layers, \u001b[39mTrue\u001b[39;00m, output_file)\n\u001b[0;32m    224\u001b[0m \u001b[39melse\u001b[39;00m:\n\u001b[1;32m--> 225\u001b[0m     loaded \u001b[39m=\u001b[39m OSM\u001b[39m.\u001b[39;49mget_osm(bbox, \u001b[39mTrue\u001b[39;49;00m, layers, \u001b[39mFalse\u001b[39;49;00m)\n\u001b[0;32m    227\u001b[0m component \u001b[39m=\u001b[39m UrbanComponent(layers \u001b[39m=\u001b[39m loaded, bpolygon \u001b[39m=\u001b[39m bbox, camera \u001b[39m=\u001b[39m cam)\n\u001b[0;32m    229\u001b[0m \u001b[39mreturn\u001b[39;00m component\n",
      "File \u001b[1;32md:\\code\\urbantk-react-ts\\src\\pythonComponents\\dataLoading\\osm.py:340\u001b[0m, in \u001b[0;36mOSM.get_osm\u001b[1;34m(bpolygon, bbox, layers, load_surface, pbf_filepath)\u001b[0m\n\u001b[0;32m    338\u001b[0m     selectable \u001b[39m=\u001b[39m \u001b[39mTrue\u001b[39;00m\n\u001b[0;32m    339\u001b[0m \u001b[39melif\u001b[39;00m layer \u001b[39m==\u001b[39m \u001b[39m'\u001b[39m\u001b[39mroads\u001b[39m\u001b[39m'\u001b[39m:\n\u001b[1;32m--> 340\u001b[0m     layer_geometry \u001b[39m=\u001b[39m OSM\u001b[39m.\u001b[39;49mosm_to_roads_polyline(overpass_responses[layer], bpoly, bbox)\n\u001b[0;32m    341\u001b[0m     \u001b[39mprint\u001b[39m(\u001b[39m\"\u001b[39m\u001b[39mosm_to_roads_polyline finished\u001b[39m\u001b[39m\"\u001b[39m)\n\u001b[0;32m    342\u001b[0m     geometry \u001b[39m=\u001b[39m layer_geometry[\u001b[39m'\u001b[39m\u001b[39mdata\u001b[39m\u001b[39m'\u001b[39m]\n",
      "File \u001b[1;32md:\\code\\urbantk-react-ts\\src\\pythonComponents\\dataLoading\\osm.py:456\u001b[0m, in \u001b[0;36mOSM.osm_to_roads_polyline\u001b[1;34m(osm_elements, bpoly, bbox)\u001b[0m\n\u001b[0;32m    453\u001b[0m vplt \u001b[39m+\u001b[39m\u001b[39m=\u001b[39m vmesh\u001b[39m.\u001b[39mclone()\n\u001b[0;32m    454\u001b[0m vplt\u001b[39m.\u001b[39mshow(viewup\u001b[39m=\u001b[39m\u001b[39m'\u001b[39m\u001b[39mz\u001b[39m\u001b[39m'\u001b[39m, zoom\u001b[39m=\u001b[39m\u001b[39m1.3\u001b[39m)\n\u001b[1;32m--> 456\u001b[0m \u001b[39mraise\u001b[39;00m \u001b[39mException\u001b[39;00m(\u001b[39m\"\u001b[39m\u001b[39mstop\u001b[39m\u001b[39m\"\u001b[39m)\n\u001b[0;32m    458\u001b[0m \u001b[39m# empty triangulation\u001b[39;00m\n\u001b[0;32m    459\u001b[0m \u001b[39mif\u001b[39;00m(\u001b[39mlen\u001b[39m(indices) \u001b[39m==\u001b[39m \u001b[39m0\u001b[39m \u001b[39mor\u001b[39;00m (\u001b[39mlen\u001b[39m(indices) \u001b[39m%\u001b[39m \u001b[39m3\u001b[39m) \u001b[39m>\u001b[39m \u001b[39m0\u001b[39m):\n",
      "\u001b[1;31mException\u001b[0m: stop"
     ]
    }
   ],
   "source": [
    "# generateLayerFromShp(\"../../../public/data/south_manhattan/ZIP_CODE_040114.shp\", [40.699768, -74.019904, 40.71135, -74.004712], \"zip\", \"land\")\n",
    "\n",
    "# uc = OSM.load_from_bbox([40.70695265056355, -74.01818677471793, 40.7076533306313, -74.01718208165698],layers=['buildings']) # one building manhattan\n",
    "# uc = OSM.load_from_bbox([40.703589030076905, -74.01312938461244, 40.706020839675546, -74.00977127572548],layers=['buildings']) # couple buildings manhattan\n",
    "# uc = OSM.load_from_bbox([40.699768, -74.019904, 40.71135, -74.004712],layers=['parks', 'water', 'roads','buildings']) # south manhattan\n",
    "\n",
    "# uc = OSM.load_from_bbox([40.699768, -74.019904, 40.71135, -74.004712],layers=['buildings']) # south manhattan without pbf\n",
    "# uc = OSM.load_from_bbox([40.699768, -74.019904, 40.71135, -74.004712],layers=['parks', 'water', 'roads','buildings'], pbf_filepath='./osm_pbf_files/new-york-latest.osm.pbf') # south manhattan with pbf\n",
    "# uc = OSM.load_from_bbox([41.888935517219466, -87.62593386259636, 41.89817553541827, -87.59802720707879], layers=['buildings']) # downtown chicago\n",
    "# uc = OSM.load_from_bbox([41.89668031564063, -87.62217400322182, 41.89766067070132, -87.62023649289858], layers=['buildings']) # one building chicago\n",
    "# uc = OSM.load_from_bbox([40.699768, -74.019904, 40.718170256746646, -73.9970196894936],layers=['buildings']) # bigger south manhattan\n",
    "\n",
    "# uc = OSM.load_from_bbox([40.69819377613027, -74.0271436749343, 40.88661598319273, -73.89970516609863],layers=['water']) # manhattan\n",
    "\n",
    "# manhattan_bpoly = [40.7043056, -74.0206146, 40.7526203, -74.0118456, 40.7572414, -74.0101004, 40.8207866, \n",
    "#               -73.9630651, 40.8348315, -73.9527512, 40.8507179, -73.9481163, 40.8785992, -73.9278746, \n",
    "#               40.8775179, -73.9221954, 40.8757012, -73.9200497, 40.8749226, -73.9155436, 40.8741764, \n",
    "#               -73.9123249, 40.872457, -73.9098358, 40.8692834, -73.910079, 40.862349, -73.9151144, \n",
    "#               40.8559115, -73.92138, 40.846541, -73.927989, 40.8391604, -73.9320087, 40.8351933, \n",
    "#               -73.9340544, 40.8320063, -73.9343405, 40.8287592, -73.9339685, 40.8223509, -73.9334679, \n",
    "#               40.815823, -73.9332247, 40.8092836, -73.9334822, 40.8049788, -73.9303493, 40.8005165, \n",
    "#               -73.9276743, 40.7977233, -73.9281321, 40.7940206, -73.9288616, 40.7890508, -73.93507, \n",
    "#               40.784936, -73.9380455, 40.7824671, -73.9415646, 40.7806478, -73.9418221, 40.7781137, \n",
    "#               -73.9407492, 40.7749947, -73.9409638, 40.7436975, -73.9698887, 40.7314323, -73.9706039, \n",
    "#               40.7209492, -73.9717197, 40.7088057, -73.9759827, 40.7062461, -73.9971256, 40.6989146, \n",
    "#               -74.0097713, 40.698939, -74.0152073, 40.7007931, -74.0185118, 40.7041758, -74.0204001\n",
    "#               ]\n",
    "\n",
    "# uc = OSM.load_from_polygon(manhattan_bpoly, layers=['buildings']) # manhattan\n",
    "\n",
    "uc = OSM.load_from_address(\"Central Park\", layers=['roads'])\n",
    "\n",
    "# uc = UrbanComponent()\n",
    "\n",
    "# uc.setWorkDir(\"../../../public/data/manhattan_wo_cells_buildings\")\n",
    "\n",
    "# uc.addLayerFromJsonFile(\"../../../public/data/manhattan_wo_cells_buildings/buildings.json\")\n",
    "# uc.addLayerFromJsonFile(\"../../../public/data/south_manhattan/surface.json\")\n",
    "# uc.addLayerFromJsonFile(\"../../../public/data/south_manhattan/zip.json\", 3)\n",
    "# uc.addLayerFromJsonFile(\"../../../public/data/south_manhattan/surface.json\", 3)\n",
    "# uc.addLayerFromJsonFile(\"../../../public/data/south_manhattan/shadow0.json\", abstract=True)\n",
    "# uc.addLayerFromJsonFile(\"../../../public/data/south_manhattan/shadow0_surface.json\", abstract=True)\n",
    "# uc.addLayerFromJsonFile(\"../../../public/data/south_manhattan/zipName.json\", 3, abstract=True)\n",
    "\n",
    "# print(uc.attachAbstractToPhysical('surface', 'shadow0_surface'))\n",
    "# print(uc.attachAbstractToPhysical('buildings', 'shadow0'))\n",
    "# print(uc.attachAbstractToPhysical('surface', 'shadow0'))\n",
    "# print(uc.attachAbstractToPhysical('zip', 'zipName', predicate='direct'))\n",
    "# print(uc.attachPhysicalLayers('zip', 'buildings'))\n",
    "\n",
    "# uc.to_file('../../../public/data/manhattan/', True)\n",
    "uc.to_file('../../../public/data/central_park/', True)\n",
    "\n",
    "# shadowAccumulator = ShadowAccumulator(['../../../public/data/south_manhattan/buildings.json', '../../../public/data/south_manhattan/surface.json'], [[\"06/21/2015 08:00\", \"06/21/2015 09:01\"], [\"09/22/2015 14:00\", \"09/22/2015 15:01\"], [\"12/21/2015 10:00\", \"12/21/2015 11:01\"]], 'spring')\n",
    "# shadowAccumulator = ShadowAccumulator(['../../../public/data/one_building/buildings.json', '../../../public/data/one_building/surface.json'], [[\"03/20/2015 10:00\", \"03/20/2015 11:01\"]], 'spring')\n",
    "# shadowAccumulator = ShadowAccumulator(['../../../public/data/south_manhattan/buildings.json', '../../../public/data/south_manhattan/surface.json'], [[\"03/20/2015 10:00\", \"03/20/2015 11:01\"]], 'spring')\n",
    "# shadowAccumulator.accumulate_shadow()\n",
    "\n",
    "# postProcessSurface('../../../public/data/south_manhattan/', [0.01,1], [0,0.01])"
   ]
  }
 ],
 "metadata": {
  "kernelspec": {
   "display_name": "urbantk",
   "language": "python",
   "name": "python3"
  },
  "language_info": {
   "codemirror_mode": {
    "name": "ipython",
    "version": 3
   },
   "file_extension": ".py",
   "mimetype": "text/x-python",
   "name": "python",
   "nbconvert_exporter": "python",
   "pygments_lexer": "ipython3",
   "version": "3.10.6"
  },
  "orig_nbformat": 4,
  "vscode": {
   "interpreter": {
    "hash": "417a5b75eced6a10a6aab538a5d6d1aa2801868f4335db3e9395b85b77ab2694"
   }
  }
 },
 "nbformat": 4,
 "nbformat_minor": 2
}
