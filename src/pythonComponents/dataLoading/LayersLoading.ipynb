{
 "cells": [
  {
   "cell_type": "code",
   "execution_count": 1,
   "metadata": {},
   "outputs": [
    {
     "name": "stdout",
     "output_type": "stream",
     "text": [
      "********************************************************************************\n",
      "PlotOptiX newer version is available: 0.15.0\n",
      "to update your release use:\n",
      "      pip install plotoptix --upgrade\n",
      "********************************************************************************\n"
     ]
    }
   ],
   "source": [
    "from osm import *\n",
    "from shadowAccumulator import *\n",
    "from surfacePostProcessing import *\n",
    "from shp import *\n",
    "from urbanComponent import *"
   ]
  },
  {
   "cell_type": "code",
   "execution_count": 2,
   "metadata": {},
   "outputs": [
    {
     "name": "stdout",
     "output_type": "stream",
     "text": [
      "                                             geometry  id_left  index_right  \\\n",
      "0   POLYGON ((-8239796.301 4941214.109, -8239791.4...        0            1   \n",
      "0   POLYGON ((-8239796.301 4941214.109, -8239791.4...        0          139   \n",
      "0   POLYGON ((-8239796.301 4941214.109, -8239791.4...        0           23   \n",
      "0   POLYGON ((-8239796.301 4941214.109, -8239791.4...        0          140   \n",
      "0   POLYGON ((-8239796.301 4941214.109, -8239791.4...        0           68   \n",
      "..                                                ...      ...          ...   \n",
      "7   POLYGON ((-8238306.500 4940954.792, -8238303.6...        7           94   \n",
      "7   POLYGON ((-8238306.500 4940954.792, -8238303.6...        7           40   \n",
      "7   POLYGON ((-8238306.500 4940954.792, -8238303.6...        7           41   \n",
      "7   POLYGON ((-8238306.500 4940954.792, -8238303.6...        7           39   \n",
      "7   POLYGON ((-8238306.500 4940954.792, -8238303.6...        7           37   \n",
      "\n",
      "    id_right  \n",
      "0          1  \n",
      "0        139  \n",
      "0         23  \n",
      "0        140  \n",
      "0         68  \n",
      "..       ...  \n",
      "7         94  \n",
      "7         40  \n",
      "7         41  \n",
      "7         39  \n",
      "7         37  \n",
      "\n",
      "[202 rows x 4 columns]\n"
     ]
    }
   ],
   "source": [
    "# generateLayerFromShp(\"../../../public/data/south_manhattan/ZIP_CODE_040114.shp\", [40.699768, -74.019904, 40.71135, -74.004712], \"zip\", \"land\")\n",
    "\n",
    "# uc = OSM.load_from_bbox([40.70695265056355, -74.01818677471793, 40.7076533306313, -74.01718208165698],layers=['buildings']) # one building manhattan\n",
    "\n",
    "# uc = UrbanComponent()\n",
    "\n",
    "# uc.setWorkDir(\"../../../public/data/south_manhattan\")\n",
    "\n",
    "# uc.addLayerFromJsonFile(\"../../../public/data/south_manhattan/buildings.json\", 2)\n",
    "# uc.addLayerFromJsonFile(\"../../../public/data/south_manhattan/zip.json\", 3)\n",
    "# uc.addLayerFromJsonFile(\"../../../public/data/south_manhattan/surface.json\", 3)\n",
    "# uc.addLayerFromJsonFile(\"../../../public/data/south_manhattan/shadow0.json\", 3, abstract=True)\n",
    "# uc.addLayerFromJsonFile(\"../../../public/data/south_manhattan/zipName.json\", 3, abstract=True)\n",
    "\n",
    "# print(uc.layers['gdf']['objects'][0])\n",
    "# print(uc.layers['gdf']['coordinates3d'][0])\n",
    "\n",
    "# print(uc.attachAbstractToPhysical('buildings', 'shadow0'))\n",
    "# print(uc.attachAbstractToPhysical('surface', 'shadow0'))\n",
    "# print(uc.attachAbstractToPhysical('zip', 'zipName', predicate='direct'))\n",
    "# print(uc.attachPhysicalLayers('zip', 'buildings'))\n",
    "\n",
    "# uc.to_file('../../../public/data/south_manhattan/', True)\n",
    "\n",
    "# uc = OSM.load_from_bbox([40.699768, -74.019904, 40.71135, -74.004712],layers=['parks', 'water', 'roads','buildings']) # south manhattan without pbf\n",
    "# uc = OSM.load_from_bbox([40.699768, -74.019904, 40.71135, -74.004712],layers=['buildings']) # south manhattan without pbf\n",
    "\n",
    "# uc.addLayerFromJsonFile('../../../public/data/south_manhattan/zip.json', dim=2)\n",
    "\n",
    "# uc = OSM.load_from_bbox([40.699768, -74.019904, 40.71135, -74.004712],layers=['parks', 'water', 'roads','buildings'], pbf_filepath='./osm_pbf_files/new-york-latest.osm.pbf') # south manhattan with pbf\n",
    "# uc = OSM.load_from_bbox([40.699768, -74.019904, 40.71135, -74.004712],layers=['parks', 'water', 'roads','buildings']) # south manhattan without pbf\n",
    "\n",
    "# uc = OSM.load_from_bbox([41.888935517219466, -87.62593386259636, 41.89817553541827, -87.59802720707879], layers=['buildings']) # downtown chicago\n",
    "# uc = OSM.load_from_bbox([41.89668031564063, -87.62217400322182, 41.89766067070132, -87.62023649289858], layers=['buildings']) # one building chicago\n",
    "\n",
    "# uc.to_file('../../../public/data/south_manhattan/', True)\n",
    "# shadowAccumulator = ShadowAccumulator(['../../../public/data/south_manhattan/buildings.json', '../../../public/data/south_manhattan/surface.json'], [[\"06/21/2015 08:00\", \"06/21/2015 09:01\"], [\"09/22/2015 14:00\", \"09/22/2015 15:01\"], [\"12/21/2015 10:00\", \"12/21/2015 11:01\"]], 'spring')\n",
    "# shadowAccumulator = ShadowAccumulator(['../../../public/data/one_building/buildings.json', '../../../public/data/one_building/surface.json'], [[\"03/20/2015 10:00\", \"03/20/2015 11:01\"]], 'spring')\n",
    "# shadowAccumulator = ShadowAccumulator(['../../../public/data/south_manhattan/buildings.json', '../../../public/data/south_manhattan/surface.json'], [[\"03/20/2015 10:00\", \"03/20/2015 11:01\"]], 'spring')\n",
    "# shadowAccumulator.accumulate_shadow()\n",
    "\n",
    "# postProcessSurface('../../../public/data/south_manhattan/', [0.01,1], [0,0.01])\n"
   ]
  },
  {
   "cell_type": "code",
   "execution_count": 3,
   "metadata": {},
   "outputs": [],
   "source": [
    "# import pandas as pd\n",
    "\n",
    "# pd.isna(uc.layers['gdf'][1].sjoin(uc.layers['gdf'][2], how='left').iloc[2]['index_right'])"
   ]
  }
 ],
 "metadata": {
  "kernelspec": {
   "display_name": "urbantk",
   "language": "python",
   "name": "python3"
  },
  "language_info": {
   "codemirror_mode": {
    "name": "ipython",
    "version": 3
   },
   "file_extension": ".py",
   "mimetype": "text/x-python",
   "name": "python",
   "nbconvert_exporter": "python",
   "pygments_lexer": "ipython3",
   "version": "3.10.6"
  },
  "orig_nbformat": 4,
  "vscode": {
   "interpreter": {
    "hash": "70e5c1a2e5a1b6bda8e8c783cf9964b5c0412d607cc5f42b6005c575303b0216"
   }
  }
 },
 "nbformat": 4,
 "nbformat_minor": 2
}
