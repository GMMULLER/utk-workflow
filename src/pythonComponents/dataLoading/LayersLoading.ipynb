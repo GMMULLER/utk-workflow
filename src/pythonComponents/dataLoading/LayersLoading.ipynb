{
 "cells": [
  {
   "cell_type": "code",
   "execution_count": 1,
   "metadata": {},
   "outputs": [
    {
     "name": "stdout",
     "output_type": "stream",
     "text": [
      "********************************************************************************\n",
      "PlotOptiX newer version is available: 0.15.0\n",
      "to update your release use:\n",
      "      pip install plotoptix --upgrade\n",
      "********************************************************************************\n"
     ]
    }
   ],
   "source": [
    "from loader import *\n",
    "from shadowAccumulator import *\n",
    "from surfacePostProcessing import *"
   ]
  },
  {
   "cell_type": "code",
   "execution_count": 2,
   "metadata": {},
   "outputs": [
    {
     "name": "stdout",
     "output_type": "stream",
     "text": [
      "0\n",
      "[datetime.datetime(2015, 3, 20, 10, 0), datetime.datetime(2015, 3, 20, 11, 1)]\n"
     ]
    }
   ],
   "source": [
    "# uc = OSM.load_from_bbox([40.69910877714833,-74.02109075799446, 40.70924423108223, -74.00353168229894],layers=['coastline', 'buildings'])\n",
    "\n",
    "# uc = OSM.load_from_bbox([40.70950602847845, -74.01962243410094, 40.7140770148481, -74.01033152753506],layers=['buildings','roads','coastline','water','parks'])\n",
    "\n",
    "# uc = OSM.load_from_bbox([40.69955499145943, -74.02246240136375, 40.71129333248451, -74.00571625011193],layers=['water','parks','roads','buildings']) # south manhattan\n",
    "\n",
    "# uc = OSM.load_from_bbox([40.699768, -74.019904, 40.71135, -74.004712],layers=['buildings']) # south manhattan\n",
    "\n",
    "# uc = OSM.load_from_bbox([40.793084495, -73.9607953087, 40.8024799386, -73.9479942112],layers=['buildings']) # north manhattan\n",
    "\n",
    "# uc = OSM.load_from_bbox([41.8691743279, -87.6358147211, 41.8831204496, -87.6166174702],layers=['buildings']) # downtown chicago\n",
    "\n",
    "# uc = OSM.load_from_bbox([40.69961509036723, -74.02268874354345, 40.70796231892495, -74.00846222529327],layers=['buildings']) # smaller south manhattan\n",
    "\n",
    "# uc = OSM.load_from_bbox([-22.9116387034, -43.138063104, -22.8949298301, -43.118236215],layers=['coastline']) # niteroi, issues error for coastline\n",
    "\n",
    "# uc = OSM.load_from_bbox([40.70695265056355, -74.01818677471793, 40.7076533306313, -74.01718208165698],layers=['buildings']) # one building manhattan (1)\n",
    "# uc = OSM.load_from_bbox([40.705832500462, -74.01789868047153, 40.70671326575017, -74.01676853080717],layers=['buildings']) # one building manhattan (2)\n",
    "\n",
    "# uc = OSM.load_from_bbox([40.70695265056355, -74.01818677471793, 40.70830848157795, -74.0167710457299],layers=['buildings']) # two buildings manhattan\n",
    "\n",
    "# uc.to_file('../../../public/data/coastline_test/', True)\n",
    "# shadowAccumulator = ShadowAccumulator(['../../../public/data/south_manhattan/buildings.json', '../../../public/data/south_manhattan/surface.json'], [[\"06/21/2015 08:00\", \"06/21/2015 09:01\"], [\"09/22/2015 14:00\", \"09/22/2015 15:01\"], [\"12/21/2015 10:00\", \"12/21/2015 11:01\"]], 'spring')\n",
    "# shadowAccumulator = ShadowAccumulator(['../../../public/data/south_manhattan/buildings.json', '../../../public/data/south_manhattan/surface.json'], [[\"03/20/2015 10:00\", \"03/20/2015 11:01\"], [\"09/22/2015 14:00\", \"09/22/2015 15:01\"]], 'spring')\n",
    "# shadowAccumulator = ShadowAccumulator(['../../../public/data/coastline_test/buildings.json', '../../../public/data/coastline_test/surface.json'], [[\"03/20/2015 10:00\", \"03/20/2015 11:01\"]], 'spring')\n",
    "# shadowAccumulator.accumulate_shadow()\n",
    "\n",
    "postProcessSurface('../../../public/data/coastline_test/', [0.01,1], [0,0.01])\n"
   ]
  }
 ],
 "metadata": {
  "kernelspec": {
   "display_name": "urbantk",
   "language": "python",
   "name": "python3"
  },
  "language_info": {
   "codemirror_mode": {
    "name": "ipython",
    "version": 3
   },
   "file_extension": ".py",
   "mimetype": "text/x-python",
   "name": "python",
   "nbconvert_exporter": "python",
   "pygments_lexer": "ipython3",
   "version": "3.10.6"
  },
  "orig_nbformat": 4,
  "vscode": {
   "interpreter": {
    "hash": "417a5b75eced6a10a6aab538a5d6d1aa2801868f4335db3e9395b85b77ab2694"
   }
  }
 },
 "nbformat": 4,
 "nbformat_minor": 2
}
