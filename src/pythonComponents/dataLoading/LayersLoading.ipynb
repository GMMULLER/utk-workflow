{
 "cells": [
  {
   "cell_type": "code",
   "execution_count": 1,
   "metadata": {},
   "outputs": [],
   "source": [
    "from loader import *\n",
    "from shadowAccumulator import *"
   ]
  },
  {
   "cell_type": "code",
   "execution_count": 2,
   "metadata": {},
   "outputs": [
    {
     "data": {
      "application/vnd.jupyter.widget-view+json": {
       "model_id": "b2b95589726e456bb6ded54edc6eb363",
       "version_major": 2,
       "version_minor": 0
      },
      "text/plain": [
       "  0%|          | 0/717 [00:00<?, ?it/s]"
      ]
     },
     "metadata": {},
     "output_type": "display_data"
    },
    {
     "data": {
      "application/vnd.jupyter.widget-view+json": {
       "model_id": "ef0785f670ef48fdb041e02aa63eb4ac",
       "version_major": 2,
       "version_minor": 0
      },
      "text/plain": [
       "  0%|          | 0/137 [00:00<?, ?it/s]"
      ]
     },
     "metadata": {},
     "output_type": "display_data"
    },
    {
     "ename": "TypeError",
     "evalue": "'MultiPolygon' object is not iterable",
     "output_type": "error",
     "traceback": [
      "\u001b[1;31m---------------------------------------------------------------------------\u001b[0m",
      "\u001b[1;31mTypeError\u001b[0m                                 Traceback (most recent call last)",
      "Cell \u001b[1;32mIn[2], line 5\u001b[0m\n\u001b[0;32m      1\u001b[0m \u001b[39m# uc = OSM.load_from_bbox([40.699838937,-74.0196528667,40.7073327656,-74.0082184426],layers=['coastline']) # south manhattan # error\u001b[39;00m\n\u001b[0;32m      2\u001b[0m \n\u001b[0;32m      3\u001b[0m \u001b[39m# uc = OSM.load_from_bbox([40.699768, -74.019904, 40.71135, -74.004712],layers=['buildings']) # south manhattan\u001b[39;00m\n\u001b[1;32m----> 5\u001b[0m uc \u001b[39m=\u001b[39m OSM\u001b[39m.\u001b[39;49mload_from_bbox([\u001b[39m40.69961509036723\u001b[39;49m, \u001b[39m-\u001b[39;49m\u001b[39m74.02268874354345\u001b[39;49m, \u001b[39m40.70796231892495\u001b[39;49m, \u001b[39m-\u001b[39;49m\u001b[39m74.00846222529327\u001b[39;49m],layers\u001b[39m=\u001b[39;49m[\u001b[39m'\u001b[39;49m\u001b[39mbuildings\u001b[39;49m\u001b[39m'\u001b[39;49m]) \u001b[39m# smaller south manhattan\u001b[39;00m\n\u001b[0;32m      7\u001b[0m \u001b[39m# uc = OSM.load_from_bbox([-22.9116387034, -43.138063104, -22.8949298301, -43.118236215],layers=['coastline']) # niteroi, issues error for coastline\u001b[39;00m\n\u001b[0;32m      8\u001b[0m \n\u001b[0;32m      9\u001b[0m \u001b[39m# uc = OSM.load_from_bbox([40.70695265056355, -74.01818677471793, 40.7076533306313, -74.01718208165698],layers=['buildings']) # one building manhattan (1)\u001b[39;00m\n\u001b[0;32m     10\u001b[0m \u001b[39m# uc = OSM.load_from_bbox([40.705832500462, -74.01789868047153, 40.70671326575017, -74.01676853080717],layers=['buildings']) # one building manhattan (2)\u001b[39;00m\n\u001b[0;32m     11\u001b[0m \n\u001b[0;32m     12\u001b[0m \u001b[39m# uc = OSM.load_from_bbox([40.70695265056355, -74.01818677471793, 40.70830848157795, -74.0167710457299],layers=['buildings']) # two buildings manhattan\u001b[39;00m\n\u001b[0;32m     14\u001b[0m uc\u001b[39m.\u001b[39mto_file(\u001b[39m'\u001b[39m\u001b[39m../../../public/data/south_manhattan/\u001b[39m\u001b[39m'\u001b[39m, \u001b[39mTrue\u001b[39;00m)\n",
      "File \u001b[1;32md:\\code\\urbantk-react-ts\\src\\pythonComponents\\dataLoading\\loader.py:922\u001b[0m, in \u001b[0;36mOSM.load_from_bbox\u001b[1;34m(bbox, layers)\u001b[0m\n\u001b[0;32m    919\u001b[0m \u001b[39mdef\u001b[39;00m \u001b[39mload_from_bbox\u001b[39m(bbox, layers\u001b[39m=\u001b[39m[\u001b[39m'\u001b[39m\u001b[39mbuilding\u001b[39m\u001b[39m'\u001b[39m,\u001b[39m'\u001b[39m\u001b[39mroads\u001b[39m\u001b[39m'\u001b[39m,\u001b[39m'\u001b[39m\u001b[39mcoastline\u001b[39m\u001b[39m'\u001b[39m, \u001b[39m'\u001b[39m\u001b[39mwater\u001b[39m\u001b[39m'\u001b[39m, \u001b[39m'\u001b[39m\u001b[39mparks\u001b[39m\u001b[39m'\u001b[39m]):\n\u001b[0;32m    921\u001b[0m     cam \u001b[39m=\u001b[39m utils\u001b[39m.\u001b[39mget_camera(bbox)\n\u001b[1;32m--> 922\u001b[0m     loaded \u001b[39m=\u001b[39m OSM\u001b[39m.\u001b[39;49mget_osm(bbox, layers)\n\u001b[0;32m    923\u001b[0m     component \u001b[39m=\u001b[39m urbanComponent\u001b[39m.\u001b[39mUrbanComponent(layers \u001b[39m=\u001b[39m loaded, bbox \u001b[39m=\u001b[39m bbox, camera \u001b[39m=\u001b[39m cam)\n\u001b[0;32m    925\u001b[0m     \u001b[39mreturn\u001b[39;00m component\n",
      "File \u001b[1;32md:\\code\\urbantk-react-ts\\src\\pythonComponents\\dataLoading\\loader.py:879\u001b[0m, in \u001b[0;36mOSM.get_osm\u001b[1;34m(bounding_box, layers, load_surface)\u001b[0m\n\u001b[0;32m    877\u001b[0m     \u001b[39mcontinue\u001b[39;00m\n\u001b[0;32m    878\u001b[0m \u001b[39mif\u001b[39;00m layer \u001b[39m==\u001b[39m \u001b[39m'\u001b[39m\u001b[39mbuildings\u001b[39m\u001b[39m'\u001b[39m:\n\u001b[1;32m--> 879\u001b[0m     df \u001b[39m=\u001b[39m OSM\u001b[39m.\u001b[39;49m_create_building_mesh(overpass_responses[layer], bbox)\n\u001b[0;32m    880\u001b[0m     json_mesh \u001b[39m=\u001b[39m Mesh\u001b[39m.\u001b[39mgdf_to_json(df) \u001b[39m# prepares the layer   \u001b[39;00m\n\u001b[0;32m    881\u001b[0m     result\u001b[39m.\u001b[39mappend(json_mesh)\n",
      "File \u001b[1;32md:\\code\\urbantk-react-ts\\src\\pythonComponents\\dataLoading\\loader.py:789\u001b[0m, in \u001b[0;36mOSM._create_building_mesh\u001b[1;34m(osm_elements, bbox)\u001b[0m\n\u001b[0;32m    785\u001b[0m gdf \u001b[39m=\u001b[39m gdf\u001b[39m.\u001b[39msort_index()\n\u001b[0;32m    787\u001b[0m df_merged_buildings \u001b[39m=\u001b[39m OSM\u001b[39m.\u001b[39mmerge_buildings(gdf)\n\u001b[1;32m--> 789\u001b[0m df_mesh \u001b[39m=\u001b[39m Mesh\u001b[39m.\u001b[39;49mcreate_mesh(df_merged_buildings, \u001b[39m5\u001b[39;49m) \u001b[39m#gdf, size\u001b[39;00m\n\u001b[0;32m    791\u001b[0m \u001b[39m# # generate buildings\u001b[39;00m\n\u001b[0;32m    792\u001b[0m \u001b[39m# mesh = []\u001b[39;00m\n\u001b[0;32m    793\u001b[0m \u001b[39m# for poly in polygons:\u001b[39;00m\n\u001b[1;32m   (...)\u001b[0m\n\u001b[0;32m    829\u001b[0m \n\u001b[0;32m    830\u001b[0m \u001b[39m# return mesh\u001b[39;00m\n\u001b[0;32m    831\u001b[0m \u001b[39mreturn\u001b[39;00m df_mesh\n",
      "File \u001b[1;32md:\\code\\urbantk-react-ts\\src\\pythonComponents\\dataLoading\\loader.py:1699\u001b[0m, in \u001b[0;36mMesh.create_mesh\u001b[1;34m(gdf, size)\u001b[0m\n\u001b[0;32m   1697\u001b[0m building_id \u001b[39m=\u001b[39m unique_buildings[i]\n\u001b[0;32m   1698\u001b[0m building \u001b[39m=\u001b[39m gdf\u001b[39m.\u001b[39mloc[[building_id]]\n\u001b[1;32m-> 1699\u001b[0m coord, ind, iids, cols, sectionHeight, sectionMinHeight, orientedEnvelope, sectionFootprint, corners, width, surfaceHeight, pointsSection \u001b[39m=\u001b[39m Mesh\u001b[39m.\u001b[39;49mget_building_mesh(building, size)\n\u001b[0;32m   1700\u001b[0m building_ids\u001b[39m.\u001b[39mappend(building_id)\n\u001b[0;32m   1701\u001b[0m coordinates\u001b[39m.\u001b[39mappend(coord)\n",
      "File \u001b[1;32md:\\code\\urbantk-react-ts\\src\\pythonComponents\\dataLoading\\loader.py:1583\u001b[0m, in \u001b[0;36mMesh.get_building_mesh\u001b[1;34m(building, size)\u001b[0m\n\u001b[0;32m   1582\u001b[0m \u001b[39mdef\u001b[39;00m \u001b[39mget_building_mesh\u001b[39m(building, size \u001b[39m=\u001b[39m \u001b[39m-\u001b[39m\u001b[39m1\u001b[39m):\n\u001b[1;32m-> 1583\u001b[0m     merged_building \u001b[39m=\u001b[39m Mesh\u001b[39m.\u001b[39;49mmerge_building_mesh(building)\n\u001b[0;32m   1585\u001b[0m     boundaries \u001b[39m=\u001b[39m \u001b[39mlist\u001b[39m(merged_building\u001b[39m.\u001b[39mgeometry)\n\u001b[0;32m   1587\u001b[0m     coords \u001b[39m=\u001b[39m np\u001b[39m.\u001b[39mempty((\u001b[39m0\u001b[39m,\u001b[39m3\u001b[39m))\n",
      "File \u001b[1;32md:\\code\\urbantk-react-ts\\src\\pythonComponents\\dataLoading\\loader.py:1568\u001b[0m, in \u001b[0;36mMesh.merge_building_mesh\u001b[1;34m(building)\u001b[0m\n\u001b[0;32m   1565\u001b[0m     merged_geom \u001b[39m=\u001b[39m MultiPolygon([merged_geom])\n\u001b[0;32m   1567\u001b[0m oriented_geom \u001b[39m=\u001b[39m []\n\u001b[1;32m-> 1568\u001b[0m \u001b[39mfor\u001b[39;00m geom \u001b[39min\u001b[39;00m merged_geom:\n\u001b[0;32m   1569\u001b[0m     oriented_geom\u001b[39m.\u001b[39mappend(polygon\u001b[39m.\u001b[39morient(geom, \u001b[39m1\u001b[39m)) \u001b[39m# counter-clockwise\u001b[39;00m\n\u001b[0;32m   1570\u001b[0m oriented_geom \u001b[39m=\u001b[39m MultiPolygon(oriented_geom)\n",
      "\u001b[1;31mTypeError\u001b[0m: 'MultiPolygon' object is not iterable"
     ]
    }
   ],
   "source": [
    "# uc = OSM.load_from_bbox([40.699838937,-74.0196528667,40.7073327656,-74.0082184426],layers=['coastline']) # south manhattan # error\n",
    "\n",
    "# uc = OSM.load_from_bbox([40.699768, -74.019904, 40.71135, -74.004712],layers=['buildings']) # south manhattan\n",
    "\n",
    "# uc = OSM.load_from_bbox([40.69961509036723, -74.02268874354345, 40.70796231892495, -74.00846222529327],layers=['buildings']) # smaller south manhattan\n",
    "\n",
    "# uc = OSM.load_from_bbox([-22.9116387034, -43.138063104, -22.8949298301, -43.118236215],layers=['coastline']) # niteroi, issues error for coastline\n",
    "\n",
    "uc = OSM.load_from_bbox([40.70695265056355, -74.01818677471793, 40.7076533306313, -74.01718208165698],layers=['buildings']) # one building manhattan (1)\n",
    "# uc = OSM.load_from_bbox([40.705832500462, -74.01789868047153, 40.70671326575017, -74.01676853080717],layers=['buildings']) # one building manhattan (2)\n",
    "\n",
    "# uc = OSM.load_from_bbox([40.70695265056355, -74.01818677471793, 40.70830848157795, -74.0167710457299],layers=['buildings']) # two buildings manhattan\n",
    "\n",
    "uc.to_file('../../../public/data/south_manhattan/', True)\n",
    "# shadowAccumulator = ShadowAccumulator(['../../../public/data/south_manhattan/buildings.json', '../../../public/data/south_manhattan/surface.json'], [[\"06/21/2015 08:00\", \"06/21/2015 09:01\"], [\"09/22/2015 14:00\", \"09/22/2015 15:01\"], [\"12/21/2015 10:00\", \"12/21/2015 11:01\"]], 'spring')\n",
    "# shadowAccumulator = ShadowAccumulator(['../../../public/data/south_manhattan/buildings.json', '../../../public/data/south_manhattan/surface.json'], [[\"03/20/2015 10:00\", \"03/20/2015 11:01\"], [\"09/22/2015 14:00\", \"09/22/2015 15:01\"]], 'spring')\n",
    "# shadowAccumulator.accumulate_shadow()"
   ]
  }
 ],
 "metadata": {
  "kernelspec": {
   "display_name": "urbantk",
   "language": "python",
   "name": "python3"
  },
  "language_info": {
   "codemirror_mode": {
    "name": "ipython",
    "version": 3
   },
   "file_extension": ".py",
   "mimetype": "text/x-python",
   "name": "python",
   "nbconvert_exporter": "python",
   "pygments_lexer": "ipython3",
   "version": "3.10.4"
  },
  "orig_nbformat": 4,
  "vscode": {
   "interpreter": {
    "hash": "70e5c1a2e5a1b6bda8e8c783cf9964b5c0412d607cc5f42b6005c575303b0216"
   }
  }
 },
 "nbformat": 4,
 "nbformat_minor": 2
}
