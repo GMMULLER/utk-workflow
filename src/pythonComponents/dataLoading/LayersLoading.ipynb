{
 "cells": [
  {
   "cell_type": "code",
   "execution_count": 1,
   "metadata": {},
   "outputs": [
    {
     "name": "stdout",
     "output_type": "stream",
     "text": [
      "********************************************************************************\n",
      "PlotOptiX newer version is available: 0.15.0\n",
      "to update your release use:\n",
      "      pip install plotoptix --upgrade\n",
      "********************************************************************************\n"
     ]
    }
   ],
   "source": [
    "from osm import *\n",
    "from shadowAccumulator import *\n",
    "from surfacePostProcessing import *"
   ]
  },
  {
   "cell_type": "code",
   "execution_count": 2,
   "metadata": {},
   "outputs": [
    {
     "name": "stdout",
     "output_type": "stream",
     "text": [
      "3693334\n",
      "3695755\n",
      "3695754\n",
      "3696235\n",
      "5499997\n",
      "5500015\n",
      "5561484\n",
      "5561492\n",
      "5561491\n",
      "5569072\n",
      "5569073\n",
      "7493186\n",
      "8176996\n",
      "13599516\n",
      "9603554\n",
      "9603555\n",
      "9506392\n",
      "9506393\n",
      "6104489\n",
      "11034001\n",
      "11033999\n",
      "6802606\n",
      "12153100\n",
      "3695753\n",
      "7281773\n",
      "13076773\n",
      "14210549\n"
     ]
    },
    {
     "ename": "KeyboardInterrupt",
     "evalue": "",
     "output_type": "error",
     "traceback": [
      "\u001b[1;31m---------------------------------------------------------------------------\u001b[0m",
      "\u001b[1;31mKeyboardInterrupt\u001b[0m                         Traceback (most recent call last)",
      "\u001b[1;32mc:\\Users\\Gustavo\\code\\urbantk-react-ts\\src\\pythonComponents\\dataLoading\\LayersLoading.ipynb Cell 2\u001b[0m in \u001b[0;36m<cell line: 8>\u001b[1;34m()\u001b[0m\n\u001b[0;32m      <a href='vscode-notebook-cell:/c%3A/Users/Gustavo/code/urbantk-react-ts/src/pythonComponents/dataLoading/LayersLoading.ipynb#W1sZmlsZQ%3D%3D?line=0'>1</a>\u001b[0m \u001b[39m# uc = OSM.load_from_bbox([40.69955499145943, -74.02246240136375, 40.71129333248451, -74.00571625011193],layers=['parks', 'water', 'roads','buildings']) # coast manhattan\u001b[39;00m\n\u001b[0;32m      <a href='vscode-notebook-cell:/c%3A/Users/Gustavo/code/urbantk-react-ts/src/pythonComponents/dataLoading/LayersLoading.ipynb#W1sZmlsZQ%3D%3D?line=1'>2</a>\u001b[0m \n\u001b[0;32m      <a href='vscode-notebook-cell:/c%3A/Users/Gustavo/code/urbantk-react-ts/src/pythonComponents/dataLoading/LayersLoading.ipynb#W1sZmlsZQ%3D%3D?line=2'>3</a>\u001b[0m \u001b[39m# uc = OSM.load_from_bbox([40.699768, -74.019904, 40.71135, -74.004712],layers=['buildings']) # south manhattan\u001b[39;00m\n\u001b[1;32m   (...)\u001b[0m\n\u001b[0;32m      <a href='vscode-notebook-cell:/c%3A/Users/Gustavo/code/urbantk-react-ts/src/pythonComponents/dataLoading/LayersLoading.ipynb#W1sZmlsZQ%3D%3D?line=5'>6</a>\u001b[0m \n\u001b[0;32m      <a href='vscode-notebook-cell:/c%3A/Users/Gustavo/code/urbantk-react-ts/src/pythonComponents/dataLoading/LayersLoading.ipynb#W1sZmlsZQ%3D%3D?line=6'>7</a>\u001b[0m \u001b[39m# uc = OSM.load_from_bbox([40.70695265056355, -74.01818677471793, 40.7076533306313, -74.01718208165698], layers=['buildings'], pbf_filepath='./osm_pbf_files/new-york-latest.osm.pbf') # one building manhattan through pbf\u001b[39;00m\n\u001b[1;32m----> <a href='vscode-notebook-cell:/c%3A/Users/Gustavo/code/urbantk-react-ts/src/pythonComponents/dataLoading/LayersLoading.ipynb#W1sZmlsZQ%3D%3D?line=7'>8</a>\u001b[0m uc \u001b[39m=\u001b[39m OSM\u001b[39m.\u001b[39;49mload_from_bbox([\u001b[39m40.699768\u001b[39;49m, \u001b[39m-\u001b[39;49m\u001b[39m74.019904\u001b[39;49m, \u001b[39m40.71135\u001b[39;49m, \u001b[39m-\u001b[39;49m\u001b[39m74.004712\u001b[39;49m],layers\u001b[39m=\u001b[39;49m[\u001b[39m'\u001b[39;49m\u001b[39mwater\u001b[39;49m\u001b[39m'\u001b[39;49m], pbf_filepath\u001b[39m=\u001b[39;49m\u001b[39m'\u001b[39;49m\u001b[39m./osm_pbf_files/new-york-latest.osm.pbf\u001b[39;49m\u001b[39m'\u001b[39;49m) \u001b[39m# south manhattan through pbf\u001b[39;00m\n\u001b[0;32m      <a href='vscode-notebook-cell:/c%3A/Users/Gustavo/code/urbantk-react-ts/src/pythonComponents/dataLoading/LayersLoading.ipynb#W1sZmlsZQ%3D%3D?line=8'>9</a>\u001b[0m \u001b[39m# uc = OSM.load_from_bbox([40.699768, -74.019904, 40.71135, -74.004712],layers=['water']) # south manhattan through pbf\u001b[39;00m\n\u001b[0;32m     <a href='vscode-notebook-cell:/c%3A/Users/Gustavo/code/urbantk-react-ts/src/pythonComponents/dataLoading/LayersLoading.ipynb#W1sZmlsZQ%3D%3D?line=9'>10</a>\u001b[0m \n\u001b[0;32m     <a href='vscode-notebook-cell:/c%3A/Users/Gustavo/code/urbantk-react-ts/src/pythonComponents/dataLoading/LayersLoading.ipynb#W1sZmlsZQ%3D%3D?line=10'>11</a>\u001b[0m \u001b[39m# uc = OSM.load_from_bbox([41.888935517219466, -87.62593386259636, 41.89817553541827, -87.59802720707879], layers=['parks', 'water', 'roads','buildings']) # downtown chicago\u001b[39;00m\n\u001b[0;32m     <a href='vscode-notebook-cell:/c%3A/Users/Gustavo/code/urbantk-react-ts/src/pythonComponents/dataLoading/LayersLoading.ipynb#W1sZmlsZQ%3D%3D?line=11'>12</a>\u001b[0m \n\u001b[0;32m     <a href='vscode-notebook-cell:/c%3A/Users/Gustavo/code/urbantk-react-ts/src/pythonComponents/dataLoading/LayersLoading.ipynb#W1sZmlsZQ%3D%3D?line=12'>13</a>\u001b[0m \u001b[39m# uc = OSM.load_from_bbox([41.87563217785448, -87.63386062211356, 41.87695047270141, -87.63303276422087], layers=['buildings']) # one building chicago\u001b[39;00m\n\u001b[0;32m     <a href='vscode-notebook-cell:/c%3A/Users/Gustavo/code/urbantk-react-ts/src/pythonComponents/dataLoading/LayersLoading.ipynb#W1sZmlsZQ%3D%3D?line=14'>15</a>\u001b[0m uc\u001b[39m.\u001b[39mto_file(\u001b[39m'\u001b[39m\u001b[39m../../../public/data/south_manhattan/\u001b[39m\u001b[39m'\u001b[39m, \u001b[39mTrue\u001b[39;00m)\n",
      "File \u001b[1;32mc:\\Users\\Gustavo\\code\\urbantk-react-ts\\src\\pythonComponents\\dataLoading\\osm.py:259\u001b[0m, in \u001b[0;36mOSM.load_from_bbox\u001b[1;34m(bbox, layers, pbf_filepath)\u001b[0m\n\u001b[0;32m    255\u001b[0m             output_file \u001b[39m+\u001b[39m\u001b[39m=\u001b[39m section\u001b[39m+\u001b[39m\u001b[39m'\u001b[39m\u001b[39m/\u001b[39m\u001b[39m'\u001b[39m\n\u001b[0;32m    257\u001b[0m     proc \u001b[39m=\u001b[39m subprocess\u001b[39m.\u001b[39mcall([\u001b[39m'\u001b[39m\u001b[39mwsl\u001b[39m\u001b[39m'\u001b[39m, \u001b[39m'\u001b[39m\u001b[39mosmium\u001b[39m\u001b[39m'\u001b[39m, \u001b[39m'\u001b[39m\u001b[39mextract\u001b[39m\u001b[39m'\u001b[39m, \u001b[39m'\u001b[39m\u001b[39m-b\u001b[39m\u001b[39m'\u001b[39m, aux, \u001b[39m'\u001b[39m\u001b[39m-o\u001b[39m\u001b[39m'\u001b[39m, output_file, \u001b[39m'\u001b[39m\u001b[39m--overwrite\u001b[39m\u001b[39m'\u001b[39m, pbf_filepath], shell\u001b[39m=\u001b[39m\u001b[39mTrue\u001b[39;00m) \u001b[39m# TODO: make it not depend on the OS\u001b[39;00m\n\u001b[1;32m--> 259\u001b[0m     loaded \u001b[39m=\u001b[39m OSM\u001b[39m.\u001b[39;49mget_osm(bbox, layers, \u001b[39mTrue\u001b[39;49;00m, output_file)\n\u001b[0;32m    260\u001b[0m \u001b[39melse\u001b[39;00m:\n\u001b[0;32m    261\u001b[0m     loaded \u001b[39m=\u001b[39m OSM\u001b[39m.\u001b[39mget_osm(bbox, layers)\n",
      "File \u001b[1;32mc:\\Users\\Gustavo\\code\\urbantk-react-ts\\src\\pythonComponents\\dataLoading\\osm.py:356\u001b[0m, in \u001b[0;36mOSM.get_osm\u001b[1;34m(bounding_box, layers, load_surface, pbf_filepath)\u001b[0m\n\u001b[0;32m    353\u001b[0m     result\u001b[39m.\u001b[39mappend({\u001b[39m'\u001b[39m\u001b[39mid\u001b[39m\u001b[39m'\u001b[39m: layer, \u001b[39m'\u001b[39m\u001b[39mtype\u001b[39m\u001b[39m'\u001b[39m: ttype, \u001b[39m'\u001b[39m\u001b[39mrenderStyle\u001b[39m\u001b[39m'\u001b[39m: renderStyle, \u001b[39m'\u001b[39m\u001b[39mstyleKey\u001b[39m\u001b[39m'\u001b[39m: styleKey, \u001b[39m'\u001b[39m\u001b[39mvisible\u001b[39m\u001b[39m'\u001b[39m: \u001b[39mTrue\u001b[39;00m, \u001b[39m'\u001b[39m\u001b[39mselectable\u001b[39m\u001b[39m'\u001b[39m: selectable, \u001b[39m'\u001b[39m\u001b[39mskip\u001b[39m\u001b[39m'\u001b[39m: \u001b[39mFalse\u001b[39;00m, \u001b[39m'\u001b[39m\u001b[39mdata\u001b[39m\u001b[39m'\u001b[39m: geometry})\n\u001b[0;32m    355\u001b[0m \u001b[39mif\u001b[39;00m load_surface:\n\u001b[1;32m--> 356\u001b[0m     geometry \u001b[39m=\u001b[39m OSM\u001b[39m.\u001b[39;49mcreate_surface_mesh(bbox)\n\u001b[0;32m    357\u001b[0m     result\u001b[39m.\u001b[39minsert(\u001b[39m0\u001b[39m,{\u001b[39m'\u001b[39m\u001b[39mid\u001b[39m\u001b[39m'\u001b[39m: \u001b[39m'\u001b[39m\u001b[39msurface\u001b[39m\u001b[39m'\u001b[39m, \u001b[39m'\u001b[39m\u001b[39mtype\u001b[39m\u001b[39m'\u001b[39m: \u001b[39m\"\u001b[39m\u001b[39mTRIANGLES_3D_LAYER\u001b[39m\u001b[39m\"\u001b[39m, \u001b[39m'\u001b[39m\u001b[39mrenderStyle\u001b[39m\u001b[39m'\u001b[39m: [\u001b[39m'\u001b[39m\u001b[39mFLAT_COLOR\u001b[39m\u001b[39m'\u001b[39m], \u001b[39m'\u001b[39m\u001b[39mstyleKey\u001b[39m\u001b[39m'\u001b[39m: \u001b[39m'\u001b[39m\u001b[39msurface\u001b[39m\u001b[39m'\u001b[39m, \u001b[39m'\u001b[39m\u001b[39mvisible\u001b[39m\u001b[39m'\u001b[39m: \u001b[39mTrue\u001b[39;00m, \u001b[39m'\u001b[39m\u001b[39mselectable\u001b[39m\u001b[39m'\u001b[39m: \u001b[39mFalse\u001b[39;00m, \u001b[39m'\u001b[39m\u001b[39mskip\u001b[39m\u001b[39m'\u001b[39m: \u001b[39mFalse\u001b[39;00m, \u001b[39m'\u001b[39m\u001b[39mdata\u001b[39m\u001b[39m'\u001b[39m: geometry})\n\u001b[0;32m    359\u001b[0m \u001b[39mreturn\u001b[39;00m result\n",
      "File \u001b[1;32mc:\\Users\\Gustavo\\code\\urbantk-react-ts\\src\\pythonComponents\\dataLoading\\osm.py:1221\u001b[0m, in \u001b[0;36mOSM.create_surface_mesh\u001b[1;34m(bbox)\u001b[0m\n\u001b[0;32m   1218\u001b[0m flat_coordinates \u001b[39m=\u001b[39m geometry[\u001b[39m0\u001b[39m][\u001b[39m'\u001b[39m\u001b[39mgeometry\u001b[39m\u001b[39m'\u001b[39m][\u001b[39m'\u001b[39m\u001b[39mcoordinates\u001b[39m\u001b[39m'\u001b[39m]\n\u001b[0;32m   1219\u001b[0m grouped_coordinates \u001b[39m=\u001b[39m np\u001b[39m.\u001b[39mreshape(np\u001b[39m.\u001b[39marray(flat_coordinates), (\u001b[39mint\u001b[39m(\u001b[39mlen\u001b[39m(flat_coordinates)\u001b[39m/\u001b[39m\u001b[39m3\u001b[39m), \u001b[39m-\u001b[39m\u001b[39m1\u001b[39m))\n\u001b[1;32m-> 1221\u001b[0m coordinates, indices, ids, normals \u001b[39m=\u001b[39m OSM\u001b[39m.\u001b[39;49mdiscretize_surface_mesh(grouped_coordinates, \u001b[39m5\u001b[39;49m)\n\u001b[0;32m   1223\u001b[0m mesh \u001b[39m=\u001b[39m [{\n\u001b[0;32m   1224\u001b[0m     \u001b[39m'\u001b[39m\u001b[39mgeometry\u001b[39m\u001b[39m'\u001b[39m: {\n\u001b[0;32m   1225\u001b[0m         \u001b[39m'\u001b[39m\u001b[39mcoordinates\u001b[39m\u001b[39m'\u001b[39m: [\u001b[39mfloat\u001b[39m(elem) \u001b[39mfor\u001b[39;00m sublist \u001b[39min\u001b[39;00m coordinates \u001b[39mfor\u001b[39;00m elem \u001b[39min\u001b[39;00m sublist],\n\u001b[1;32m   (...)\u001b[0m\n\u001b[0;32m   1229\u001b[0m     }\n\u001b[0;32m   1230\u001b[0m }]\n\u001b[0;32m   1232\u001b[0m \u001b[39mreturn\u001b[39;00m mesh\n",
      "File \u001b[1;32mc:\\Users\\Gustavo\\code\\urbantk-react-ts\\src\\pythonComponents\\dataLoading\\osm.py:1190\u001b[0m, in \u001b[0;36mOSM.discretize_surface_mesh\u001b[1;34m(coords, size)\u001b[0m\n\u001b[0;32m   1187\u001b[0m \u001b[39mdef\u001b[39;00m \u001b[39mdiscretize_surface_mesh\u001b[39m(coords, size\u001b[39m=\u001b[39m\u001b[39m-\u001b[39m\u001b[39m1\u001b[39m):\n\u001b[0;32m   1188\u001b[0m     poly \u001b[39m=\u001b[39m Polygon(coords[:,:\u001b[39m2\u001b[39m])\n\u001b[1;32m-> 1190\u001b[0m     coordinates, indices, ids, _, _, _, _ \u001b[39m=\u001b[39m Buildings\u001b[39m.\u001b[39;49mget_roof(poly, \u001b[39mNone\u001b[39;49;00m, \u001b[39m0\u001b[39;49m, size)\n\u001b[0;32m   1192\u001b[0m     vmesh \u001b[39m=\u001b[39m vedo\u001b[39m.\u001b[39mMesh([coordinates, indices])\n\u001b[0;32m   1193\u001b[0m     normals \u001b[39m=\u001b[39m vmesh\u001b[39m.\u001b[39mnormals(cells\u001b[39m=\u001b[39m\u001b[39mFalse\u001b[39;00m)\n",
      "File \u001b[1;32mc:\\Users\\Gustavo\\code\\urbantk-react-ts\\src\\pythonComponents\\dataLoading\\buildings.py:402\u001b[0m, in \u001b[0;36mBuildings.get_roof\u001b[1;34m(bottom_poly, top_poly, height, size)\u001b[0m\n\u001b[0;32m    399\u001b[0m     ccell \u001b[39m=\u001b[39m [cell]\n\u001b[0;32m    401\u001b[0m \u001b[39mfor\u001b[39;00m c \u001b[39min\u001b[39;00m ccell:\n\u001b[1;32m--> 402\u001b[0m     points \u001b[39m=\u001b[39m np\u001b[39m.\u001b[39marray(c\u001b[39m.\u001b[39;49mexterior\u001b[39m.\u001b[39mcoords[\u001b[39m0\u001b[39m:\u001b[39m-\u001b[39m\u001b[39m1\u001b[39m]) \u001b[39m# remove last one (repeated)\u001b[39;00m\n\u001b[0;32m    403\u001b[0m     rings \u001b[39m=\u001b[39m np\u001b[39m.\u001b[39marray([\u001b[39mlen\u001b[39m(points)])\n\u001b[0;32m    404\u001b[0m     ind \u001b[39m=\u001b[39m earcut\u001b[39m.\u001b[39mtriangulate_float64(points, rings)\n",
      "File \u001b[1;32mc:\\Users\\Gustavo\\anaconda3\\envs\\urbantk\\lib\\site-packages\\shapely\\geometry\\polygon.py:271\u001b[0m, in \u001b[0;36mPolygon.exterior\u001b[1;34m(self)\u001b[0m\n\u001b[0;32m    269\u001b[0m \u001b[39m@property\u001b[39m\n\u001b[0;32m    270\u001b[0m \u001b[39mdef\u001b[39;00m \u001b[39mexterior\u001b[39m(\u001b[39mself\u001b[39m):\n\u001b[1;32m--> 271\u001b[0m     \u001b[39mif\u001b[39;00m \u001b[39mself\u001b[39;49m\u001b[39m.\u001b[39;49mis_empty:\n\u001b[0;32m    272\u001b[0m         \u001b[39mreturn\u001b[39;00m LinearRing()\n\u001b[0;32m    273\u001b[0m     \u001b[39melif\u001b[39;00m \u001b[39mself\u001b[39m\u001b[39m.\u001b[39m_exterior \u001b[39mis\u001b[39;00m \u001b[39mNone\u001b[39;00m \u001b[39mor\u001b[39;00m \u001b[39mself\u001b[39m\u001b[39m.\u001b[39m_exterior() \u001b[39mis\u001b[39;00m \u001b[39mNone\u001b[39;00m:\n",
      "File \u001b[1;32mc:\\Users\\Gustavo\\anaconda3\\envs\\urbantk\\lib\\site-packages\\shapely\\geometry\\base.py:716\u001b[0m, in \u001b[0;36mBaseGeometry.is_empty\u001b[1;34m(self)\u001b[0m\n\u001b[0;32m    713\u001b[0m \u001b[39m@property\u001b[39m\n\u001b[0;32m    714\u001b[0m \u001b[39mdef\u001b[39;00m \u001b[39mis_empty\u001b[39m(\u001b[39mself\u001b[39m):\n\u001b[0;32m    715\u001b[0m     \u001b[39m\"\"\"True if the set of points in this geometry is empty, else False\"\"\"\u001b[39;00m\n\u001b[1;32m--> 716\u001b[0m     \u001b[39mreturn\u001b[39;00m (\u001b[39mself\u001b[39m\u001b[39m.\u001b[39m_geom \u001b[39mis\u001b[39;00m \u001b[39mNone\u001b[39;00m) \u001b[39mor\u001b[39;00m \u001b[39mbool\u001b[39m(\u001b[39mself\u001b[39;49m\u001b[39m.\u001b[39;49mimpl[\u001b[39m'\u001b[39;49m\u001b[39mis_empty\u001b[39;49m\u001b[39m'\u001b[39;49m](\u001b[39mself\u001b[39;49m))\n",
      "File \u001b[1;32mc:\\Users\\Gustavo\\anaconda3\\envs\\urbantk\\lib\\site-packages\\shapely\\predicates.py:25\u001b[0m, in \u001b[0;36mUnaryPredicate.__call__\u001b[1;34m(self, this)\u001b[0m\n\u001b[0;32m     23\u001b[0m \u001b[39mdef\u001b[39;00m \u001b[39m__call__\u001b[39m(\u001b[39mself\u001b[39m, this):\n\u001b[0;32m     24\u001b[0m     \u001b[39mself\u001b[39m\u001b[39m.\u001b[39m_validate(this)\n\u001b[1;32m---> 25\u001b[0m     \u001b[39mreturn\u001b[39;00m \u001b[39mself\u001b[39;49m\u001b[39m.\u001b[39;49mfn(this\u001b[39m.\u001b[39;49m_geom)\n",
      "File \u001b[1;32mc:\\Users\\Gustavo\\anaconda3\\envs\\urbantk\\lib\\site-packages\\shapely\\geos.py:606\u001b[0m, in \u001b[0;36merrcheck_predicate\u001b[1;34m(result, func, argtuple)\u001b[0m\n\u001b[0;32m    599\u001b[0m         \u001b[39mraise\u001b[39;00m TopologicalError(\n\u001b[0;32m    600\u001b[0m             \u001b[39m\"\u001b[39m\u001b[39mThe operation \u001b[39m\u001b[39m'\u001b[39m\u001b[39m{}\u001b[39;00m\u001b[39m'\u001b[39m\u001b[39m could not be performed.\u001b[39m\u001b[39m\"\u001b[39m\n\u001b[0;32m    601\u001b[0m             \u001b[39m\"\u001b[39m\u001b[39mLikely cause is invalidity of the geometry.\u001b[39m\u001b[39m\"\u001b[39m\u001b[39m.\u001b[39mformat(\n\u001b[0;32m    602\u001b[0m                 func\u001b[39m.\u001b[39m\u001b[39m__name__\u001b[39m))\n\u001b[0;32m    603\u001b[0m     \u001b[39mreturn\u001b[39;00m errcheck_just_free(result, func, argtuple)\n\u001b[1;32m--> 606\u001b[0m \u001b[39mdef\u001b[39;00m \u001b[39merrcheck_predicate\u001b[39m(result, func, argtuple):\n\u001b[0;32m    607\u001b[0m     \u001b[39m\"\"\"Result is 2 on exception, 1 on True, 0 on False\"\"\"\u001b[39;00m\n\u001b[0;32m    608\u001b[0m     \u001b[39mif\u001b[39;00m result \u001b[39m==\u001b[39m \u001b[39m2\u001b[39m:\n",
      "\u001b[1;31mKeyboardInterrupt\u001b[0m: "
     ]
    }
   ],
   "source": [
    "# uc = OSM.load_from_bbox([40.69955499145943, -74.02246240136375, 40.71129333248451, -74.00571625011193],layers=['parks', 'water', 'roads','buildings']) # coast manhattan\n",
    "\n",
    "# uc = OSM.load_from_bbox([40.699768, -74.019904, 40.71135, -74.004712],layers=['buildings']) # south manhattan\n",
    "\n",
    "# uc = OSM.load_from_bbox([40.70695265056355, -74.01818677471793, 40.7076533306313, -74.01718208165698],layers=['buildings']) # one building manhattan\n",
    "\n",
    "# uc = OSM.load_from_bbox([40.70695265056355, -74.01818677471793, 40.7076533306313, -74.01718208165698], layers=['buildings'], pbf_filepath='./osm_pbf_files/new-york-latest.osm.pbf') # one building manhattan through pbf\n",
    "uc = OSM.load_from_bbox([40.699768, -74.019904, 40.71135, -74.004712],layers=['water'], pbf_filepath='./osm_pbf_files/new-york-latest.osm.pbf') # south manhattan through pbf\n",
    "# uc = OSM.load_from_bbox([40.699768, -74.019904, 40.71135, -74.004712],layers=['water']) # south manhattan through pbf\n",
    "\n",
    "# uc = OSM.load_from_bbox([41.888935517219466, -87.62593386259636, 41.89817553541827, -87.59802720707879], layers=['parks', 'water', 'roads','buildings']) # downtown chicago\n",
    "\n",
    "# uc = OSM.load_from_bbox([41.87563217785448, -87.63386062211356, 41.87695047270141, -87.63303276422087], layers=['buildings']) # one building chicago\n",
    "\n",
    "uc.to_file('../../../public/data/south_manhattan/', True)\n",
    "# shadowAccumulator = ShadowAccumulator(['../../../public/data/south_manhattan/buildings.json', '../../../public/data/south_manhattan/surface.json'], [[\"06/21/2015 08:00\", \"06/21/2015 09:01\"], [\"09/22/2015 14:00\", \"09/22/2015 15:01\"], [\"12/21/2015 10:00\", \"12/21/2015 11:01\"]], 'spring')\n",
    "# shadowAccumulator = ShadowAccumulator(['../../../public/data/south_manhattan/buildings.json', '../../../public/data/south_manhattan/surface.json'], [[\"03/20/2015 10:00\", \"03/20/2015 11:01\"], [\"09/22/2015 14:00\", \"09/22/2015 15:01\"]], 'spring')\n",
    "# shadowAccumulator = ShadowAccumulator(['../../../public/data/one_building/buildings.json', '../../../public/data/one_building/surface.json'], [[\"03/20/2015 10:00\", \"03/20/2015 11:01\"]], 'spring')\n",
    "# shadowAccumulator.accumulate_shadow()\n",
    "\n",
    "# postProcessSurface('../../../public/data/coastline_test/', [0.01,1], [0,0.01])\n"
   ]
  }
 ],
 "metadata": {
  "kernelspec": {
   "display_name": "urbantk",
   "language": "python",
   "name": "python3"
  },
  "language_info": {
   "codemirror_mode": {
    "name": "ipython",
    "version": 3
   },
   "file_extension": ".py",
   "mimetype": "text/x-python",
   "name": "python",
   "nbconvert_exporter": "python",
   "pygments_lexer": "ipython3",
   "version": "3.10.6"
  },
  "orig_nbformat": 4,
  "vscode": {
   "interpreter": {
    "hash": "417a5b75eced6a10a6aab538a5d6d1aa2801868f4335db3e9395b85b77ab2694"
   }
  }
 },
 "nbformat": 4,
 "nbformat_minor": 2
}
