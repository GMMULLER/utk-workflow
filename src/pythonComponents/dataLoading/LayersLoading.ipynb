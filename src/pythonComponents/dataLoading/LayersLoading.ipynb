{
 "cells": [
  {
   "cell_type": "code",
   "execution_count": 1,
   "metadata": {},
   "outputs": [
    {
     "name": "stdout",
     "output_type": "stream",
     "text": [
      "********************************************************************************\n",
      "PlotOptiX newer version is available: 0.15.0\n",
      "to update your release use:\n",
      "      pip install plotoptix --upgrade\n",
      "********************************************************************************\n"
     ]
    }
   ],
   "source": [
    "from osm import *\n",
    "from shadowAccumulator import *\n",
    "from surfacePostProcessing import *\n",
    "from shp import *"
   ]
  },
  {
   "cell_type": "code",
   "execution_count": 2,
   "metadata": {},
   "outputs": [
    {
     "name": "stdout",
     "output_type": "stream",
     "text": [
      "{'object':                                              geometry  id\n",
      "6   POLYGON ((-8239796.301 4941214.109, -8239791.4...   0\n",
      "7   POLYGON ((-8239465.664 4941797.011, -8239409.2...   1\n",
      "13  POLYGON ((-8239257.505 4941134.437, -8239228.8...   2\n",
      "3   POLYGON ((-8238892.527 4941838.717, -8238754.0...   3\n",
      "0   POLYGON ((-8239246.396 4941930.105, -8239236.6...   4\n",
      "16  POLYGON ((-8239075.721 4941860.981, -8239043.4...   5\n",
      "17  POLYGON ((-8238970.953 4941375.245, -8238976.9...   6\n",
      "5   POLYGON ((-8239611.429 4940874.024, -8239611.3...   7\n",
      "9   POLYGON ((-8238778.471 4941536.977, -8238760.3...   8\n",
      "18  POLYGON ((-8238795.809 4941604.834, -8238782.1...   9\n",
      "10  POLYGON ((-8238783.827 4940785.431, -8238765.0...  10\n",
      "20  POLYGON ((-8238684.368 4941261.069, -8238656.0...  11\n",
      "12  POLYGON ((-8238612.423 4941417.825, -8238698.6...  12\n",
      "15  POLYGON ((-8238655.729 4941604.849, -8238634.3...  13\n",
      "4   POLYGON ((-8239030.832 4941319.021, -8239025.6...  14\n",
      "19  POLYGON ((-8238653.596 4941238.032, -8238626.7...  15\n",
      "14  POLYGON ((-8238539.535 4941037.947, -8238544.0...  16\n",
      "8   POLYGON ((-8238557.160 4941279.092, -8238525.9...  17\n",
      "11  POLYGON ((-8238430.842 4940888.353, -8238477.1...  18\n",
      "1   POLYGON ((-8238892.527 4941838.717, -8238844.6...  19\n",
      "2   MULTIPOLYGON (((-8238306.500 4940954.792, -823...  20, 'coordinates':                              geometry   id\n",
      "0    POINT (-8239796.301 4941214.109)    0\n",
      "1    POINT (-8239791.467 4941240.193)    1\n",
      "2    POINT (-8239782.806 4941286.193)    2\n",
      "3    POINT (-8239781.399 4941293.563)    3\n",
      "4    POINT (-8239778.865 4941306.835)    4\n",
      "..                                ...  ...\n",
      "791  POINT (-8238636.101 4941529.696)  791\n",
      "792  POINT (-8238676.034 4941573.854)  792\n",
      "793  POINT (-8238685.535 4941582.263)  793\n",
      "794  POINT (-8238695.544 4941589.478)  794\n",
      "795  POINT (-8238717.565 4941603.173)  795\n",
      "\n",
      "[796 rows x 2 columns]}\n"
     ]
    }
   ],
   "source": [
    "# generateLayerFromShp(\"../../../public/data/south_manhattan/ZIP_CODE_040114.shp\", [40.699768, -74.019904, 40.71135, -74.004712], \"zip\", \"land\")\n",
    "\n",
    "# uc = OSM.load_from_bbox([40.70695265056355, -74.01818677471793, 40.7076533306313, -74.01718208165698],layers=['buildings']) # one building manhattan\n",
    "\n",
    "# uc = OSM.load_from_bbox([40.699768, -74.019904, 40.71135, -74.004712],layers=['parks', 'buildings']) # south manhattan without pbf\n",
    "\n",
    "# print(uc.attachLayers('parks', 'buildings'))\n",
    "\n",
    "# uc.addLayerFromJsonFile('../../../public/data/south_manhattan/zip.json', dim=2)\n",
    "\n",
    "# uc = OSM.load_from_bbox([40.699768, -74.019904, 40.71135, -74.004712],layers=['parks', 'water', 'roads','buildings'], pbf_filepath='./osm_pbf_files/new-york-latest.osm.pbf') # south manhattan with pbf\n",
    "# uc = OSM.load_from_bbox([40.699768, -74.019904, 40.71135, -74.004712],layers=['parks', 'water', 'roads','buildings']) # south manhattan without pbf\n",
    "\n",
    "# uc = OSM.load_from_bbox([41.888935517219466, -87.62593386259636, 41.89817553541827, -87.59802720707879], layers=['buildings']) # downtown chicago\n",
    "# uc = OSM.load_from_bbox([41.89668031564063, -87.62217400322182, 41.89766067070132, -87.62023649289858], layers=['buildings']) # one building chicago\n",
    "\n",
    "# uc.to_file('../../../public/data/south_manhattan/', True)\n",
    "# shadowAccumulator = ShadowAccumulator(['../../../public/data/south_manhattan/buildings.json', '../../../public/data/south_manhattan/surface.json'], [[\"06/21/2015 08:00\", \"06/21/2015 09:01\"], [\"09/22/2015 14:00\", \"09/22/2015 15:01\"], [\"12/21/2015 10:00\", \"12/21/2015 11:01\"]], 'spring')\n",
    "# shadowAccumulator = ShadowAccumulator(['../../../public/data/south_manhattan/buildings.json', '../../../public/data/south_manhattan/surface.json'], [[\"03/20/2015 10:00\", \"03/20/2015 11:01\"], [\"09/22/2015 14:00\", \"09/22/2015 15:01\"]], 'spring')\n",
    "# shadowAccumulator = ShadowAccumulator(['../../../public/data/south_manhattan/buildings.json', '../../../public/data/south_manhattan/surface.json'], [[\"03/20/2015 10:00\", \"03/20/2015 11:01\"]], 'spring')\n",
    "# shadowAccumulator.accumulate_shadow()\n",
    "\n",
    "# postProcessSurface('../../../public/data/coastline_test/', [0.01,1], [0,0.01])\n"
   ]
  },
  {
   "cell_type": "code",
   "execution_count": 3,
   "metadata": {},
   "outputs": [],
   "source": [
    "# import pandas as pd\n",
    "\n",
    "# pd.isna(uc.layers['gdf'][1].sjoin(uc.layers['gdf'][2], how='left').iloc[2]['index_right'])"
   ]
  }
 ],
 "metadata": {
  "kernelspec": {
   "display_name": "urbantk",
   "language": "python",
   "name": "python3"
  },
  "language_info": {
   "codemirror_mode": {
    "name": "ipython",
    "version": 3
   },
   "file_extension": ".py",
   "mimetype": "text/x-python",
   "name": "python",
   "nbconvert_exporter": "python",
   "pygments_lexer": "ipython3",
   "version": "3.10.6"
  },
  "orig_nbformat": 4,
  "vscode": {
   "interpreter": {
    "hash": "417a5b75eced6a10a6aab538a5d6d1aa2801868f4335db3e9395b85b77ab2694"
   }
  }
 },
 "nbformat": 4,
 "nbformat_minor": 2
}
