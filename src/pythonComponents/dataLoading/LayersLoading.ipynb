{
 "cells": [
  {
   "cell_type": "code",
   "execution_count": null,
   "metadata": {},
   "outputs": [],
   "source": [
    "from loader import *\n",
    "from shadowAccumulator import *"
   ]
  },
  {
   "cell_type": "code",
   "execution_count": null,
   "metadata": {},
   "outputs": [],
   "source": [
    "# uc = OSM.load_from_bbox([40.699838937,-74.0196528667,40.7073327656,-74.0082184426],layers=['coastline']) # south manhattan # error\n",
    "\n",
    "# uc = OSM.load_from_bbox([40.699768, -74.019904, 40.71135, -74.004712],layers=['buildings']) # south manhattan\n",
    "\n",
    "# uc = OSM.load_from_bbox([40.69961509036723, -74.02268874354345, 40.70796231892495, -74.00846222529327],layers=['buildings']) # smaller south manhattan\n",
    "\n",
    "# uc = OSM.load_from_bbox([-22.9116387034, -43.138063104, -22.8949298301, -43.118236215],layers=['coastline']) # niteroi, issues error for coastline\n",
    "\n",
    "# uc = OSM.load_from_bbox([40.70695265056355, -74.01818677471793, 40.7076533306313, -74.01718208165698],layers=['buildings']) # one building manhattan (1)\n",
    "# uc = OSM.load_from_bbox([40.705832500462, -74.01789868047153, 40.70671326575017, -74.01676853080717],layers=['buildings']) # one building manhattan (2)\n",
    "\n",
    "# uc = OSM.load_from_bbox([40.70695265056355, -74.01818677471793, 40.70830848157795, -74.0167710457299],layers=['buildings']) # two buildings manhattan\n",
    "\n",
    "# uc.to_file('../../../public/data/south_manhattan/', True)\n",
    "# shadowAccumulator = ShadowAccumulator(['../../../public/data/south_manhattan/buildings.json', '../../../public/data/south_manhattan/surface.json'], [[\"06/21/2015 08:00\", \"06/21/2015 09:01\"], [\"09/22/2015 14:00\", \"09/22/2015 15:01\"], [\"12/21/2015 10:00\", \"12/21/2015 11:01\"]], 'spring')\n",
    "shadowAccumulator = ShadowAccumulator(['../../../public/data/south_manhattan/buildings.json', '../../../public/data/south_manhattan/surface.json'], [[\"03/20/2015 10:00\", \"03/20/2015 11:01\"], [\"09/22/2015 14:00\", \"09/22/2015 15:01\"]], 'spring')\n",
    "shadowAccumulator.accumulate_shadow()"
   ]
  }
 ],
 "metadata": {
  "kernelspec": {
   "display_name": "urbantk",
   "language": "python",
   "name": "python3"
  },
  "language_info": {
   "codemirror_mode": {
    "name": "ipython",
    "version": 3
   },
   "file_extension": ".py",
   "mimetype": "text/x-python",
   "name": "python",
   "nbconvert_exporter": "python",
   "pygments_lexer": "ipython3",
   "version": "3.10.6"
  },
  "orig_nbformat": 4,
  "vscode": {
   "interpreter": {
    "hash": "70e5c1a2e5a1b6bda8e8c783cf9964b5c0412d607cc5f42b6005c575303b0216"
   }
  }
 },
 "nbformat": 4,
 "nbformat_minor": 2
}
