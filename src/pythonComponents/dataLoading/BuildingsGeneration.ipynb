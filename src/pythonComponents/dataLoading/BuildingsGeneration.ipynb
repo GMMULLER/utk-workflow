{
 "cells": [
  {
   "cell_type": "code",
   "execution_count": 1,
   "metadata": {},
   "outputs": [],
   "source": [
    "from loader import *\n",
    "from urbanComponent import *\n",
    "import geopandas as gpd\n",
    "import pandas as pd\n",
    "# import sys\n",
    "# sys.path.insert(0,'../../')"
   ]
  },
  {
   "cell_type": "code",
   "execution_count": 2,
   "metadata": {},
   "outputs": [],
   "source": [
    "# df_buildings = OSM.create_dataframe('osm_pbf_files/greenland-latest.osm.pbf')\n",
    "# df_buildings = OSM.create_dataframe('osm_pbf_files/nyc.osm.pbf', [40.699768, -74.019904, 40.71135, -74.004712])\n",
    "# df_merged_buildings = OSM.merge_buildings(df_buildings)\n",
    "\n",
    "# df_mesh = Mesh.create_mesh(df_merged_buildings, 5) #gdf, size\n",
    "\n",
    "# df_mesh.to_pickle('buildings_nyc_5.pkl.zip')\n",
    "\n",
    "df_mesh = pd.read_pickle('./osm_pbf_files/buildings.pkl.zip')\n",
    "\n",
    "# coords, indices, ids, colors, normals = Mesh.get_coordinates(df_mesh, True)\n",
    "\n",
    "json_mesh = Mesh.gdf_to_json(df_mesh)\n",
    "# json_mesh = Mesh.gdf_to_json(df_mesh)\n",
    "\n",
    "with open(\"buildings.json\", \"w\") as outfile:\n",
    "    json.dump(json_mesh, outfile, indent=4)\n",
    "\n",
    "# urban_component = new UrbanComponent(layers = loaded, bbox = bbox, camera = cam)"
   ]
  },
  {
   "cell_type": "code",
   "execution_count": 3,
   "metadata": {},
   "outputs": [],
   "source": [
    "df_mesh = pd.read_pickle('./osm_pbf_files/buildings.pkl.zip')"
   ]
  },
  {
   "cell_type": "code",
   "execution_count": 4,
   "metadata": {},
   "outputs": [
    {
     "ename": "KeyboardInterrupt",
     "evalue": "",
     "output_type": "error",
     "traceback": [
      "\u001b[1;31m---------------------------------------------------------------------------\u001b[0m",
      "\u001b[1;31mKeyboardInterrupt\u001b[0m                         Traceback (most recent call last)",
      "\u001b[1;32mc:\\Users\\Gustavo\\code\\urbantk-react-ts\\src\\pythonComponents\\dataLoading\\BuildingsGeneration.ipynb Cell 4\u001b[0m in \u001b[0;36m<cell line: 2>\u001b[1;34m()\u001b[0m\n\u001b[0;32m      <a href='vscode-notebook-cell:/c%3A/Users/Gustavo/code/urbantk-react-ts/src/pythonComponents/dataLoading/BuildingsGeneration.ipynb#W6sZmlsZQ%3D%3D?line=0'>1</a>\u001b[0m \u001b[39m# uc.view(width='100%',height='800px')\u001b[39;00m\n\u001b[1;32m----> <a href='vscode-notebook-cell:/c%3A/Users/Gustavo/code/urbantk-react-ts/src/pythonComponents/dataLoading/BuildingsGeneration.ipynb#W6sZmlsZQ%3D%3D?line=1'>2</a>\u001b[0m Mesh\u001b[39m.\u001b[39;49mview(df_mesh)\n",
      "File \u001b[1;32mc:\\Users\\Gustavo\\code\\urbantk-react-ts\\src\\pythonComponents\\dataLoading\\loader.py:1522\u001b[0m, in \u001b[0;36mMesh.view\u001b[1;34m(gdf)\u001b[0m\n\u001b[0;32m   1520\u001b[0m \u001b[39mdef\u001b[39;00m \u001b[39mview\u001b[39m(gdf):\n\u001b[1;32m-> 1522\u001b[0m     coords_all, indices_all, ids_all, colors_all \u001b[39m=\u001b[39m Mesh\u001b[39m.\u001b[39;49mget_coordinates(gdf)\n\u001b[0;32m   1523\u001b[0m     vertices \u001b[39m=\u001b[39m coords_all \u001b[39m-\u001b[39m np\u001b[39m.\u001b[39mmean(coords_all, axis\u001b[39m=\u001b[39m\u001b[39m0\u001b[39m)\n\u001b[0;32m   1524\u001b[0m     vmesh \u001b[39m=\u001b[39m vedo\u001b[39m.\u001b[39mMesh([vertices, indices_all])\n",
      "File \u001b[1;32mc:\\Users\\Gustavo\\code\\urbantk-react-ts\\src\\pythonComponents\\dataLoading\\loader.py:1471\u001b[0m, in \u001b[0;36mMesh.get_coordinates\u001b[1;34m(gdf, compute_normals)\u001b[0m\n\u001b[0;32m   1469\u001b[0m     indices_all \u001b[39m=\u001b[39m np\u001b[39m.\u001b[39mconcatenate((indices_all, np\u001b[39m.\u001b[39marray(indices[i])\u001b[39m+\u001b[39mcoords_all\u001b[39m.\u001b[39mshape[\u001b[39m0\u001b[39m]))\n\u001b[0;32m   1470\u001b[0m     coords_all \u001b[39m=\u001b[39m np\u001b[39m.\u001b[39mconcatenate((coords_all, coordinates[i]))\n\u001b[1;32m-> 1471\u001b[0m     colors_all \u001b[39m=\u001b[39m np\u001b[39m.\u001b[39;49mconcatenate((colors_all, colors[i]))\n\u001b[0;32m   1472\u001b[0m     ids_all \u001b[39m=\u001b[39m np\u001b[39m.\u001b[39mconcatenate((ids_all, ids[i]))\n\u001b[0;32m   1474\u001b[0m \u001b[39mif\u001b[39;00m compute_normals:\n",
      "File \u001b[1;32m<__array_function__ internals>:5\u001b[0m, in \u001b[0;36mconcatenate\u001b[1;34m(*args, **kwargs)\u001b[0m\n",
      "\u001b[1;31mKeyboardInterrupt\u001b[0m: "
     ]
    }
   ],
   "source": [
    "# uc.view(width='100%',height='800px')\n",
    "Mesh.view(df_mesh)\n"
   ]
  },
  {
   "cell_type": "code",
   "execution_count": null,
   "metadata": {},
   "outputs": [],
   "source": [
    "# uc = OSM.load_from_bbox([40.699768, -74.019904, 40.71135, -74.004712]) # An error regarding the coastline is emitted when using this bbox TODO: fix\n",
    "uc = OSM.load_from_bbox([40.728641,-74.000280,40.732836,-73.994486]) # loads UrbanComponent containing all layers\n",
    "uc.to_file('./uc_data/index.json')"
   ]
  }
 ],
 "metadata": {
  "kernelspec": {
   "display_name": "Python 3.10.6 ('urbantk')",
   "language": "python",
   "name": "python3"
  },
  "language_info": {
   "codemirror_mode": {
    "name": "ipython",
    "version": 3
   },
   "file_extension": ".py",
   "mimetype": "text/x-python",
   "name": "python",
   "nbconvert_exporter": "python",
   "pygments_lexer": "ipython3",
   "version": "3.10.6"
  },
  "orig_nbformat": 4,
  "vscode": {
   "interpreter": {
    "hash": "417a5b75eced6a10a6aab538a5d6d1aa2801868f4335db3e9395b85b77ab2694"
   }
  }
 },
 "nbformat": 4,
 "nbformat_minor": 2
}
