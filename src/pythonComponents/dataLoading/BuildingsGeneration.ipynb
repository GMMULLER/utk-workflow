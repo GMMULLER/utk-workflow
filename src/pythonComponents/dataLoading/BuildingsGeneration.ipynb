{
 "cells": [
  {
   "cell_type": "code",
   "execution_count": 1,
   "metadata": {},
   "outputs": [],
   "source": [
    "from loader import *\n",
    "from urbanComponent import *\n",
    "import geopandas as gpd\n",
    "import pandas as pd\n",
    "# import sys\n",
    "# sys.path.insert(0,'../../')"
   ]
  },
  {
   "cell_type": "code",
   "execution_count": 2,
   "metadata": {},
   "outputs": [
    {
     "name": "stdout",
     "output_type": "stream",
     "text": [
      "invalid area (area_id=533866792)\n",
      "osmium.osm.Area(id=533866792, deleted=False, visible=True, version=2, changeset=0, uid=0, timestamp=datetime.datetime(2022, 3, 14, 23, 26, 8, tzinfo=datetime.timezone.utc), user='', tags=osmium.osm.TagList({'addr:housenumber': '178', 'addr:postcode': '10128', 'addr:street': 'East 88th Street', 'building': 'yes', 'height': '15.4', 'nycdoitt:bin': '1048058'}))\n",
      "0          MULTIPOLYGON (((-73.97005 40.67301, -73.97004 ...\n",
      "1          MULTIPOLYGON (((-73.96388 40.67952, -73.96387 ...\n",
      "2          MULTIPOLYGON (((-74.05790 40.73167, -74.05777 ...\n",
      "3          MULTIPOLYGON (((-74.03014 40.73537, -74.03014 ...\n",
      "4          MULTIPOLYGON (((-74.02560 40.74458, -74.02559 ...\n",
      "                                 ...                        \n",
      "1338889    MULTIPOLYGON (((-74.23322 40.52153, -74.23313 ...\n",
      "1338890    MULTIPOLYGON (((-74.23322 40.52144, -74.23313 ...\n",
      "1338891    MULTIPOLYGON (((-74.23055 40.52149, -74.23055 ...\n",
      "1338892    MULTIPOLYGON (((-74.23051 40.52137, -74.23049 ...\n",
      "1338893    MULTIPOLYGON (((-73.84420 40.81771, -73.84385 ...\n",
      "Length: 1338894, dtype: geometry\n"
     ]
    }
   ],
   "source": [
    "df_buildings = OSM.create_dataframe('osm_pbf_files/nyc.osm.pbf', [40.699768, -74.019904, 40.71135, -74.004712])\n"
   ]
  },
  {
   "cell_type": "code",
   "execution_count": 12,
   "metadata": {},
   "outputs": [
    {
     "data": {
      "text/plain": [
       "203"
      ]
     },
     "execution_count": 12,
     "metadata": {},
     "output_type": "execute_result"
    }
   ],
   "source": [
    "len(df_merged_buildings['building_id'].unique())"
   ]
  },
  {
   "cell_type": "code",
   "execution_count": null,
   "metadata": {},
   "outputs": [],
   "source": [
    "# df_buildings = OSM.create_dataframe('osm_pbf_files/greenland-latest.osm.pbf')\n",
    "# df_buildings = OSM.create_dataframe('osm_pbf_files/nyc.osm.pbf', [40.699768, -74.019904, 40.71135, -74.004712])\n",
    "# df_merged_buildings = OSM.merge_buildings(df_buildings)\n",
    "\n",
    "# df_mesh = Mesh.create_mesh(df_merged_buildings, 5) #gdf, size\n",
    "\n",
    "# df_mesh.to_pickle('buildings_nyc_5.pkl.zip')\n",
    "\n",
    "df_mesh = pd.read_pickle('./osm_pbf_files/buildings.pkl.zip')\n",
    "\n",
    "# coords, indices, ids, colors, normals = Mesh.get_coordinates(df_mesh, True)\n",
    "\n",
    "# json_mesh = Mesh.gdf_to_json(df_mesh.iloc[[49, 50, 51]])\n",
    "json_mesh = Mesh.gdf_to_json(df_mesh)\n",
    "\n",
    "with open(\"buildings.json\", \"w\") as outfile:\n",
    "    json.dump(json_mesh, outfile, indent=4)\n",
    "\n",
    "# urban_component = new UrbanComponent(layers = loaded, bbox = bbox, camera = cam)"
   ]
  },
  {
   "cell_type": "code",
   "execution_count": null,
   "metadata": {},
   "outputs": [],
   "source": [
    "# uc.view(width='100%',height='800px')\n",
    "Mesh.view(df_mesh)\n"
   ]
  },
  {
   "cell_type": "code",
   "execution_count": null,
   "metadata": {},
   "outputs": [],
   "source": [
    "# uc = OSM.load_from_bbox([40.699768, -74.019904, 40.71135, -74.004712]) # An error regarding the coastline is emitted when using this bbox TODO: fix\n",
    "uc = OSM.load_from_bbox([40.728641,-74.000280,40.732836,-73.994486]) # loads UrbanComponent containing all layers\n",
    "uc.to_file('./uc_data/index.json')"
   ]
  }
 ],
 "metadata": {
  "kernelspec": {
   "display_name": "Python 3.10.6 ('urbantk')",
   "language": "python",
   "name": "python3"
  },
  "language_info": {
   "codemirror_mode": {
    "name": "ipython",
    "version": 3
   },
   "file_extension": ".py",
   "mimetype": "text/x-python",
   "name": "python",
   "nbconvert_exporter": "python",
   "pygments_lexer": "ipython3",
   "version": "3.10.6"
  },
  "orig_nbformat": 4,
  "vscode": {
   "interpreter": {
    "hash": "417a5b75eced6a10a6aab538a5d6d1aa2801868f4335db3e9395b85b77ab2694"
   }
  }
 },
 "nbformat": 4,
 "nbformat_minor": 2
}
