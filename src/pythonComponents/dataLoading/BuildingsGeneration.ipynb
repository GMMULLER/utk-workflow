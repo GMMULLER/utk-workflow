{
 "cells": [
  {
   "cell_type": "code",
   "execution_count": 1,
   "metadata": {},
   "outputs": [],
   "source": [
    "from loader import *\n",
    "from urbanComponent import *\n",
    "import geopandas as gpd\n",
    "import pandas as pd\n",
    "# import sys\n",
    "# sys.path.insert(0,'../../')"
   ]
  },
  {
   "cell_type": "code",
   "execution_count": 2,
   "metadata": {},
   "outputs": [
    {
     "name": "stdout",
     "output_type": "stream",
     "text": [
      "invalid area (area_id=533866792)\n",
      "osmium.osm.Area(id=533866792, deleted=False, visible=True, version=2, changeset=0, uid=0, timestamp=datetime.datetime(2022, 3, 14, 23, 26, 8, tzinfo=datetime.timezone.utc), user='', tags=osmium.osm.TagList({'addr:housenumber': '178', 'addr:postcode': '10128', 'addr:street': 'East 88th Street', 'building': 'yes', 'height': '15.4', 'nycdoitt:bin': '1048058'}))\n"
     ]
    },
    {
     "data": {
      "text/html": [
       "<div>\n",
       "<style scoped>\n",
       "    .dataframe tbody tr th:only-of-type {\n",
       "        vertical-align: middle;\n",
       "    }\n",
       "\n",
       "    .dataframe tbody tr th {\n",
       "        vertical-align: top;\n",
       "    }\n",
       "\n",
       "    .dataframe thead th {\n",
       "        text-align: right;\n",
       "    }\n",
       "</style>\n",
       "<table border=\"1\" class=\"dataframe\">\n",
       "  <thead>\n",
       "    <tr style=\"text-align: right;\">\n",
       "      <th></th>\n",
       "      <th>id</th>\n",
       "      <th>orig_id</th>\n",
       "      <th>building_id</th>\n",
       "      <th>geometry</th>\n",
       "      <th>min_height</th>\n",
       "      <th>height</th>\n",
       "      <th>tags</th>\n",
       "    </tr>\n",
       "    <tr>\n",
       "      <th>building_id</th>\n",
       "      <th></th>\n",
       "      <th></th>\n",
       "      <th></th>\n",
       "      <th></th>\n",
       "      <th></th>\n",
       "      <th></th>\n",
       "      <th></th>\n",
       "    </tr>\n",
       "  </thead>\n",
       "  <tbody>\n",
       "    <tr>\n",
       "      <th>68</th>\n",
       "      <td>313947446</td>\n",
       "      <td>156973723</td>\n",
       "      <td>68</td>\n",
       "      <td>MULTIPOLYGON (((-74.00558 40.70515, -74.00555 ...</td>\n",
       "      <td>160.0</td>\n",
       "      <td>169.0</td>\n",
       "      <td>{'building:colour': '#7B8378', 'building:mater...</td>\n",
       "    </tr>\n",
       "    <tr>\n",
       "      <th>68</th>\n",
       "      <td>136625104</td>\n",
       "      <td>68312552</td>\n",
       "      <td>68</td>\n",
       "      <td>MULTIPOLYGON (((-74.00576 40.70511, -74.00565 ...</td>\n",
       "      <td>0.0</td>\n",
       "      <td>160.0</td>\n",
       "      <td>{'building:colour': '#476467', 'building:level...</td>\n",
       "    </tr>\n",
       "    <tr>\n",
       "      <th>69</th>\n",
       "      <td>136625190</td>\n",
       "      <td>68312595</td>\n",
       "      <td>69</td>\n",
       "      <td>MULTIPOLYGON (((-74.00526 40.70739, -74.00512 ...</td>\n",
       "      <td>0.0</td>\n",
       "      <td>30.0</td>\n",
       "      <td>{'addr:city': 'New York', 'building': 'yes', '...</td>\n",
       "    </tr>\n",
       "    <tr>\n",
       "      <th>69</th>\n",
       "      <td>314002162</td>\n",
       "      <td>157001081</td>\n",
       "      <td>69</td>\n",
       "      <td>MULTIPOLYGON (((-74.00515 40.70737, -74.00504 ...</td>\n",
       "      <td>0.0</td>\n",
       "      <td>107.0</td>\n",
       "      <td>{'building:colour': '#99AB9D', 'building:level...</td>\n",
       "    </tr>\n",
       "    <tr>\n",
       "      <th>69</th>\n",
       "      <td>314002146</td>\n",
       "      <td>157001073</td>\n",
       "      <td>69</td>\n",
       "      <td>MULTIPOLYGON (((-74.00483 40.70750, -74.00474 ...</td>\n",
       "      <td>0.0</td>\n",
       "      <td>113.0</td>\n",
       "      <td>{'building:material': 'concrete', 'building:pa...</td>\n",
       "    </tr>\n",
       "  </tbody>\n",
       "</table>\n",
       "</div>"
      ],
      "text/plain": [
       "                    id    orig_id  building_id  \\\n",
       "building_id                                      \n",
       "68           313947446  156973723           68   \n",
       "68           136625104   68312552           68   \n",
       "69           136625190   68312595           69   \n",
       "69           314002162  157001081           69   \n",
       "69           314002146  157001073           69   \n",
       "\n",
       "                                                      geometry  min_height  \\\n",
       "building_id                                                                  \n",
       "68           MULTIPOLYGON (((-74.00558 40.70515, -74.00555 ...       160.0   \n",
       "68           MULTIPOLYGON (((-74.00576 40.70511, -74.00565 ...         0.0   \n",
       "69           MULTIPOLYGON (((-74.00526 40.70739, -74.00512 ...         0.0   \n",
       "69           MULTIPOLYGON (((-74.00515 40.70737, -74.00504 ...         0.0   \n",
       "69           MULTIPOLYGON (((-74.00483 40.70750, -74.00474 ...         0.0   \n",
       "\n",
       "             height                                               tags  \n",
       "building_id                                                             \n",
       "68            169.0  {'building:colour': '#7B8378', 'building:mater...  \n",
       "68            160.0  {'building:colour': '#476467', 'building:level...  \n",
       "69             30.0  {'addr:city': 'New York', 'building': 'yes', '...  \n",
       "69            107.0  {'building:colour': '#99AB9D', 'building:level...  \n",
       "69            113.0  {'building:material': 'concrete', 'building:pa...  "
      ]
     },
     "execution_count": 2,
     "metadata": {},
     "output_type": "execute_result"
    }
   ],
   "source": [
    "df_buildings = OSM.create_dataframe('osm_pbf_files/nyc.osm.pbf', [40.699768, -74.019904, 40.71135, -74.004712])\n"
   ]
  },
  {
   "cell_type": "code",
   "execution_count": 5,
   "metadata": {},
   "outputs": [
    {
     "data": {
      "text/plain": [
       "building_id\n",
       "80    MULTIPOLYGON (((-74.01088 40.71029, -74.01086 ...\n",
       "Name: geometry, dtype: geometry"
      ]
     },
     "execution_count": 5,
     "metadata": {},
     "output_type": "execute_result"
    }
   ],
   "source": [
    "df_buildings.iloc[[49]]['geometry']"
   ]
  },
  {
   "cell_type": "code",
   "execution_count": null,
   "metadata": {},
   "outputs": [],
   "source": [
    "# df_buildings = OSM.create_dataframe('osm_pbf_files/greenland-latest.osm.pbf')\n",
    "# df_buildings = OSM.create_dataframe('osm_pbf_files/nyc.osm.pbf', [40.699768, -74.019904, 40.71135, -74.004712])\n",
    "# df_merged_buildings = OSM.merge_buildings(df_buildings)\n",
    "\n",
    "# df_mesh = Mesh.create_mesh(df_merged_buildings, 5) #gdf, size\n",
    "\n",
    "# df_mesh.to_pickle('buildings_nyc_5.pkl.zip')\n",
    "\n",
    "df_mesh = pd.read_pickle('./osm_pbf_files/buildings.pkl.zip')\n",
    "\n",
    "# coords, indices, ids, colors, normals = Mesh.get_coordinates(df_mesh, True)\n",
    "\n",
    "# json_mesh = Mesh.gdf_to_json(df_mesh.iloc[[49, 50, 51]])\n",
    "json_mesh = Mesh.gdf_to_json(df_mesh)\n",
    "\n",
    "with open(\"buildings.json\", \"w\") as outfile:\n",
    "    json.dump(json_mesh, outfile, indent=4)\n",
    "\n",
    "# urban_component = new UrbanComponent(layers = loaded, bbox = bbox, camera = cam)"
   ]
  },
  {
   "cell_type": "code",
   "execution_count": null,
   "metadata": {},
   "outputs": [],
   "source": [
    "# uc.view(width='100%',height='800px')\n",
    "Mesh.view(df_mesh)\n"
   ]
  },
  {
   "cell_type": "code",
   "execution_count": null,
   "metadata": {},
   "outputs": [],
   "source": [
    "# uc = OSM.load_from_bbox([40.699768, -74.019904, 40.71135, -74.004712]) # An error regarding the coastline is emitted when using this bbox TODO: fix\n",
    "uc = OSM.load_from_bbox([40.728641,-74.000280,40.732836,-73.994486]) # loads UrbanComponent containing all layers\n",
    "uc.to_file('./uc_data/index.json')"
   ]
  }
 ],
 "metadata": {
  "kernelspec": {
   "display_name": "Python 3.10.6 ('urbantk')",
   "language": "python",
   "name": "python3"
  },
  "language_info": {
   "codemirror_mode": {
    "name": "ipython",
    "version": 3
   },
   "file_extension": ".py",
   "mimetype": "text/x-python",
   "name": "python",
   "nbconvert_exporter": "python",
   "pygments_lexer": "ipython3",
   "version": "3.10.6"
  },
  "orig_nbformat": 4,
  "vscode": {
   "interpreter": {
    "hash": "417a5b75eced6a10a6aab538a5d6d1aa2801868f4335db3e9395b85b77ab2694"
   }
  }
 },
 "nbformat": 4,
 "nbformat_minor": 2
}
