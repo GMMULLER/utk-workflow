{
 "cells": [
  {
   "cell_type": "code",
   "execution_count": null,
   "metadata": {},
   "outputs": [],
   "source": [
    "from loader import *\n",
    "from urbanComponent import *\n",
    "import geopandas as gpd\n",
    "import pandas as pd\n",
    "# import sys\n",
    "# sys.path.insert(0,'../../')"
   ]
  },
  {
   "cell_type": "code",
   "execution_count": null,
   "metadata": {},
   "outputs": [],
   "source": [
    "# df_buildings = OSM.create_dataframe('osm_pbf_files/greenland-latest.osm.pbf')\n",
    "# df_buildings = OSM.create_dataframe('osm_pbf_files/nyc.osm.pbf', [40.699768, -74.019904, 40.71135, -74.004712])\n",
    "# df_merged_buildings = OSM.merge_buildings(df_buildings)\n",
    "\n",
    "# df_mesh = Mesh.create_mesh(df_merged_buildings, 5) #gdf, size\n",
    "\n",
    "# df_mesh.to_pickle('buildings_nyc_5.pkl.zip')\n",
    "\n",
    "# df_mesh = pd.read_pickle('buildings_nyc_5.pkl.zip')\n",
    "\n",
    "# print(df_mesh.head())\n",
    "\n",
    "# coords, indices, ids, colors, normals = Mesh.get_coordinates(df_mesh, True)\n",
    "# print(indices)\n",
    "\n",
    "# print(df_mesh)\n",
    "\n",
    "# json_mesh = Mesh.gdf_to_json(df_mesh)\n",
    "\n",
    "# with open(\"buildings.json\", \"w\") as outfile:\n",
    "#     json.dump(json_mesh, outfile, indent=4)\n",
    "\n",
    "# urban_component = new UrbanComponent(layers = loaded, bbox = bbox, camera = cam)"
   ]
  },
  {
   "cell_type": "code",
   "execution_count": null,
   "metadata": {},
   "outputs": [],
   "source": [
    "# uc.view(width='100%',height='800px')\n",
    "Mesh.view(df_mesh)\n"
   ]
  },
  {
   "cell_type": "code",
   "execution_count": null,
   "metadata": {},
   "outputs": [],
   "source": [
    "uc = OSM.load_from_bbox([40.699768, -74.019904, 40.71135, -74.004712]) # loads UrbanComponent containing all layers\n"
   ]
  }
 ],
 "metadata": {
  "kernelspec": {
   "display_name": "Python 3.10.6 ('urbantk')",
   "language": "python",
   "name": "python3"
  },
  "language_info": {
   "codemirror_mode": {
    "name": "ipython",
    "version": 3
   },
   "file_extension": ".py",
   "mimetype": "text/x-python",
   "name": "python",
   "nbconvert_exporter": "python",
   "pygments_lexer": "ipython3",
   "version": "3.10.6"
  },
  "orig_nbformat": 4,
  "vscode": {
   "interpreter": {
    "hash": "417a5b75eced6a10a6aab538a5d6d1aa2801868f4335db3e9395b85b77ab2694"
   }
  }
 },
 "nbformat": 4,
 "nbformat_minor": 2
}
