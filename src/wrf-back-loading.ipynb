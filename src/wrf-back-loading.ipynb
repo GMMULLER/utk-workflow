{
 "cells": [
  {
   "cell_type": "code",
   "execution_count": 1,
   "metadata": {},
   "outputs": [
    {
     "name": "stderr",
     "output_type": "stream",
     "text": [
      "c:\\Users\\carolvfs.DESKTOP-KU8924H\\anaconda3\\envs\\env_ejust\\lib\\site-packages\\geopandas\\_compat.py:124: UserWarning: The Shapely GEOS version (3.10.3-CAPI-1.16.1) is incompatible with the GEOS version PyGEOS was compiled with (3.10.4-CAPI-1.16.2). Conversions between both will be slow.\n",
      "  warnings.warn(\n"
     ]
    },
    {
     "name": "stdout",
     "output_type": "stream",
     "text": [
      "********************************************************************************\n",
      "PlotOptiX newer version is available: 0.17.0\n",
      "to update your release use:\n",
      "      pip install plotoptix --upgrade\n",
      "********************************************************************************\n"
     ]
    }
   ],
   "source": [
    "import utk"
   ]
  },
  {
   "cell_type": "code",
   "execution_count": 2,
   "metadata": {},
   "outputs": [
    {
     "name": "stdout",
     "output_type": "stream",
     "text": [
      "small poly\n",
      "small poly\n",
      "small poly\n"
     ]
    },
    {
     "name": "stderr",
     "output_type": "stream",
     "text": [
      "Exception ignored in: <function BaseGeometry.__del__ at 0x000001ABB974BC70>\n",
      "Traceback (most recent call last):\n",
      "  File \"c:\\Users\\carolvfs.DESKTOP-KU8924H\\anaconda3\\envs\\env_ejust\\lib\\site-packages\\shapely\\geometry\\base.py\", line 209, in __del__\n",
      "    self._empty(val=None)\n",
      "  File \"c:\\Users\\carolvfs.DESKTOP-KU8924H\\anaconda3\\envs\\env_ejust\\lib\\site-packages\\shapely\\geometry\\base.py\", line 194, in _empty\n",
      "    self._lgeos.GEOSGeom_destroy(self.__geom__)\n",
      "KeyboardInterrupt: \n"
     ]
    }
   ],
   "source": [
    "uc = utk.OSM.load([41.606732, -87.991546, 42.0508393, -87.473816], layers=['water', 'parks'])\n",
    "uc.save('../examples/wrf_chicago', includeGrammar=False)"
   ]
  }
 ],
 "metadata": {
  "kernelspec": {
   "display_name": "env_ejust",
   "language": "python",
   "name": "python3"
  },
  "language_info": {
   "codemirror_mode": {
    "name": "ipython",
    "version": 3
   },
   "file_extension": ".py",
   "mimetype": "text/x-python",
   "name": "python",
   "nbconvert_exporter": "python",
   "pygments_lexer": "ipython3",
   "version": "3.10.9"
  },
  "orig_nbformat": 4
 },
 "nbformat": 4,
 "nbformat_minor": 2
}
