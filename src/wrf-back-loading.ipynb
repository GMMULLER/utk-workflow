{
 "cells": [
  {
   "cell_type": "code",
   "execution_count": null,
   "metadata": {},
   "outputs": [],
   "source": [
    "import utk"
   ]
  },
  {
   "cell_type": "code",
   "execution_count": null,
   "metadata": {},
   "outputs": [],
   "source": [
    "# uc = utk.OSM.load([41.606732, -87.991546, 42.0508393, -87.473816], layers=['water', 'parks'])\n",
    "# uc.save('../examples/wrf_chicago', includeGrammar=False)\n",
    "\n",
    "# uc = utk.OSM.load([40.69148715199567, -74.07627262129103, 40.92009595273235, -73.75248712955468], layers=['water', 'parks'])\n",
    "\n",
    "uc = utk.OSM.load([41.88043474773062, -87.62760230820301, 41.89666220782541, -87.59872148227429], layers=['buildings'])\n",
    "gdf = uc.layers['gdf']['objects'][0]\n",
    "\n",
    "print(gdf)\n",
    "\n",
    "# print(uc.layers['gdf']['objects'][0].to_json())\n",
    "\n",
    "# uc.save('../examples/wrf_temp_building', includeGrammar=False)"
   ]
  }
 ],
 "metadata": {
  "kernelspec": {
   "display_name": "env_ejust",
   "language": "python",
   "name": "python3"
  },
  "language_info": {
   "codemirror_mode": {
    "name": "ipython",
    "version": 3
   },
   "file_extension": ".py",
   "mimetype": "text/x-python",
   "name": "python",
   "nbconvert_exporter": "python",
   "pygments_lexer": "ipython3",
   "version": "3.10.6"
  },
  "orig_nbformat": 4
 },
 "nbformat": 4,
 "nbformat_minor": 2
}
