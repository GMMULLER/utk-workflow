{
 "cells": [
  {
   "cell_type": "code",
   "execution_count": 3,
   "metadata": {},
   "outputs": [],
   "source": [
    "import utk"
   ]
  },
  {
   "cell_type": "code",
   "execution_count": 5,
   "metadata": {},
   "outputs": [
    {
     "ename": "IndexError",
     "evalue": "list index out of range",
     "output_type": "error",
     "traceback": [
      "\u001b[1;31m---------------------------------------------------------------------------\u001b[0m",
      "\u001b[1;31mIndexError\u001b[0m                                Traceback (most recent call last)",
      "\u001b[1;32mc:\\Users\\carolvfs.DESKTOP-KU8924H\\Documents\\GitHub\\utk-ejust\\src\\wrf-back-loading.ipynb Cell 2\u001b[0m line \u001b[0;36m5\n\u001b[0;32m      <a href='vscode-notebook-cell:/c%3A/Users/carolvfs.DESKTOP-KU8924H/Documents/GitHub/utk-ejust/src/wrf-back-loading.ipynb#W1sZmlsZQ%3D%3D?line=0'>1</a>\u001b[0m \u001b[39m# uc = utk.OSM.load([41.606732, -87.991546, 42.0508393, -87.473816], layers=['water', 'parks'])\u001b[39;00m\n\u001b[0;32m      <a href='vscode-notebook-cell:/c%3A/Users/carolvfs.DESKTOP-KU8924H/Documents/GitHub/utk-ejust/src/wrf-back-loading.ipynb#W1sZmlsZQ%3D%3D?line=1'>2</a>\u001b[0m \u001b[39m# uc.save('../examples/wrf_chicago', includeGrammar=False)\u001b[39;00m\n\u001b[0;32m      <a href='vscode-notebook-cell:/c%3A/Users/carolvfs.DESKTOP-KU8924H/Documents/GitHub/utk-ejust/src/wrf-back-loading.ipynb#W1sZmlsZQ%3D%3D?line=3'>4</a>\u001b[0m uc \u001b[39m=\u001b[39m utk\u001b[39m.\u001b[39mOSM\u001b[39m.\u001b[39mload([\u001b[39m40.69148715199567\u001b[39m, \u001b[39m-\u001b[39m\u001b[39m74.07627262129103\u001b[39m, \u001b[39m40.92009595273235\u001b[39m, \u001b[39m-\u001b[39m\u001b[39m73.75248712955468\u001b[39m], layers\u001b[39m=\u001b[39m[\u001b[39m'\u001b[39m\u001b[39mavgTempBuildings\u001b[39m\u001b[39m'\u001b[39m, \u001b[39m'\u001b[39m\u001b[39mwrfToSurface_250m\u001b[39m\u001b[39m'\u001b[39m])\n\u001b[1;32m----> <a href='vscode-notebook-cell:/c%3A/Users/carolvfs.DESKTOP-KU8924H/Documents/GitHub/utk-ejust/src/wrf-back-loading.ipynb#W1sZmlsZQ%3D%3D?line=4'>5</a>\u001b[0m uc\u001b[39m.\u001b[39;49msave(\u001b[39m'\u001b[39;49m\u001b[39m../examples/wrf_temp_building\u001b[39;49m\u001b[39m'\u001b[39;49m, includeGrammar\u001b[39m=\u001b[39;49m\u001b[39mFalse\u001b[39;49;00m)\n",
      "File \u001b[1;32mc:\\Users\\carolvfs.DESKTOP-KU8924H\\Documents\\GitHub\\utk-ejust\\src\\utk\\urban_component.py:237\u001b[0m, in \u001b[0;36mUrbanComponent.save\u001b[1;34m(self, dir, includeGrammar)\u001b[0m\n\u001b[0;32m    234\u001b[0m types \u001b[39m=\u001b[39m []\n\u001b[0;32m    235\u001b[0m dataTypes \u001b[39m=\u001b[39m []\n\u001b[1;32m--> 237\u001b[0m \u001b[39mif\u001b[39;00m(\u001b[39m'\u001b[39m\u001b[39mcoordinates\u001b[39m\u001b[39m'\u001b[39m \u001b[39min\u001b[39;00m layer[\u001b[39m'\u001b[39;49m\u001b[39mdata\u001b[39;49m\u001b[39m'\u001b[39;49m][\u001b[39m0\u001b[39;49m][\u001b[39m'\u001b[39m\u001b[39mgeometry\u001b[39m\u001b[39m'\u001b[39m]):\n\u001b[0;32m    238\u001b[0m     types\u001b[39m.\u001b[39mappend(\u001b[39m\"\u001b[39m\u001b[39mcoordinates\u001b[39m\u001b[39m\"\u001b[39m)\n\u001b[0;32m    239\u001b[0m     dataTypes\u001b[39m.\u001b[39mappend(\u001b[39m\"\u001b[39m\u001b[39md\u001b[39m\u001b[39m\"\u001b[39m)\n",
      "\u001b[1;31mIndexError\u001b[0m: list index out of range"
     ]
    }
   ],
   "source": [
    "# uc = utk.OSM.load([41.606732, -87.991546, 42.0508393, -87.473816], layers=['water', 'parks'])\n",
    "# uc.save('../examples/wrf_chicago', includeGrammar=False)\n",
    "\n",
    "uc = utk.OSM.load([40.69148715199567, -74.07627262129103, 40.92009595273235, -73.75248712955468], layers=['water', 'parks'])\n",
    "uc.save('../examples/wrf_temp_building', includeGrammar=False)"
   ]
  }
 ],
 "metadata": {
  "kernelspec": {
   "display_name": "env_ejust",
   "language": "python",
   "name": "python3"
  },
  "language_info": {
   "codemirror_mode": {
    "name": "ipython",
    "version": 3
   },
   "file_extension": ".py",
   "mimetype": "text/x-python",
   "name": "python",
   "nbconvert_exporter": "python",
   "pygments_lexer": "ipython3",
   "version": "3.10.9"
  },
  "orig_nbformat": 4
 },
 "nbformat": 4,
 "nbformat_minor": 2
}
