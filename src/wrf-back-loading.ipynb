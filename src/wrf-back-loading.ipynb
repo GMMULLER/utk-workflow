{
 "cells": [
  {
   "cell_type": "code",
   "execution_count": 1,
   "metadata": {},
   "outputs": [
    {
     "name": "stderr",
     "output_type": "stream",
     "text": [
      "c:\\Users\\Gustavo\\anaconda3\\envs\\test\\lib\\site-packages\\geopandas\\_compat.py:124: UserWarning: The Shapely GEOS version (3.10.3-CAPI-1.16.1) is incompatible with the GEOS version PyGEOS was compiled with (3.10.4-CAPI-1.16.2). Conversions between both will be slow.\n",
      "  warnings.warn(\n"
     ]
    },
    {
     "name": "stdout",
     "output_type": "stream",
     "text": [
      "********************************************************************************\n",
      "PlotOptiX newer version is available: 0.18.1\n",
      "to update your release use:\n",
      "      pip install plotoptix --upgrade\n",
      "********************************************************************************\n"
     ]
    }
   ],
   "source": [
    "import utk"
   ]
  },
  {
   "cell_type": "code",
   "execution_count": 2,
   "metadata": {},
   "outputs": [
    {
     "name": "stdout",
     "output_type": "stream",
     "text": [
      "dict_keys(['coordinates', 'indices', 'normals', 'ids', 'orientedEnvelope', 'sectionFootprint'])\n"
     ]
    }
   ],
   "source": [
    "uc = utk.OSM.load([41.88043474773062, -87.62760230820301, 41.8833791797941, -87.62447341834199], layers=['buildings'])\n",
    "gdf = uc.layers['gdf']['sections'][0]\n",
    "\n",
    "mesh = utk.OSM.mesh_from_buildings_gdf(gdf, 5)['data']\n",
    "\n",
    "print(mesh[0]['geometry'].keys())\n",
    "\n",
    "# print(\"gdf['building_id'].max()\", gdf['building_id'].max())\n",
    "# print(\"len(mesh)\", len(mesh))\n",
    "\n",
    "# utk.OSM.mesh_from_buildings_gdf(gdf)['data']\n",
    "\n",
    "# uc = utk.OSM.load([41.88043474773062, -87.62760230820301, 41.89666220782541, -87.59872148227429], layers=['water'])\n",
    "# gdf = uc.layers['gdf']['objects'][0]\n",
    "\n",
    "# print(gdf.head())\n"
   ]
  },
  {
   "cell_type": "code",
   "execution_count": 3,
   "metadata": {},
   "outputs": [],
   "source": [
    "# print(len(gdf['building_id'].unique()))"
   ]
  }
 ],
 "metadata": {
  "kernelspec": {
   "display_name": "env_ejust",
   "language": "python",
   "name": "python3"
  },
  "language_info": {
   "codemirror_mode": {
    "name": "ipython",
    "version": 3
   },
   "file_extension": ".py",
   "mimetype": "text/x-python",
   "name": "python",
   "nbconvert_exporter": "python",
   "pygments_lexer": "ipython3",
   "version": "3.10.4"
  },
  "orig_nbformat": 4
 },
 "nbformat": 4,
 "nbformat_minor": 2
}
