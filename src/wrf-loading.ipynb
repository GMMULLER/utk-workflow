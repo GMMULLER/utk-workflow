{
 "cells": [
  {
   "cell_type": "code",
   "execution_count": 1,
   "metadata": {},
   "outputs": [
    {
     "name": "stderr",
     "output_type": "stream",
     "text": [
      "c:\\Users\\carolvfs.DESKTOP-KU8924H\\anaconda3\\envs\\env_utk082\\lib\\site-packages\\geopandas\\_compat.py:124: UserWarning: The Shapely GEOS version (3.10.3-CAPI-1.16.1) is incompatible with the GEOS version PyGEOS was compiled with (3.10.4-CAPI-1.16.2). Conversions between both will be slow.\n",
      "  warnings.warn(\n"
     ]
    },
    {
     "name": "stdout",
     "output_type": "stream",
     "text": [
      "********************************************************************************\n",
      "PlotOptiX newer version is available: 0.17.0\n",
      "to update your release use:\n",
      "      pip install plotoptix --upgrade\n",
      "********************************************************************************\n"
     ]
    }
   ],
   "source": [
    "import utk"
   ]
  },
  {
   "cell_type": "code",
   "execution_count": 2,
   "metadata": {},
   "outputs": [
    {
     "data": {
      "text/plain": [
       "{'objects':     objectid    shape_area     shape_len    zip  \\\n",
       " 0       33.0  1.060523e+08  42720.044406  60647   \n",
       " 1       34.0  1.274761e+08  48103.782721  60639   \n",
       " 2       35.0  4.506904e+07  27288.609612  60707   \n",
       " 3       36.0  7.085383e+07  42527.989679  60622   \n",
       " 4       37.0  9.903962e+07  47970.140153  60651   \n",
       " ..       ...           ...           ...    ...   \n",
       " 56      57.0  1.552855e+08  53406.915617  60623   \n",
       " 57      58.0  2.111148e+08  58701.325375  60629   \n",
       " 58      59.0  2.116961e+08  58466.160298  60620   \n",
       " 59      60.0  1.254243e+08  52377.854541  60637   \n",
       " 60      61.0  1.678720e+08  53040.907078  60619   \n",
       " \n",
       "                                              geometry  id  \n",
       " 0   POLYGON ((-9760228.181 5120114.708, -9760226.5...   0  \n",
       " 1   POLYGON ((-9765706.326 5120843.341, -9765717.1...   1  \n",
       " 2   POLYGON ((-9772181.764 5118831.519, -9772215.9...   2  \n",
       " 3   POLYGON ((-9759053.446 5115807.386, -9759053.4...   3  \n",
       " 4   POLYGON ((-9763449.188 5116805.817, -9763467.4...   4  \n",
       " ..                                                ...  ..  \n",
       " 56  POLYGON ((-9762139.685 5107055.000, -9762146.8...  56  \n",
       " 57  POLYGON ((-9760833.554 5096312.536, -9760833.3...  57  \n",
       " 58  POLYGON ((-9754228.915 5090933.835, -9754245.8...  58  \n",
       " 59  POLYGON ((-9749017.532 5101851.550, -9749027.0...  59  \n",
       " 60  POLYGON ((-9750019.820 5095367.709, -9750019.7...  60  \n",
       " \n",
       " [61 rows x 6 columns],\n",
       " 'coordinates':                                geometry     id\n",
       " 0      POINT (-9760228.181 5120114.708)      0\n",
       " 1      POINT (-9760226.554 5120053.511)      1\n",
       " 2      POINT (-9760226.356 5120046.830)      2\n",
       " 3      POINT (-9760225.856 5120029.812)      3\n",
       " 4      POINT (-9760225.524 5120000.438)      4\n",
       " ...                                 ...    ...\n",
       " 36167  POINT (-9750033.272 5095449.242)  36167\n",
       " 36168  POINT (-9750031.712 5095433.869)  36168\n",
       " 36169  POINT (-9750027.287 5095410.263)  36169\n",
       " 36170  POINT (-9750026.708 5095409.707)  36170\n",
       " 36171  POINT (-9750020.607 5095403.828)  36171\n",
       " \n",
       " [36172 rows x 2 columns],\n",
       " 'coordinates3d': None}"
      ]
     },
     "execution_count": 2,
     "metadata": {},
     "output_type": "execute_result"
    }
   ],
   "source": [
    "utk.physical_from_shapefile(\"../examples/temp/chicago_zip.shp\", \"zip\")"
   ]
  }
 ],
 "metadata": {
  "kernelspec": {
   "display_name": "env_ejust",
   "language": "python",
   "name": "python3"
  },
  "language_info": {
   "codemirror_mode": {
    "name": "ipython",
    "version": 3
   },
   "file_extension": ".py",
   "mimetype": "text/x-python",
   "name": "python",
   "nbconvert_exporter": "python",
   "pygments_lexer": "ipython3",
   "version": "3.10.9"
  },
  "orig_nbformat": 4
 },
 "nbformat": 4,
 "nbformat_minor": 2
}
