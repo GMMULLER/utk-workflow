{
 "cells": [
  {
   "cell_type": "code",
   "execution_count": 1,
   "metadata": {},
   "outputs": [
    {
     "name": "stderr",
     "output_type": "stream",
     "text": [
      "c:\\Users\\carolvfs.DESKTOP-KU8924H\\anaconda3\\envs\\env_ejust\\lib\\site-packages\\geopandas\\_compat.py:124: UserWarning: The Shapely GEOS version (3.10.3-CAPI-1.16.1) is incompatible with the GEOS version PyGEOS was compiled with (3.10.4-CAPI-1.16.2). Conversions between both will be slow.\n",
      "  warnings.warn(\n"
     ]
    },
    {
     "name": "stdout",
     "output_type": "stream",
     "text": [
      "********************************************************************************\n",
      "PlotOptiX newer version is available: 0.17.1\n",
      "to update your release use:\n",
      "      pip install plotoptix --upgrade\n",
      "********************************************************************************\n"
     ]
    }
   ],
   "source": [
    "import utk"
   ]
  },
  {
   "cell_type": "code",
   "execution_count": 2,
   "metadata": {},
   "outputs": [
    {
     "data": {
      "text/plain": [
       "{'objects':      STATEFP COUNTYFP TRACTCE              AFFGEOID        GEOID     NAME  \\\n",
       " 0         17      031  843800  1400000US17031843800  17031843800     8438   \n",
       " 1         17      031  243000  1400000US17031243000  17031243000     2430   \n",
       " 2         17      031  250600  1400000US17031250600  17031250600     2506   \n",
       " 3         17      031  251700  1400000US17031251700  17031251700     2517   \n",
       " 4         17      031  260400  1400000US17031260400  17031260400     2604   \n",
       " ...      ...      ...     ...                   ...          ...      ...   \n",
       " 1978      17      031  010701  1400000US17031010701  17031010701   107.01   \n",
       " 1979      17      031  020902  1400000US17031020902  17031020902   209.02   \n",
       " 1980      17      197  883507  1400000US17197883507  17197883507  8835.07   \n",
       " 1981      17      043  841323  1400000US17043841323  17043841323  8413.23   \n",
       " 1982      17      031  381900  1400000US17031381900  17031381900     3819   \n",
       " \n",
       "      LSAD     ALAND  AWATER  \\\n",
       " 0      CT   1309516       0   \n",
       " 1      CT    324548       0   \n",
       " 2      CT    647765       0   \n",
       " 3      CT    486655       0   \n",
       " 4      CT    328225       0   \n",
       " ...   ...       ...     ...   \n",
       " 1978   CT    429692       0   \n",
       " 1979   CT    501889       0   \n",
       " 1980   CT  94967905       0   \n",
       " 1981   CT   1266339   10942   \n",
       " 1982   CT    172690       0   \n",
       " \n",
       "                                                geometry    id  \n",
       " 0     POLYGON ((-9756656.660 5103898.471, -9756115.7...     0  \n",
       " 1     POLYGON ((-9760709.914 5116846.580, -9760437.2...     1  \n",
       " 2     POLYGON ((-9771135.096 5118847.337, -9771108.3...     2  \n",
       " 3     POLYGON ((-9768091.399 5116721.128, -9767890.2...     3  \n",
       " 4     POLYGON ((-9767240.361 5115651.871, -9766695.0...     4  \n",
       " ...                                                 ...   ...  \n",
       " 1978  POLYGON ((-9760791.623 5134245.761, -9760523.0...  1978  \n",
       " 1979  POLYGON ((-9760885.799 5131161.916, -9760682.0...  1979  \n",
       " 1980  POLYGON ((-9785699.693 5053551.559, -9783065.8...  1980  \n",
       " 1981  POLYGON ((-9815841.671 5123985.654, -9815660.3...  1981  \n",
       " 1982  POLYGON ((-9753418.710 5103163.178, -9753423.7...  1982  \n",
       " \n",
       " [1983 rows x 11 columns],\n",
       " 'coordinates':                                geometry     id\n",
       " 0      POINT (-9756656.660 5103898.471)      0\n",
       " 1      POINT (-9756115.759 5103911.565)      1\n",
       " 2      POINT (-9755576.973 5103925.551)      2\n",
       " 3      POINT (-9755552.816 5102842.566)      3\n",
       " 4      POINT (-9755523.873 5101758.217)      4\n",
       " ...                                 ...    ...\n",
       " 43858  POINT (-9752848.421 5103175.081)  43858\n",
       " 43859  POINT (-9752843.745 5102902.373)  43859\n",
       " 43860  POINT (-9753167.240 5102895.976)  43860\n",
       " 43861  POINT (-9753380.862 5102892.554)  43861\n",
       " 43862  POINT (-9753427.059 5102891.810)  43862\n",
       " \n",
       " [43863 rows x 2 columns],\n",
       " 'coordinates3d': None}"
      ]
     },
     "execution_count": 2,
     "metadata": {},
     "output_type": "execute_result"
    }
   ],
   "source": [
    "utk.physical_from_shapefile(\"../examples/wrf_chicago/cb_2018_17_tract_500k/cb_2018_17_tract_500k.shp\", \"cb_zip\")"
   ]
  }
 ],
 "metadata": {
  "kernelspec": {
   "display_name": "env_ejust",
   "language": "python",
   "name": "python3"
  },
  "language_info": {
   "codemirror_mode": {
    "name": "ipython",
    "version": 3
   },
   "file_extension": ".py",
   "mimetype": "text/x-python",
   "name": "python",
   "nbconvert_exporter": "python",
   "pygments_lexer": "ipython3",
   "version": "3.10.9"
  },
  "orig_nbformat": 4
 },
 "nbformat": 4,
 "nbformat_minor": 2
}
